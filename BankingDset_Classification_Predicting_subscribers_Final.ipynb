{
 "cells": [
  {
   "cell_type": "markdown",
   "metadata": {},
   "source": [
    "##  Classification Problem using Bank Marketing Data\n",
    "#### Prepared By : Kisha Taylor\n",
    "#### Date : September 17th 2019 "
   ]
  },
  {
   "cell_type": "markdown",
   "metadata": {},
   "source": [
    "This is a Machine Learning project using Python where we are predicting if customers will subscribe (Yes/No) to a bank term deposit based on their customer attributes. Since, the target variable is discrete this will be a classification problem.\n",
    "\n",
    "- Imbalanced Classes addressed using an over-sampling technique called SMOTE.\n",
    "- Performance metric used : AUC.\n"
   ]
  },
  {
   "cell_type": "markdown",
   "metadata": {},
   "source": [
    "# ML Pipeline / Methodology for Model Building\n",
    "### Steps : \n",
    " 1. Problem Definition\n",
    " \n",
    " 2. Data Collection \n",
    "     - Dataset : Boston Housing Market readily available\n",
    "     \n",
    " 3. Data Preparation \n",
    " \n",
    "     (i)   Data Exloration & Analysis\n",
    "     \n",
    "     (ii)  Data Cleaning\n",
    "     \n",
    "     (iii) Split into Train and Test\n",
    "     \n",
    "     (iv)  Feature Generation &/Or Feature Selection\n",
    "           - For Logistic Regression we drop redundant features using VIF\n",
    "             & we subset features based on Feature Importance ranking using Random Forest\n",
    "             Both subset of features are used to train the Logistic Regression model.\n",
    "             \n",
    "           - Note,however, all other models are trained with all features. \n",
    "      \n",
    "      (v)  Data Preprocessing\n",
    "     \n",
    "           - Scale features where appropriate\n",
    "           \n",
    " 4. Train Model\n",
    " \n",
    " 5. Validate Model & Tune Model hyperparameters\n",
    " \n",
    " 6. Test Model assumptions \n",
    "       (Eg. assumptions of logistic regression model)\n",
    "       \n",
    " 7. Select best model \n",
    " \n",
    " 8. Report results\n",
    " \n",
    " 9. Conclusion"
   ]
  },
  {
   "cell_type": "markdown",
   "metadata": {},
   "source": [
    "## List of models used :\n",
    "    1. Logistic Regression \n",
    "              - using subset of features\n",
    "    \n",
    "    2. Decision Tree\n",
    "              - using all features\n",
    "    \n",
    "   **_Ensemble Models_** :\n",
    "    3. Random Forest\n",
    "              - using all features\n",
    "              \n",
    "    4. Gradient Boosted Tree\n",
    "              - using all features\n",
    "    5. Extreme Gradient Boosted Tree (XGBoost)\n",
    "    "
   ]
  },
  {
   "cell_type": "markdown",
   "metadata": {},
   "source": [
    "##### Dataset Information (taken directly from website, see below :):"
   ]
  },
  {
   "cell_type": "markdown",
   "metadata": {},
   "source": [
    "Bank Marketing dataset:  https://archive.ics.uci.edu/ml/datasets/Bank%2BMarketing\n",
    "        \n",
    "\"Data Set Information:\n",
    "\n",
    "The data is related with direct marketing campaigns of a Portuguese banking institution. The marketing campaigns were based on phone calls. Often, more than one contact to the same client was required, in order to access if the product (bank term deposit) would be ('yes') or not ('no') subscribed.\n",
    "\n",
    "There are four datasets:\n",
    "1) bank-additional-full.csv with all examples (41188) and 20 inputs, ordered by date (from May 2008 to November 2010), very close to the data analyzed in [Moro et al., 2014]\n",
    "2) bank-additional.csv with 10% of the examples (4119), randomly selected from 1), and 20 inputs.\n",
    "3) bank-full.csv with all examples and 17 inputs, ordered by date (older version of this dataset with less inputs).\n",
    "4) bank.csv with 10% of the examples and 17 inputs, randomly selected from 3 (older version of this dataset with less inputs).\n",
    "The smallest datasets are provided to test more computationally demanding machine learning algorithms (e.g., SVM).\n",
    "\n",
    "The classification goal is to predict if the client will subscribe (yes/no) a term deposit (variable y).\n",
    "\n",
    "\n",
    "Attribute Information:\n",
    "\n",
    "Input variables:\n",
    "##### bank client data:\n",
    "1 - age (numeric)\n",
    "2 - job : type of job (categorical: 'admin.','blue-collar','entrepreneur','housemaid','management','retired','self-employed','services','student','technician','unemployed','unknown')\n",
    "3 - marital : marital status (categorical: 'divorced','married','single','unknown'; note: 'divorced' means divorced or widowed)\n",
    "4 - education (categorical: 'basic.4y','basic.6y','basic.9y','high.school','illiterate','professional.course','university.degree','unknown')\n",
    "5 - default: has credit in default? (categorical: 'no','yes','unknown')\n",
    "6 - housing: has housing loan? (categorical: 'no','yes','unknown')\n",
    "7 - loan: has personal loan? (categorical: 'no','yes','unknown')\n",
    "##### related with the last contact of the current campaign:\n",
    "8 - contact: contact communication type (categorical: 'cellular','telephone')\n",
    "9 - month: last contact month of year (categorical: 'jan', 'feb', 'mar', ..., 'nov', 'dec')\n",
    "10 - day_of_week: last contact day of the week (categorical: 'mon','tue','wed','thu','fri')\n",
    "11 - duration: last contact duration, in seconds (numeric). Important note: this attribute highly affects the output target (e.g., if duration=0 then y='no'). Yet, the duration is not known before a call is performed. Also, after the end of the call y is obviously known. Thus, this input should only be included for benchmark purposes and should be discarded if the intention is to have a realistic predictive model.\n",
    "##### other attributes:\n",
    "12 - campaign: number of contacts performed during this campaign and for this client (numeric, includes last contact)\n",
    "13 - pdays: number of days that passed by after the client was last contacted from a previous campaign (numeric; 999 means client was not previously contacted)\n",
    "14 - previous: number of contacts performed before this campaign and for this client (numeric)\n",
    "15 - poutcome: outcome of the previous marketing campaign (categorical: 'failure','nonexistent','success')\n",
    "##### social and economic context attributes\n",
    "16 - emp.var.rate: employment variation rate - quarterly indicator (numeric)\n",
    "17 - cons.price.idx: consumer price index - monthly indicator (numeric)\n",
    "18 - cons.conf.idx: consumer confidence index - monthly indicator (numeric)\n",
    "19 - euribor3m: euribor 3 month rate - daily indicator (numeric)\n",
    "20 - nr.employed: number of employees - quarterly indicator (numeric)\n",
    "\n",
    "#### Output variable (desired target):\n",
    "21 - y - has the client subscribed a term deposit? (binary: 'yes','no')\""
   ]
  },
  {
   "cell_type": "markdown",
   "metadata": {},
   "source": [
    "# 1. Problem Definition :\n",
    "    \n",
    "Predict whether or not a client will subscribe to a term deposit when offered based\n",
    "on attributes related to the specfic client's personal profile, social and economic conditions etc."
   ]
  },
  {
   "cell_type": "markdown",
   "metadata": {},
   "source": [
    "# 2. Data Collection\n",
    "We collected our real-world data from the following source :\n",
    "Bank Marketing dataset:  https://archive.ics.uci.edu/ml/datasets/Bank%2BMarketing\n",
    "    "
   ]
  },
  {
   "cell_type": "code",
   "execution_count": 1,
   "metadata": {},
   "outputs": [],
   "source": [
    "path = \"C:/Users/Kisha/Documents/Datasets/bank-full.csv\""
   ]
  },
  {
   "cell_type": "markdown",
   "metadata": {},
   "source": [
    "We will be importing the usual basic modules used in a typical data science project."
   ]
  },
  {
   "cell_type": "code",
   "execution_count": 2,
   "metadata": {},
   "outputs": [],
   "source": [
    "%matplotlib inline\n",
    "import matplotlib.pyplot as plt\n",
    "import numpy as np\n",
    "import os\n",
    "import pandas as pd\n",
    "import seaborn as sns\n",
    "import sklearn"
   ]
  },
  {
   "cell_type": "code",
   "execution_count": 3,
   "metadata": {},
   "outputs": [],
   "source": [
    "#loading our data into a dataframe\n",
    "df = pd.read_csv(path,\";\")"
   ]
  },
  {
   "cell_type": "markdown",
   "metadata": {},
   "source": [
    "# 3. Data Preparation "
   ]
  },
  {
   "cell_type": "markdown",
   "metadata": {},
   "source": [
    "###      (i)   Data Exploration\n",
    "#### We now explore and analyze the data to help us understand the data, this is key before we can think about extracting insights."
   ]
  },
  {
   "cell_type": "markdown",
   "metadata": {},
   "source": [
    "#### What do we need to understand about the data?\n",
    "-\tWhat is the structure and size of the dataset.\n",
    "Eg. How many different features and rows or how fat/slim and short/tall ?\n",
    "Width (fat or slim) is in reference to the number of features (columns in the datset).\n",
    "The height of the dataset refers to the number of rows. So, a short and fat dataset has fewer rows than columns.\n",
    "-\tWhat kinds of variables are there ? Numeric or categorical\n",
    "-\tWhat are the values of the features?\n",
    "-\tHow is each feature distributed ? Eg Normal distribution \n",
    "-\tBasic descriptive statistics for each variable. Eg. Min, Max, Std Dev.  \n",
    "-\tWhich variable is the target variable ? \n",
    "Is it categorical or numeric ?\n",
    "\tIf categorical/discrete, how many in each class, is it an imbalanced class problem \n",
    "      (meaning significantly more instances belonging to a particular class versus another)?\n",
    "#### Note : In our case, our target variable is discrete as we are performing classification."
   ]
  },
  {
   "cell_type": "markdown",
   "metadata": {},
   "source": [
    "#### Dataset structure"
   ]
  },
  {
   "cell_type": "markdown",
   "metadata": {},
   "source": [
    "Number of rows & columns respectively (fairly tall and thin)"
   ]
  },
  {
   "cell_type": "code",
   "execution_count": 4,
   "metadata": {},
   "outputs": [
    {
     "data": {
      "text/plain": [
       "(45211, 17)"
      ]
     },
     "execution_count": 4,
     "metadata": {},
     "output_type": "execute_result"
    }
   ],
   "source": [
    "df.shape"
   ]
  },
  {
   "cell_type": "markdown",
   "metadata": {},
   "source": [
    "Viewing entire dataset of columns and few rows"
   ]
  },
  {
   "cell_type": "code",
   "execution_count": 5,
   "metadata": {},
   "outputs": [
    {
     "data": {
      "text/html": [
       "<div>\n",
       "<style scoped>\n",
       "    .dataframe tbody tr th:only-of-type {\n",
       "        vertical-align: middle;\n",
       "    }\n",
       "\n",
       "    .dataframe tbody tr th {\n",
       "        vertical-align: top;\n",
       "    }\n",
       "\n",
       "    .dataframe thead th {\n",
       "        text-align: right;\n",
       "    }\n",
       "</style>\n",
       "<table border=\"1\" class=\"dataframe\">\n",
       "  <thead>\n",
       "    <tr style=\"text-align: right;\">\n",
       "      <th></th>\n",
       "      <th>age</th>\n",
       "      <th>job</th>\n",
       "      <th>marital</th>\n",
       "      <th>education</th>\n",
       "      <th>default</th>\n",
       "      <th>balance</th>\n",
       "      <th>housing</th>\n",
       "      <th>loan</th>\n",
       "      <th>contact</th>\n",
       "      <th>day</th>\n",
       "      <th>month</th>\n",
       "      <th>duration</th>\n",
       "      <th>campaign</th>\n",
       "      <th>pdays</th>\n",
       "      <th>previous</th>\n",
       "      <th>poutcome</th>\n",
       "      <th>y</th>\n",
       "    </tr>\n",
       "  </thead>\n",
       "  <tbody>\n",
       "    <tr>\n",
       "      <th>0</th>\n",
       "      <td>58</td>\n",
       "      <td>management</td>\n",
       "      <td>married</td>\n",
       "      <td>tertiary</td>\n",
       "      <td>no</td>\n",
       "      <td>2143</td>\n",
       "      <td>yes</td>\n",
       "      <td>no</td>\n",
       "      <td>unknown</td>\n",
       "      <td>5</td>\n",
       "      <td>may</td>\n",
       "      <td>261</td>\n",
       "      <td>1</td>\n",
       "      <td>-1</td>\n",
       "      <td>0</td>\n",
       "      <td>unknown</td>\n",
       "      <td>no</td>\n",
       "    </tr>\n",
       "    <tr>\n",
       "      <th>1</th>\n",
       "      <td>44</td>\n",
       "      <td>technician</td>\n",
       "      <td>single</td>\n",
       "      <td>secondary</td>\n",
       "      <td>no</td>\n",
       "      <td>29</td>\n",
       "      <td>yes</td>\n",
       "      <td>no</td>\n",
       "      <td>unknown</td>\n",
       "      <td>5</td>\n",
       "      <td>may</td>\n",
       "      <td>151</td>\n",
       "      <td>1</td>\n",
       "      <td>-1</td>\n",
       "      <td>0</td>\n",
       "      <td>unknown</td>\n",
       "      <td>no</td>\n",
       "    </tr>\n",
       "    <tr>\n",
       "      <th>2</th>\n",
       "      <td>33</td>\n",
       "      <td>entrepreneur</td>\n",
       "      <td>married</td>\n",
       "      <td>secondary</td>\n",
       "      <td>no</td>\n",
       "      <td>2</td>\n",
       "      <td>yes</td>\n",
       "      <td>yes</td>\n",
       "      <td>unknown</td>\n",
       "      <td>5</td>\n",
       "      <td>may</td>\n",
       "      <td>76</td>\n",
       "      <td>1</td>\n",
       "      <td>-1</td>\n",
       "      <td>0</td>\n",
       "      <td>unknown</td>\n",
       "      <td>no</td>\n",
       "    </tr>\n",
       "    <tr>\n",
       "      <th>3</th>\n",
       "      <td>47</td>\n",
       "      <td>blue-collar</td>\n",
       "      <td>married</td>\n",
       "      <td>unknown</td>\n",
       "      <td>no</td>\n",
       "      <td>1506</td>\n",
       "      <td>yes</td>\n",
       "      <td>no</td>\n",
       "      <td>unknown</td>\n",
       "      <td>5</td>\n",
       "      <td>may</td>\n",
       "      <td>92</td>\n",
       "      <td>1</td>\n",
       "      <td>-1</td>\n",
       "      <td>0</td>\n",
       "      <td>unknown</td>\n",
       "      <td>no</td>\n",
       "    </tr>\n",
       "    <tr>\n",
       "      <th>4</th>\n",
       "      <td>33</td>\n",
       "      <td>unknown</td>\n",
       "      <td>single</td>\n",
       "      <td>unknown</td>\n",
       "      <td>no</td>\n",
       "      <td>1</td>\n",
       "      <td>no</td>\n",
       "      <td>no</td>\n",
       "      <td>unknown</td>\n",
       "      <td>5</td>\n",
       "      <td>may</td>\n",
       "      <td>198</td>\n",
       "      <td>1</td>\n",
       "      <td>-1</td>\n",
       "      <td>0</td>\n",
       "      <td>unknown</td>\n",
       "      <td>no</td>\n",
       "    </tr>\n",
       "  </tbody>\n",
       "</table>\n",
       "</div>"
      ],
      "text/plain": [
       "   age           job  marital  education default  balance housing loan  \\\n",
       "0   58    management  married   tertiary      no     2143     yes   no   \n",
       "1   44    technician   single  secondary      no       29     yes   no   \n",
       "2   33  entrepreneur  married  secondary      no        2     yes  yes   \n",
       "3   47   blue-collar  married    unknown      no     1506     yes   no   \n",
       "4   33       unknown   single    unknown      no        1      no   no   \n",
       "\n",
       "   contact  day month  duration  campaign  pdays  previous poutcome   y  \n",
       "0  unknown    5   may       261         1     -1         0  unknown  no  \n",
       "1  unknown    5   may       151         1     -1         0  unknown  no  \n",
       "2  unknown    5   may        76         1     -1         0  unknown  no  \n",
       "3  unknown    5   may        92         1     -1         0  unknown  no  \n",
       "4  unknown    5   may       198         1     -1         0  unknown  no  "
      ]
     },
     "execution_count": 5,
     "metadata": {},
     "output_type": "execute_result"
    }
   ],
   "source": [
    "df.head(5)"
   ]
  },
  {
   "cell_type": "markdown",
   "metadata": {},
   "source": [
    "View the dataset with basic descriptive statistics for numerical attributes only"
   ]
  },
  {
   "cell_type": "code",
   "execution_count": 6,
   "metadata": {},
   "outputs": [
    {
     "data": {
      "text/html": [
       "<div>\n",
       "<style scoped>\n",
       "    .dataframe tbody tr th:only-of-type {\n",
       "        vertical-align: middle;\n",
       "    }\n",
       "\n",
       "    .dataframe tbody tr th {\n",
       "        vertical-align: top;\n",
       "    }\n",
       "\n",
       "    .dataframe thead th {\n",
       "        text-align: right;\n",
       "    }\n",
       "</style>\n",
       "<table border=\"1\" class=\"dataframe\">\n",
       "  <thead>\n",
       "    <tr style=\"text-align: right;\">\n",
       "      <th></th>\n",
       "      <th>age</th>\n",
       "      <th>balance</th>\n",
       "      <th>day</th>\n",
       "      <th>duration</th>\n",
       "      <th>campaign</th>\n",
       "      <th>pdays</th>\n",
       "      <th>previous</th>\n",
       "    </tr>\n",
       "  </thead>\n",
       "  <tbody>\n",
       "    <tr>\n",
       "      <th>count</th>\n",
       "      <td>45211.000000</td>\n",
       "      <td>45211.000000</td>\n",
       "      <td>45211.000000</td>\n",
       "      <td>45211.000000</td>\n",
       "      <td>45211.000000</td>\n",
       "      <td>45211.000000</td>\n",
       "      <td>45211.000000</td>\n",
       "    </tr>\n",
       "    <tr>\n",
       "      <th>mean</th>\n",
       "      <td>40.936210</td>\n",
       "      <td>1362.272058</td>\n",
       "      <td>15.806419</td>\n",
       "      <td>258.163080</td>\n",
       "      <td>2.763841</td>\n",
       "      <td>40.197828</td>\n",
       "      <td>0.580323</td>\n",
       "    </tr>\n",
       "    <tr>\n",
       "      <th>std</th>\n",
       "      <td>10.618762</td>\n",
       "      <td>3044.765829</td>\n",
       "      <td>8.322476</td>\n",
       "      <td>257.527812</td>\n",
       "      <td>3.098021</td>\n",
       "      <td>100.128746</td>\n",
       "      <td>2.303441</td>\n",
       "    </tr>\n",
       "    <tr>\n",
       "      <th>min</th>\n",
       "      <td>18.000000</td>\n",
       "      <td>-8019.000000</td>\n",
       "      <td>1.000000</td>\n",
       "      <td>0.000000</td>\n",
       "      <td>1.000000</td>\n",
       "      <td>-1.000000</td>\n",
       "      <td>0.000000</td>\n",
       "    </tr>\n",
       "    <tr>\n",
       "      <th>25%</th>\n",
       "      <td>33.000000</td>\n",
       "      <td>72.000000</td>\n",
       "      <td>8.000000</td>\n",
       "      <td>103.000000</td>\n",
       "      <td>1.000000</td>\n",
       "      <td>-1.000000</td>\n",
       "      <td>0.000000</td>\n",
       "    </tr>\n",
       "    <tr>\n",
       "      <th>50%</th>\n",
       "      <td>39.000000</td>\n",
       "      <td>448.000000</td>\n",
       "      <td>16.000000</td>\n",
       "      <td>180.000000</td>\n",
       "      <td>2.000000</td>\n",
       "      <td>-1.000000</td>\n",
       "      <td>0.000000</td>\n",
       "    </tr>\n",
       "    <tr>\n",
       "      <th>75%</th>\n",
       "      <td>48.000000</td>\n",
       "      <td>1428.000000</td>\n",
       "      <td>21.000000</td>\n",
       "      <td>319.000000</td>\n",
       "      <td>3.000000</td>\n",
       "      <td>-1.000000</td>\n",
       "      <td>0.000000</td>\n",
       "    </tr>\n",
       "    <tr>\n",
       "      <th>max</th>\n",
       "      <td>95.000000</td>\n",
       "      <td>102127.000000</td>\n",
       "      <td>31.000000</td>\n",
       "      <td>4918.000000</td>\n",
       "      <td>63.000000</td>\n",
       "      <td>871.000000</td>\n",
       "      <td>275.000000</td>\n",
       "    </tr>\n",
       "  </tbody>\n",
       "</table>\n",
       "</div>"
      ],
      "text/plain": [
       "                age        balance           day      duration      campaign  \\\n",
       "count  45211.000000   45211.000000  45211.000000  45211.000000  45211.000000   \n",
       "mean      40.936210    1362.272058     15.806419    258.163080      2.763841   \n",
       "std       10.618762    3044.765829      8.322476    257.527812      3.098021   \n",
       "min       18.000000   -8019.000000      1.000000      0.000000      1.000000   \n",
       "25%       33.000000      72.000000      8.000000    103.000000      1.000000   \n",
       "50%       39.000000     448.000000     16.000000    180.000000      2.000000   \n",
       "75%       48.000000    1428.000000     21.000000    319.000000      3.000000   \n",
       "max       95.000000  102127.000000     31.000000   4918.000000     63.000000   \n",
       "\n",
       "              pdays      previous  \n",
       "count  45211.000000  45211.000000  \n",
       "mean      40.197828      0.580323  \n",
       "std      100.128746      2.303441  \n",
       "min       -1.000000      0.000000  \n",
       "25%       -1.000000      0.000000  \n",
       "50%       -1.000000      0.000000  \n",
       "75%       -1.000000      0.000000  \n",
       "max      871.000000    275.000000  "
      ]
     },
     "execution_count": 6,
     "metadata": {},
     "output_type": "execute_result"
    }
   ],
   "source": [
    "df.describe().head(10)"
   ]
  },
  {
   "cell_type": "code",
   "execution_count": 7,
   "metadata": {},
   "outputs": [
    {
     "name": "stdout",
     "output_type": "stream",
     "text": [
      "Attributes:\n",
      " ['age' 'job' 'marital' 'education' 'default' 'balance' 'housing' 'loan'\n",
      " 'contact' 'day' 'month' 'duration' 'campaign' 'pdays' 'previous'\n",
      " 'poutcome' 'y']\n",
      "\n",
      "# attributes: 17\n"
     ]
    }
   ],
   "source": [
    "print(\"Attributes:\\n\",df.columns.values)\n",
    "print(\"\\n# attributes:\",len(df.columns.values))\n"
   ]
  },
  {
   "cell_type": "code",
   "execution_count": 8,
   "metadata": {},
   "outputs": [
    {
     "data": {
      "text/plain": [
       "age           int64\n",
       "job          object\n",
       "marital      object\n",
       "education    object\n",
       "default      object\n",
       "balance       int64\n",
       "housing      object\n",
       "loan         object\n",
       "contact      object\n",
       "day           int64\n",
       "month        object\n",
       "duration      int64\n",
       "campaign      int64\n",
       "pdays         int64\n",
       "previous      int64\n",
       "poutcome     object\n",
       "y            object\n",
       "dtype: object"
      ]
     },
     "execution_count": 8,
     "metadata": {},
     "output_type": "execute_result"
    }
   ],
   "source": [
    "df.dtypes"
   ]
  },
  {
   "cell_type": "markdown",
   "metadata": {},
   "source": [
    "Let's **drop the duration column** since we are told that this feature cannot be predetermined."
   ]
  },
  {
   "cell_type": "code",
   "execution_count": 9,
   "metadata": {},
   "outputs": [
    {
     "data": {
      "text/plain": [
       "array(['age', 'job', 'marital', 'education', 'default', 'balance',\n",
       "       'housing', 'loan', 'contact', 'day', 'month', 'campaign', 'pdays',\n",
       "       'previous', 'poutcome', 'y'], dtype=object)"
      ]
     },
     "execution_count": 9,
     "metadata": {},
     "output_type": "execute_result"
    }
   ],
   "source": [
    "df=df.drop(['duration'],axis=1)\n",
    "df.columns.values"
   ]
  },
  {
   "cell_type": "markdown",
   "metadata": {},
   "source": [
    "##### identifying missing values"
   ]
  },
  {
   "cell_type": "code",
   "execution_count": 10,
   "metadata": {},
   "outputs": [
    {
     "data": {
      "text/plain": [
       "age          0\n",
       "job          0\n",
       "marital      0\n",
       "education    0\n",
       "default      0\n",
       "balance      0\n",
       "housing      0\n",
       "loan         0\n",
       "contact      0\n",
       "day          0\n",
       "month        0\n",
       "campaign     0\n",
       "pdays        0\n",
       "previous     0\n",
       "poutcome     0\n",
       "y            0\n",
       "dtype: int64"
      ]
     },
     "execution_count": 10,
     "metadata": {},
     "output_type": "execute_result"
    }
   ],
   "source": [
    "df.isnull().sum()\n",
    "#Number of missing values per column \n"
   ]
  },
  {
   "cell_type": "markdown",
   "metadata": {},
   "source": [
    "no missing values in columns"
   ]
  },
  {
   "cell_type": "code",
   "execution_count": 11,
   "metadata": {},
   "outputs": [
    {
     "data": {
      "text/html": [
       "<div>\n",
       "<style scoped>\n",
       "    .dataframe tbody tr th:only-of-type {\n",
       "        vertical-align: middle;\n",
       "    }\n",
       "\n",
       "    .dataframe tbody tr th {\n",
       "        vertical-align: top;\n",
       "    }\n",
       "\n",
       "    .dataframe thead th {\n",
       "        text-align: right;\n",
       "    }\n",
       "</style>\n",
       "<table border=\"1\" class=\"dataframe\">\n",
       "  <thead>\n",
       "    <tr style=\"text-align: right;\">\n",
       "      <th></th>\n",
       "      <th>age</th>\n",
       "      <th>job</th>\n",
       "      <th>marital</th>\n",
       "      <th>education</th>\n",
       "      <th>default</th>\n",
       "      <th>balance</th>\n",
       "      <th>housing</th>\n",
       "      <th>loan</th>\n",
       "      <th>contact</th>\n",
       "      <th>day</th>\n",
       "      <th>month</th>\n",
       "      <th>campaign</th>\n",
       "      <th>pdays</th>\n",
       "      <th>previous</th>\n",
       "      <th>poutcome</th>\n",
       "      <th>y</th>\n",
       "    </tr>\n",
       "  </thead>\n",
       "  <tbody>\n",
       "    <tr>\n",
       "      <th>0</th>\n",
       "      <td>58</td>\n",
       "      <td>management</td>\n",
       "      <td>married</td>\n",
       "      <td>tertiary</td>\n",
       "      <td>no</td>\n",
       "      <td>2143</td>\n",
       "      <td>yes</td>\n",
       "      <td>no</td>\n",
       "      <td>unknown</td>\n",
       "      <td>5</td>\n",
       "      <td>may</td>\n",
       "      <td>1</td>\n",
       "      <td>-1</td>\n",
       "      <td>0</td>\n",
       "      <td>unknown</td>\n",
       "      <td>no</td>\n",
       "    </tr>\n",
       "    <tr>\n",
       "      <th>1</th>\n",
       "      <td>44</td>\n",
       "      <td>technician</td>\n",
       "      <td>single</td>\n",
       "      <td>secondary</td>\n",
       "      <td>no</td>\n",
       "      <td>29</td>\n",
       "      <td>yes</td>\n",
       "      <td>no</td>\n",
       "      <td>unknown</td>\n",
       "      <td>5</td>\n",
       "      <td>may</td>\n",
       "      <td>1</td>\n",
       "      <td>-1</td>\n",
       "      <td>0</td>\n",
       "      <td>unknown</td>\n",
       "      <td>no</td>\n",
       "    </tr>\n",
       "  </tbody>\n",
       "</table>\n",
       "</div>"
      ],
      "text/plain": [
       "   age         job  marital  education default  balance housing loan  contact  \\\n",
       "0   58  management  married   tertiary      no     2143     yes   no  unknown   \n",
       "1   44  technician   single  secondary      no       29     yes   no  unknown   \n",
       "\n",
       "   day month  campaign  pdays  previous poutcome   y  \n",
       "0    5   may         1     -1         0  unknown  no  \n",
       "1    5   may         1     -1         0  unknown  no  "
      ]
     },
     "execution_count": 11,
     "metadata": {},
     "output_type": "execute_result"
    }
   ],
   "source": [
    "df.head(2)"
   ]
  },
  {
   "cell_type": "code",
   "execution_count": 12,
   "metadata": {},
   "outputs": [],
   "source": [
    "#count of features in entire dataset\n",
    "cntf = df.shape[1]"
   ]
  },
  {
   "cell_type": "markdown",
   "metadata": {},
   "source": [
    "Examining each variable to assess its distribution using a histogram\n"
   ]
  },
  {
   "cell_type": "code",
   "execution_count": 13,
   "metadata": {},
   "outputs": [
    {
     "data": {
      "image/png": "[encoded data removed]",
      "text/plain": [
       "<Figure size 432x288 with 1 Axes>"
      ]
     },
     "metadata": {},
     "output_type": "display_data"
    },
    {
     "data": {
      "image/png": "[encoded data removed]",
      "text/plain": [
       "<Figure size 432x288 with 1 Axes>"
      ]
     },
     "metadata": {},
     "output_type": "display_data"
    },
    {
     "data": {
      "image/png": "[encoded data removed]",
      "text/plain": [
       "<Figure size 432x288 with 1 Axes>"
      ]
     },
     "metadata": {},
     "output_type": "display_data"
    },
    {
     "data": {
      "image/png": "[encoded data removed]",
      "text/plain": [
       "<Figure size 432x288 with 1 Axes>"
      ]
     },
     "metadata": {},
     "output_type": "display_data"
    },
    {
     "data": {
      "image/png": "[encoded data removed]",
      "text/plain": [
       "<Figure size 432x288 with 1 Axes>"
      ]
     },
     "metadata": {},
     "output_type": "display_data"
    },
    {
     "data": {
      "image/png": "[encoded data removed]",
      "text/plain": [
       "<Figure size 432x288 with 1 Axes>"
      ]
     },
     "metadata": {},
     "output_type": "display_data"
    },
    {
     "data": {
      "image/png": "[encoded data removed]",
      "text/plain": [
       "<Figure size 432x288 with 1 Axes>"
      ]
     },
     "metadata": {},
     "output_type": "display_data"
    },
    {
     "data": {
      "image/png": "[encoded data removed]",
      "text/plain": [
       "<Figure size 432x288 with 1 Axes>"
      ]
     },
     "metadata": {},
     "output_type": "display_data"
    },
    {
     "data": {
      "image/png": "[encoded data removed]",
      "text/plain": [
       "<Figure size 432x288 with 1 Axes>"
      ]
     },
     "metadata": {},
     "output_type": "display_data"
    },
    {
     "data": {
      "image/png": "[encoded data removed]",
      "text/plain": [
       "<Figure size 432x288 with 1 Axes>"
      ]
     },
     "metadata": {},
     "output_type": "display_data"
    },
    {
     "data": {
      "image/png": "[encoded data removed]",
      "text/plain": [
       "<Figure size 432x288 with 1 Axes>"
      ]
     },
     "metadata": {},
     "output_type": "display_data"
    },
    {
     "data": {
      "image/png": "[encoded data removed]",
      "text/plain": [
       "<Figure size 432x288 with 1 Axes>"
      ]
     },
     "metadata": {},
     "output_type": "display_data"
    },
    {
     "data": {
      "image/png": "[encoded data removed]",
      "text/plain": [
       "<Figure size 432x288 with 1 Axes>"
      ]
     },
     "metadata": {},
     "output_type": "display_data"
    },
    {
     "data": {
      "image/png": "[encoded data removed]",
      "text/plain": [
       "<Figure size 432x288 with 1 Axes>"
      ]
     },
     "metadata": {},
     "output_type": "display_data"
    },
    {
     "data": {
      "image/png": "[encoded data removed]",
      "text/plain": [
       "<Figure size 432x288 with 1 Axes>"
      ]
     },
     "metadata": {},
     "output_type": "display_data"
    },
    {
     "data": {
      "image/png": "[encoded data removed]",
      "text/plain": [
       "<Figure size 432x288 with 1 Axes>"
      ]
     },
     "metadata": {},
     "output_type": "display_data"
    },
    {
     "name": "stdout",
     "output_type": "stream",
     "text": [
      "Attributes: ['age' 'job' 'marital' 'education' 'default' 'balance' 'housing' 'loan'\n",
      " 'contact' 'day' 'month' 'campaign' 'pdays' 'previous' 'poutcome' 'y']\n",
      "\n",
      " Indices of Categorical attributes: [1, 2, 3, 4, 6, 7, 8, 10, 14, 15]\n",
      "\n",
      " Indices of numerical attributes [0, 5, 9, 11, 12, 13]\n"
     ]
    }
   ],
   "source": [
    "def VizCategNnum(df):\n",
    "    #Takes a dataframe as the input and returns\n",
    "    #the row indices for Categorical & numeric vars \n",
    "   \n",
    "    ncol = df.shape[1]\n",
    "    #ncolplt = 4\n",
    "    #nrowplt = round(ncol/ncolplt)\n",
    "    #mydict ={}\n",
    "    strInxCol = []\n",
    "    numInxCol =[]\n",
    "    for i in range(0,ncol):\n",
    "        xcol = df.iloc[0,i]\n",
    "        namecol= df.columns.values[i]\n",
    "        xtype = type(xcol)\n",
    "        if xtype ==str:\n",
    "            xtype =\"str\"\n",
    "            strInxCol.append(i)\n",
    "            counts = df.iloc[:,i].value_counts()\n",
    "            plt.bar(counts.index, counts.values)\n",
    "        else:\n",
    "            xtype=\"int\"\n",
    "            numInxCol.append(i)\n",
    "            plt.hist(df.iloc[:,i])\n",
    "        plt.xticks(rotation=90)\n",
    "        plt.title(df.columns.values[i])\n",
    "        plt.show()\n",
    "       \n",
    "    return(strInxCol,numInxCol)\n",
    "\n",
    "res = VizCategNnum(df)\n",
    "strInxCol = res[0]\n",
    "numInxCol = res[1]\n",
    "\n",
    "print(\"Attributes:\",df.columns.values)\n",
    "print(\"\\n Indices of Categorical attributes:\",strInxCol)\n",
    "print(\"\\n Indices of numerical attributes\",numInxCol)\n",
    "\n"
   ]
  },
  {
   "cell_type": "code",
   "execution_count": 14,
   "metadata": {},
   "outputs": [
    {
     "data": {
      "text/plain": [
       "{'whiskers': [<matplotlib.lines.Line2D at 0x1ade90e710>,\n",
       "  <matplotlib.lines.Line2D at 0x1ade90eba8>],\n",
       " 'caps': [<matplotlib.lines.Line2D at 0x1ade90efd0>,\n",
       "  <matplotlib.lines.Line2D at 0x1ade915438>],\n",
       " 'boxes': [<matplotlib.lines.Line2D at 0x1ade90e5c0>],\n",
       " 'medians': [<matplotlib.lines.Line2D at 0x1ade915860>],\n",
       " 'fliers': [<matplotlib.lines.Line2D at 0x1ade915c88>],\n",
       " 'means': []}"
      ]
     },
     "execution_count": 14,
     "metadata": {},
     "output_type": "execute_result"
    },
    {
     "data": {
      "image/png": "[encoded data removed]",
      "text/plain": [
       "<Figure size 432x288 with 1 Axes>"
      ]
     },
     "metadata": {},
     "output_type": "display_data"
    }
   ],
   "source": [
    "agebox = plt.boxplot(df[\"age\"],\"age\")\n",
    "agebox"
   ]
  },
  {
   "cell_type": "markdown",
   "metadata": {},
   "source": [
    "##### Converting categorical variables to dummy variables"
   ]
  },
  {
   "cell_type": "markdown",
   "metadata": {},
   "source": [
    "Recall, we identified the categorical vars when vizualizing each feature in a histogram"
   ]
  },
  {
   "cell_type": "code",
   "execution_count": 15,
   "metadata": {},
   "outputs": [
    {
     "name": "stdout",
     "output_type": "stream",
     "text": [
      "Attributes: ['age' 'job' 'marital' 'education' 'default' 'balance' 'housing' 'loan'\n",
      " 'contact' 'day' 'month' 'campaign' 'pdays' 'previous' 'poutcome' 'y']\n",
      "\n",
      " Indices of Categorical attributes: [1, 2, 3, 4, 6, 7, 8, 10, 14, 15]\n",
      "\n",
      " Indices of numerical attributes [0, 5, 9, 11, 12, 13]\n"
     ]
    }
   ],
   "source": [
    "print(\"Attributes:\",df.columns.values)\n",
    "print(\"\\n Indices of Categorical attributes:\",strInxCol)\n",
    "print(\"\\n Indices of numerical attributes\",numInxCol)\n",
    "\n"
   ]
  },
  {
   "cell_type": "markdown",
   "metadata": {},
   "source": [
    "Then we create the dummy vars\n"
   ]
  },
  {
   "cell_type": "code",
   "execution_count": 16,
   "metadata": {},
   "outputs": [
    {
     "data": {
      "text/html": [
       "<div>\n",
       "<style scoped>\n",
       "    .dataframe tbody tr th:only-of-type {\n",
       "        vertical-align: middle;\n",
       "    }\n",
       "\n",
       "    .dataframe tbody tr th {\n",
       "        vertical-align: top;\n",
       "    }\n",
       "\n",
       "    .dataframe thead th {\n",
       "        text-align: right;\n",
       "    }\n",
       "</style>\n",
       "<table border=\"1\" class=\"dataframe\">\n",
       "  <thead>\n",
       "    <tr style=\"text-align: right;\">\n",
       "      <th></th>\n",
       "      <th>job_admin.</th>\n",
       "      <th>job_blue-collar</th>\n",
       "      <th>job_entrepreneur</th>\n",
       "      <th>job_housemaid</th>\n",
       "      <th>job_management</th>\n",
       "      <th>job_retired</th>\n",
       "      <th>job_self-employed</th>\n",
       "      <th>job_services</th>\n",
       "      <th>job_student</th>\n",
       "      <th>job_technician</th>\n",
       "      <th>...</th>\n",
       "      <th>month_may</th>\n",
       "      <th>month_nov</th>\n",
       "      <th>month_oct</th>\n",
       "      <th>month_sep</th>\n",
       "      <th>poutcome_failure</th>\n",
       "      <th>poutcome_other</th>\n",
       "      <th>poutcome_success</th>\n",
       "      <th>poutcome_unknown</th>\n",
       "      <th>y_no</th>\n",
       "      <th>y_yes</th>\n",
       "    </tr>\n",
       "  </thead>\n",
       "  <tbody>\n",
       "    <tr>\n",
       "      <th>0</th>\n",
       "      <td>0</td>\n",
       "      <td>0</td>\n",
       "      <td>0</td>\n",
       "      <td>0</td>\n",
       "      <td>1</td>\n",
       "      <td>0</td>\n",
       "      <td>0</td>\n",
       "      <td>0</td>\n",
       "      <td>0</td>\n",
       "      <td>0</td>\n",
       "      <td>...</td>\n",
       "      <td>1</td>\n",
       "      <td>0</td>\n",
       "      <td>0</td>\n",
       "      <td>0</td>\n",
       "      <td>0</td>\n",
       "      <td>0</td>\n",
       "      <td>0</td>\n",
       "      <td>1</td>\n",
       "      <td>1</td>\n",
       "      <td>0</td>\n",
       "    </tr>\n",
       "    <tr>\n",
       "      <th>1</th>\n",
       "      <td>0</td>\n",
       "      <td>0</td>\n",
       "      <td>0</td>\n",
       "      <td>0</td>\n",
       "      <td>0</td>\n",
       "      <td>0</td>\n",
       "      <td>0</td>\n",
       "      <td>0</td>\n",
       "      <td>0</td>\n",
       "      <td>1</td>\n",
       "      <td>...</td>\n",
       "      <td>1</td>\n",
       "      <td>0</td>\n",
       "      <td>0</td>\n",
       "      <td>0</td>\n",
       "      <td>0</td>\n",
       "      <td>0</td>\n",
       "      <td>0</td>\n",
       "      <td>1</td>\n",
       "      <td>1</td>\n",
       "      <td>0</td>\n",
       "    </tr>\n",
       "    <tr>\n",
       "      <th>2</th>\n",
       "      <td>0</td>\n",
       "      <td>0</td>\n",
       "      <td>1</td>\n",
       "      <td>0</td>\n",
       "      <td>0</td>\n",
       "      <td>0</td>\n",
       "      <td>0</td>\n",
       "      <td>0</td>\n",
       "      <td>0</td>\n",
       "      <td>0</td>\n",
       "      <td>...</td>\n",
       "      <td>1</td>\n",
       "      <td>0</td>\n",
       "      <td>0</td>\n",
       "      <td>0</td>\n",
       "      <td>0</td>\n",
       "      <td>0</td>\n",
       "      <td>0</td>\n",
       "      <td>1</td>\n",
       "      <td>1</td>\n",
       "      <td>0</td>\n",
       "    </tr>\n",
       "    <tr>\n",
       "      <th>3</th>\n",
       "      <td>0</td>\n",
       "      <td>1</td>\n",
       "      <td>0</td>\n",
       "      <td>0</td>\n",
       "      <td>0</td>\n",
       "      <td>0</td>\n",
       "      <td>0</td>\n",
       "      <td>0</td>\n",
       "      <td>0</td>\n",
       "      <td>0</td>\n",
       "      <td>...</td>\n",
       "      <td>1</td>\n",
       "      <td>0</td>\n",
       "      <td>0</td>\n",
       "      <td>0</td>\n",
       "      <td>0</td>\n",
       "      <td>0</td>\n",
       "      <td>0</td>\n",
       "      <td>1</td>\n",
       "      <td>1</td>\n",
       "      <td>0</td>\n",
       "    </tr>\n",
       "    <tr>\n",
       "      <th>4</th>\n",
       "      <td>0</td>\n",
       "      <td>0</td>\n",
       "      <td>0</td>\n",
       "      <td>0</td>\n",
       "      <td>0</td>\n",
       "      <td>0</td>\n",
       "      <td>0</td>\n",
       "      <td>0</td>\n",
       "      <td>0</td>\n",
       "      <td>0</td>\n",
       "      <td>...</td>\n",
       "      <td>1</td>\n",
       "      <td>0</td>\n",
       "      <td>0</td>\n",
       "      <td>0</td>\n",
       "      <td>0</td>\n",
       "      <td>0</td>\n",
       "      <td>0</td>\n",
       "      <td>1</td>\n",
       "      <td>1</td>\n",
       "      <td>0</td>\n",
       "    </tr>\n",
       "  </tbody>\n",
       "</table>\n",
       "<p>5 rows × 46 columns</p>\n",
       "</div>"
      ],
      "text/plain": [
       "   job_admin.  job_blue-collar  job_entrepreneur  job_housemaid  \\\n",
       "0           0                0                 0              0   \n",
       "1           0                0                 0              0   \n",
       "2           0                0                 1              0   \n",
       "3           0                1                 0              0   \n",
       "4           0                0                 0              0   \n",
       "\n",
       "   job_management  job_retired  job_self-employed  job_services  job_student  \\\n",
       "0               1            0                  0             0            0   \n",
       "1               0            0                  0             0            0   \n",
       "2               0            0                  0             0            0   \n",
       "3               0            0                  0             0            0   \n",
       "4               0            0                  0             0            0   \n",
       "\n",
       "   job_technician  ...    month_may  month_nov  month_oct  month_sep  \\\n",
       "0               0  ...            1          0          0          0   \n",
       "1               1  ...            1          0          0          0   \n",
       "2               0  ...            1          0          0          0   \n",
       "3               0  ...            1          0          0          0   \n",
       "4               0  ...            1          0          0          0   \n",
       "\n",
       "   poutcome_failure  poutcome_other  poutcome_success  poutcome_unknown  y_no  \\\n",
       "0                 0               0                 0                 1     1   \n",
       "1                 0               0                 0                 1     1   \n",
       "2                 0               0                 0                 1     1   \n",
       "3                 0               0                 0                 1     1   \n",
       "4                 0               0                 0                 1     1   \n",
       "\n",
       "   y_yes  \n",
       "0      0  \n",
       "1      0  \n",
       "2      0  \n",
       "3      0  \n",
       "4      0  \n",
       "\n",
       "[5 rows x 46 columns]"
      ]
     },
     "execution_count": 16,
     "metadata": {},
     "output_type": "execute_result"
    }
   ],
   "source": [
    "newdf= pd.DataFrame()\n",
    "for i in strInxCol:\n",
    "    dummydf = pd.get_dummies(df.iloc[:,i])\n",
    "    Cname = df.columns.values[i]\n",
    "    lenC = dummydf.shape[1]\n",
    "    listCn =[]\n",
    "    for j in range(0,lenC):\n",
    "        listCn.append(Cname + \"_\"+dummydf.columns.values[j])\n",
    "    dummydf.columns = listCn\n",
    "    newdf = pd.concat([newdf,dummydf],axis=1)\n",
    "newdf.head(5)\n"
   ]
  },
  {
   "cell_type": "code",
   "execution_count": 17,
   "metadata": {},
   "outputs": [
    {
     "data": {
      "text/html": [
       "<div>\n",
       "<style scoped>\n",
       "    .dataframe tbody tr th:only-of-type {\n",
       "        vertical-align: middle;\n",
       "    }\n",
       "\n",
       "    .dataframe tbody tr th {\n",
       "        vertical-align: top;\n",
       "    }\n",
       "\n",
       "    .dataframe thead th {\n",
       "        text-align: right;\n",
       "    }\n",
       "</style>\n",
       "<table border=\"1\" class=\"dataframe\">\n",
       "  <thead>\n",
       "    <tr style=\"text-align: right;\">\n",
       "      <th></th>\n",
       "      <th>age</th>\n",
       "      <th>balance</th>\n",
       "      <th>day</th>\n",
       "      <th>campaign</th>\n",
       "      <th>pdays</th>\n",
       "      <th>previous</th>\n",
       "      <th>job_admin.</th>\n",
       "      <th>job_blue-collar</th>\n",
       "      <th>job_entrepreneur</th>\n",
       "      <th>job_housemaid</th>\n",
       "      <th>...</th>\n",
       "      <th>month_may</th>\n",
       "      <th>month_nov</th>\n",
       "      <th>month_oct</th>\n",
       "      <th>month_sep</th>\n",
       "      <th>poutcome_failure</th>\n",
       "      <th>poutcome_other</th>\n",
       "      <th>poutcome_success</th>\n",
       "      <th>poutcome_unknown</th>\n",
       "      <th>y_no</th>\n",
       "      <th>y_yes</th>\n",
       "    </tr>\n",
       "  </thead>\n",
       "  <tbody>\n",
       "    <tr>\n",
       "      <th>0</th>\n",
       "      <td>58</td>\n",
       "      <td>2143</td>\n",
       "      <td>5</td>\n",
       "      <td>1</td>\n",
       "      <td>-1</td>\n",
       "      <td>0</td>\n",
       "      <td>0</td>\n",
       "      <td>0</td>\n",
       "      <td>0</td>\n",
       "      <td>0</td>\n",
       "      <td>...</td>\n",
       "      <td>1</td>\n",
       "      <td>0</td>\n",
       "      <td>0</td>\n",
       "      <td>0</td>\n",
       "      <td>0</td>\n",
       "      <td>0</td>\n",
       "      <td>0</td>\n",
       "      <td>1</td>\n",
       "      <td>1</td>\n",
       "      <td>0</td>\n",
       "    </tr>\n",
       "    <tr>\n",
       "      <th>1</th>\n",
       "      <td>44</td>\n",
       "      <td>29</td>\n",
       "      <td>5</td>\n",
       "      <td>1</td>\n",
       "      <td>-1</td>\n",
       "      <td>0</td>\n",
       "      <td>0</td>\n",
       "      <td>0</td>\n",
       "      <td>0</td>\n",
       "      <td>0</td>\n",
       "      <td>...</td>\n",
       "      <td>1</td>\n",
       "      <td>0</td>\n",
       "      <td>0</td>\n",
       "      <td>0</td>\n",
       "      <td>0</td>\n",
       "      <td>0</td>\n",
       "      <td>0</td>\n",
       "      <td>1</td>\n",
       "      <td>1</td>\n",
       "      <td>0</td>\n",
       "    </tr>\n",
       "    <tr>\n",
       "      <th>2</th>\n",
       "      <td>33</td>\n",
       "      <td>2</td>\n",
       "      <td>5</td>\n",
       "      <td>1</td>\n",
       "      <td>-1</td>\n",
       "      <td>0</td>\n",
       "      <td>0</td>\n",
       "      <td>0</td>\n",
       "      <td>1</td>\n",
       "      <td>0</td>\n",
       "      <td>...</td>\n",
       "      <td>1</td>\n",
       "      <td>0</td>\n",
       "      <td>0</td>\n",
       "      <td>0</td>\n",
       "      <td>0</td>\n",
       "      <td>0</td>\n",
       "      <td>0</td>\n",
       "      <td>1</td>\n",
       "      <td>1</td>\n",
       "      <td>0</td>\n",
       "    </tr>\n",
       "    <tr>\n",
       "      <th>3</th>\n",
       "      <td>47</td>\n",
       "      <td>1506</td>\n",
       "      <td>5</td>\n",
       "      <td>1</td>\n",
       "      <td>-1</td>\n",
       "      <td>0</td>\n",
       "      <td>0</td>\n",
       "      <td>1</td>\n",
       "      <td>0</td>\n",
       "      <td>0</td>\n",
       "      <td>...</td>\n",
       "      <td>1</td>\n",
       "      <td>0</td>\n",
       "      <td>0</td>\n",
       "      <td>0</td>\n",
       "      <td>0</td>\n",
       "      <td>0</td>\n",
       "      <td>0</td>\n",
       "      <td>1</td>\n",
       "      <td>1</td>\n",
       "      <td>0</td>\n",
       "    </tr>\n",
       "    <tr>\n",
       "      <th>4</th>\n",
       "      <td>33</td>\n",
       "      <td>1</td>\n",
       "      <td>5</td>\n",
       "      <td>1</td>\n",
       "      <td>-1</td>\n",
       "      <td>0</td>\n",
       "      <td>0</td>\n",
       "      <td>0</td>\n",
       "      <td>0</td>\n",
       "      <td>0</td>\n",
       "      <td>...</td>\n",
       "      <td>1</td>\n",
       "      <td>0</td>\n",
       "      <td>0</td>\n",
       "      <td>0</td>\n",
       "      <td>0</td>\n",
       "      <td>0</td>\n",
       "      <td>0</td>\n",
       "      <td>1</td>\n",
       "      <td>1</td>\n",
       "      <td>0</td>\n",
       "    </tr>\n",
       "  </tbody>\n",
       "</table>\n",
       "<p>5 rows × 52 columns</p>\n",
       "</div>"
      ],
      "text/plain": [
       "   age  balance  day  campaign  pdays  previous  job_admin.  job_blue-collar  \\\n",
       "0   58     2143    5         1     -1         0           0                0   \n",
       "1   44       29    5         1     -1         0           0                0   \n",
       "2   33        2    5         1     -1         0           0                0   \n",
       "3   47     1506    5         1     -1         0           0                1   \n",
       "4   33        1    5         1     -1         0           0                0   \n",
       "\n",
       "   job_entrepreneur  job_housemaid  ...    month_may  month_nov  month_oct  \\\n",
       "0                 0              0  ...            1          0          0   \n",
       "1                 0              0  ...            1          0          0   \n",
       "2                 1              0  ...            1          0          0   \n",
       "3                 0              0  ...            1          0          0   \n",
       "4                 0              0  ...            1          0          0   \n",
       "\n",
       "   month_sep  poutcome_failure  poutcome_other  poutcome_success  \\\n",
       "0          0                 0               0                 0   \n",
       "1          0                 0               0                 0   \n",
       "2          0                 0               0                 0   \n",
       "3          0                 0               0                 0   \n",
       "4          0                 0               0                 0   \n",
       "\n",
       "   poutcome_unknown  y_no  y_yes  \n",
       "0                 1     1      0  \n",
       "1                 1     1      0  \n",
       "2                 1     1      0  \n",
       "3                 1     1      0  \n",
       "4                 1     1      0  \n",
       "\n",
       "[5 rows x 52 columns]"
      ]
     },
     "execution_count": 17,
     "metadata": {},
     "output_type": "execute_result"
    }
   ],
   "source": [
    "newdf=pd.concat([df.iloc[:,numInxCol],newdf],axis=1)\n",
    "newdf.head(5)"
   ]
  },
  {
   "cell_type": "markdown",
   "metadata": {},
   "source": [
    "Determining the class with the greater number of instances"
   ]
  },
  {
   "cell_type": "code",
   "execution_count": 18,
   "metadata": {},
   "outputs": [
    {
     "data": {
      "text/plain": [
       "'y_no'"
      ]
     },
     "execution_count": 18,
     "metadata": {},
     "output_type": "execute_result"
    }
   ],
   "source": [
    "mydict= {}\n",
    "mydict[\"y_yes\"] = len(newdf[newdf[\"y_yes\"]==1])\n",
    "mydict[\"y_no\"] = len(newdf[newdf[\"y_yes\"]==0])\n",
    "maxKey = max(mydict,key= lambda x:mydict.get(x))\n",
    "maxKey\n",
    "\n"
   ]
  },
  {
   "cell_type": "markdown",
   "metadata": {},
   "source": [
    "#### Is there a significant imbalance of classes in our dataset ?"
   ]
  },
  {
   "cell_type": "code",
   "execution_count": 19,
   "metadata": {},
   "outputs": [
    {
     "name": "stdout",
     "output_type": "stream",
     "text": [
      "MaxKey:y_no, value:39922\n",
      "MinKey:y_yes, value:5289\n",
      "Count of y_no =1 vs y_yes=1, Ratio MaxKey:MaxKey = 7.5:1\n",
      "Percentage of y_no %: 88.302\n",
      "Percentage of y_yes %: 11.698\n"
     ]
    }
   ],
   "source": [
    "print(\"MaxKey:\"+str(maxKey)+\", value:\"+str(mydict.get(maxKey)))\n",
    "minKey = min(mydict,key= lambda x:mydict.get(x))\n",
    "minKey\n",
    "print(\"MinKey:\"+str(minKey)+\", value:\"+str(mydict.get(minKey)))\n",
    "aMin= mydict.get(minKey)\n",
    "aMax = mydict.get(maxKey)\n",
    "Ratioa= aMax/aMin\n",
    "print(\"Count of y_no =1 vs y_yes=1, Ratio MaxKey:MaxKey = \" +str(round(Ratioa,1)) +\":\"+str(1))\n",
    "totCnt=aMin+aMax\n",
    "print(\"Percentage of y_no %:\",(round((aMax*100/totCnt),3)))\n",
    "print(\"Percentage of y_yes %:\",(round((aMin*100/totCnt),3)))"
   ]
  },
  {
   "cell_type": "markdown",
   "metadata": {},
   "source": [
    "#### Observation : Yes we have a significant class imbalance problem."
   ]
  },
  {
   "cell_type": "code",
   "execution_count": 20,
   "metadata": {},
   "outputs": [
    {
     "data": {
      "text/plain": [
       "Text(0,0.5,'Frequency')"
      ]
     },
     "execution_count": 20,
     "metadata": {},
     "output_type": "execute_result"
    },
    {
     "data": {
      "image/png": "[encoded data removed]",
      "text/plain": [
       "<Figure size 432x288 with 1 Axes>"
      ]
     },
     "metadata": {},
     "output_type": "display_data"
    }
   ],
   "source": [
    "pd.value_counts(newdf['y_yes']).plot.bar()\n",
    "plt.title(\"'Yes-subscribe' class histogram\")\n",
    "plt.xlabel(\"Class labels :'No=0' and  'Yes=1' \")\n",
    "plt.ylabel('Frequency')\n",
    "#newdf['y_yes'].value_counts()"
   ]
  },
  {
   "cell_type": "code",
   "execution_count": 21,
   "metadata": {},
   "outputs": [
    {
     "data": {
      "text/plain": [
       "array(['age', 'balance', 'day', 'campaign', 'pdays', 'previous',\n",
       "       'job_admin.', 'job_blue-collar', 'job_entrepreneur',\n",
       "       'job_housemaid', 'job_management', 'job_retired',\n",
       "       'job_self-employed', 'job_services', 'job_student',\n",
       "       'job_technician', 'job_unemployed', 'job_unknown',\n",
       "       'marital_divorced', 'marital_married', 'marital_single',\n",
       "       'education_primary', 'education_secondary', 'education_tertiary',\n",
       "       'education_unknown', 'default_no', 'default_yes', 'housing_no',\n",
       "       'housing_yes', 'loan_no', 'loan_yes', 'contact_cellular',\n",
       "       'contact_telephone', 'contact_unknown', 'month_apr', 'month_aug',\n",
       "       'month_dec', 'month_feb', 'month_jan', 'month_jul', 'month_jun',\n",
       "       'month_mar', 'month_may', 'month_nov', 'month_oct', 'month_sep',\n",
       "       'poutcome_failure', 'poutcome_other', 'poutcome_success',\n",
       "       'poutcome_unknown', 'y_yes'], dtype=object)"
      ]
     },
     "execution_count": 21,
     "metadata": {},
     "output_type": "execute_result"
    }
   ],
   "source": [
    "newdf = newdf.drop(['y_no'],axis=1)\n",
    "newdf.columns.values"
   ]
  },
  {
   "cell_type": "code",
   "execution_count": 22,
   "metadata": {},
   "outputs": [
    {
     "data": {
      "text/html": [
       "<div>\n",
       "<style scoped>\n",
       "    .dataframe tbody tr th:only-of-type {\n",
       "        vertical-align: middle;\n",
       "    }\n",
       "\n",
       "    .dataframe tbody tr th {\n",
       "        vertical-align: top;\n",
       "    }\n",
       "\n",
       "    .dataframe thead th {\n",
       "        text-align: right;\n",
       "    }\n",
       "</style>\n",
       "<table border=\"1\" class=\"dataframe\">\n",
       "  <thead>\n",
       "    <tr style=\"text-align: right;\">\n",
       "      <th></th>\n",
       "      <th>age</th>\n",
       "      <th>balance</th>\n",
       "      <th>day</th>\n",
       "      <th>campaign</th>\n",
       "      <th>pdays</th>\n",
       "      <th>previous</th>\n",
       "      <th>job_admin.</th>\n",
       "      <th>job_blue-collar</th>\n",
       "      <th>job_entrepreneur</th>\n",
       "      <th>job_housemaid</th>\n",
       "      <th>...</th>\n",
       "      <th>month_mar</th>\n",
       "      <th>month_may</th>\n",
       "      <th>month_nov</th>\n",
       "      <th>month_oct</th>\n",
       "      <th>month_sep</th>\n",
       "      <th>poutcome_failure</th>\n",
       "      <th>poutcome_other</th>\n",
       "      <th>poutcome_success</th>\n",
       "      <th>poutcome_unknown</th>\n",
       "      <th>y_yes</th>\n",
       "    </tr>\n",
       "  </thead>\n",
       "  <tbody>\n",
       "    <tr>\n",
       "      <th>0</th>\n",
       "      <td>58</td>\n",
       "      <td>2143</td>\n",
       "      <td>5</td>\n",
       "      <td>1</td>\n",
       "      <td>-1</td>\n",
       "      <td>0</td>\n",
       "      <td>0</td>\n",
       "      <td>0</td>\n",
       "      <td>0</td>\n",
       "      <td>0</td>\n",
       "      <td>...</td>\n",
       "      <td>0</td>\n",
       "      <td>1</td>\n",
       "      <td>0</td>\n",
       "      <td>0</td>\n",
       "      <td>0</td>\n",
       "      <td>0</td>\n",
       "      <td>0</td>\n",
       "      <td>0</td>\n",
       "      <td>1</td>\n",
       "      <td>0</td>\n",
       "    </tr>\n",
       "    <tr>\n",
       "      <th>1</th>\n",
       "      <td>44</td>\n",
       "      <td>29</td>\n",
       "      <td>5</td>\n",
       "      <td>1</td>\n",
       "      <td>-1</td>\n",
       "      <td>0</td>\n",
       "      <td>0</td>\n",
       "      <td>0</td>\n",
       "      <td>0</td>\n",
       "      <td>0</td>\n",
       "      <td>...</td>\n",
       "      <td>0</td>\n",
       "      <td>1</td>\n",
       "      <td>0</td>\n",
       "      <td>0</td>\n",
       "      <td>0</td>\n",
       "      <td>0</td>\n",
       "      <td>0</td>\n",
       "      <td>0</td>\n",
       "      <td>1</td>\n",
       "      <td>0</td>\n",
       "    </tr>\n",
       "    <tr>\n",
       "      <th>2</th>\n",
       "      <td>33</td>\n",
       "      <td>2</td>\n",
       "      <td>5</td>\n",
       "      <td>1</td>\n",
       "      <td>-1</td>\n",
       "      <td>0</td>\n",
       "      <td>0</td>\n",
       "      <td>0</td>\n",
       "      <td>1</td>\n",
       "      <td>0</td>\n",
       "      <td>...</td>\n",
       "      <td>0</td>\n",
       "      <td>1</td>\n",
       "      <td>0</td>\n",
       "      <td>0</td>\n",
       "      <td>0</td>\n",
       "      <td>0</td>\n",
       "      <td>0</td>\n",
       "      <td>0</td>\n",
       "      <td>1</td>\n",
       "      <td>0</td>\n",
       "    </tr>\n",
       "    <tr>\n",
       "      <th>3</th>\n",
       "      <td>47</td>\n",
       "      <td>1506</td>\n",
       "      <td>5</td>\n",
       "      <td>1</td>\n",
       "      <td>-1</td>\n",
       "      <td>0</td>\n",
       "      <td>0</td>\n",
       "      <td>1</td>\n",
       "      <td>0</td>\n",
       "      <td>0</td>\n",
       "      <td>...</td>\n",
       "      <td>0</td>\n",
       "      <td>1</td>\n",
       "      <td>0</td>\n",
       "      <td>0</td>\n",
       "      <td>0</td>\n",
       "      <td>0</td>\n",
       "      <td>0</td>\n",
       "      <td>0</td>\n",
       "      <td>1</td>\n",
       "      <td>0</td>\n",
       "    </tr>\n",
       "    <tr>\n",
       "      <th>4</th>\n",
       "      <td>33</td>\n",
       "      <td>1</td>\n",
       "      <td>5</td>\n",
       "      <td>1</td>\n",
       "      <td>-1</td>\n",
       "      <td>0</td>\n",
       "      <td>0</td>\n",
       "      <td>0</td>\n",
       "      <td>0</td>\n",
       "      <td>0</td>\n",
       "      <td>...</td>\n",
       "      <td>0</td>\n",
       "      <td>1</td>\n",
       "      <td>0</td>\n",
       "      <td>0</td>\n",
       "      <td>0</td>\n",
       "      <td>0</td>\n",
       "      <td>0</td>\n",
       "      <td>0</td>\n",
       "      <td>1</td>\n",
       "      <td>0</td>\n",
       "    </tr>\n",
       "  </tbody>\n",
       "</table>\n",
       "<p>5 rows × 51 columns</p>\n",
       "</div>"
      ],
      "text/plain": [
       "   age  balance  day  campaign  pdays  previous  job_admin.  job_blue-collar  \\\n",
       "0   58     2143    5         1     -1         0           0                0   \n",
       "1   44       29    5         1     -1         0           0                0   \n",
       "2   33        2    5         1     -1         0           0                0   \n",
       "3   47     1506    5         1     -1         0           0                1   \n",
       "4   33        1    5         1     -1         0           0                0   \n",
       "\n",
       "   job_entrepreneur  job_housemaid  ...    month_mar  month_may  month_nov  \\\n",
       "0                 0              0  ...            0          1          0   \n",
       "1                 0              0  ...            0          1          0   \n",
       "2                 1              0  ...            0          1          0   \n",
       "3                 0              0  ...            0          1          0   \n",
       "4                 0              0  ...            0          1          0   \n",
       "\n",
       "   month_oct  month_sep  poutcome_failure  poutcome_other  poutcome_success  \\\n",
       "0          0          0                 0               0                 0   \n",
       "1          0          0                 0               0                 0   \n",
       "2          0          0                 0               0                 0   \n",
       "3          0          0                 0               0                 0   \n",
       "4          0          0                 0               0                 0   \n",
       "\n",
       "   poutcome_unknown  y_yes  \n",
       "0                 1      0  \n",
       "1                 1      0  \n",
       "2                 1      0  \n",
       "3                 1      0  \n",
       "4                 1      0  \n",
       "\n",
       "[5 rows x 51 columns]"
      ]
     },
     "execution_count": 22,
     "metadata": {},
     "output_type": "execute_result"
    }
   ],
   "source": [
    "newdf.head(5)"
   ]
  },
  {
   "cell_type": "markdown",
   "metadata": {},
   "source": [
    "##### Further Pre-processing by splitting the dataset into train and test\n",
    "This is done prior to any feature selection. "
   ]
  },
  {
   "cell_type": "markdown",
   "metadata": {},
   "source": [
    "Perform feature selection on training dataset only\n",
    "Ref. : https://machinelearningmastery.com/an-introduction-to-feature-selection/"
   ]
  },
  {
   "cell_type": "code",
   "execution_count": 23,
   "metadata": {},
   "outputs": [],
   "source": [
    "from sklearn.model_selection import train_test_split\n",
    "\n",
    "# Using stratefied sampling ensures that the proportion of classes is maintained in training & test dataset  \n",
    "train,test = train_test_split(newdf,stratify=newdf['y_yes'],test_size=0.3)\n"
   ]
  },
  {
   "cell_type": "markdown",
   "metadata": {},
   "source": [
    "Note results below confirm we have the proportion of class imbalance\n",
    "before and after the split is the same."
   ]
  },
  {
   "cell_type": "code",
   "execution_count": 24,
   "metadata": {},
   "outputs": [
    {
     "name": "stdout",
     "output_type": "stream",
     "text": [
      "Num_Yes0 = 27945\n",
      "% Num_Yes0 = 88.30220874016494 % \n",
      "\n",
      "Num_Yes1= 3702\n",
      "% Num_Yes1 = 11.697791259835055 %\n"
     ]
    }
   ],
   "source": [
    "Num_Yes0 = sum(1 for i in train['y_yes'] if i==0)\n",
    "Num_Yes1 = sum(1 for i in train['y_yes'] if i==1)\n",
    "\n",
    "Total_Yes0_1 = Num_Yes0 + Num_Yes1\n",
    "\n",
    "print(\"Num_Yes0 =\",Num_Yes0)\n",
    "print(\"% Num_Yes0 =\",Num_Yes0*100/Total_Yes0_1,\"%\",\"\\n\")\n",
    "\n",
    "print(\"Num_Yes1=\",Num_Yes1)\n",
    "print(\"% Num_Yes1 =\",Num_Yes1*100/Total_Yes0_1,\"%\")"
   ]
  },
  {
   "cell_type": "markdown",
   "metadata": {},
   "source": [
    "## <font color= blue> Data Analysis "
   ]
  },
  {
   "cell_type": "markdown",
   "metadata": {},
   "source": [
    "#### Performing a correlation analysis to identify and remove highly correlated features in feature selection phase. "
   ]
  },
  {
   "cell_type": "markdown",
   "metadata": {},
   "source": [
    "#### Plot correlation matrix to see the relationship between variables concatenate X and Y"
   ]
  },
  {
   "cell_type": "code",
   "execution_count": 25,
   "metadata": {},
   "outputs": [
    {
     "data": {
      "text/plain": [
       "<matplotlib.axes._subplots.AxesSubplot at 0x1ae0948cc0>"
      ]
     },
     "execution_count": 25,
     "metadata": {},
     "output_type": "execute_result"
    },
    {
     "data": {
      "image/png": "[encoded data removed]",
      "text/plain": [
       "<Figure size 432x288 with 2 Axes>"
      ]
     },
     "metadata": {},
     "output_type": "display_data"
    }
   ],
   "source": [
    "\n",
    "train_corrMat = train.corr()\n",
    "\n",
    "train_corrMat.style.background_gradient()\n",
    "sns.heatmap(train_corrMat)\n"
   ]
  },
  {
   "cell_type": "code",
   "execution_count": 26,
   "metadata": {},
   "outputs": [
    {
     "data": {
      "text/html": [
       "<div>\n",
       "<style scoped>\n",
       "    .dataframe tbody tr th:only-of-type {\n",
       "        vertical-align: middle;\n",
       "    }\n",
       "\n",
       "    .dataframe tbody tr th {\n",
       "        vertical-align: top;\n",
       "    }\n",
       "\n",
       "    .dataframe thead th {\n",
       "        text-align: right;\n",
       "    }\n",
       "</style>\n",
       "<table border=\"1\" class=\"dataframe\">\n",
       "  <thead>\n",
       "    <tr style=\"text-align: right;\">\n",
       "      <th></th>\n",
       "      <th>age</th>\n",
       "      <th>balance</th>\n",
       "      <th>day</th>\n",
       "      <th>campaign</th>\n",
       "      <th>pdays</th>\n",
       "      <th>previous</th>\n",
       "      <th>job_admin.</th>\n",
       "      <th>job_blue-collar</th>\n",
       "      <th>job_entrepreneur</th>\n",
       "      <th>job_housemaid</th>\n",
       "      <th>...</th>\n",
       "      <th>month_mar</th>\n",
       "      <th>month_may</th>\n",
       "      <th>month_nov</th>\n",
       "      <th>month_oct</th>\n",
       "      <th>month_sep</th>\n",
       "      <th>poutcome_failure</th>\n",
       "      <th>poutcome_other</th>\n",
       "      <th>poutcome_success</th>\n",
       "      <th>poutcome_unknown</th>\n",
       "      <th>y_yes</th>\n",
       "    </tr>\n",
       "  </thead>\n",
       "  <tbody>\n",
       "    <tr>\n",
       "      <th>age</th>\n",
       "      <td>1.000000</td>\n",
       "      <td>0.100513</td>\n",
       "      <td>-0.009511</td>\n",
       "      <td>0.005216</td>\n",
       "      <td>-0.024873</td>\n",
       "      <td>-0.002837</td>\n",
       "      <td>-0.056353</td>\n",
       "      <td>-0.042764</td>\n",
       "      <td>0.020744</td>\n",
       "      <td>0.091302</td>\n",
       "      <td>...</td>\n",
       "      <td>0.020764</td>\n",
       "      <td>-0.127614</td>\n",
       "      <td>0.033675</td>\n",
       "      <td>0.053947</td>\n",
       "      <td>0.035954</td>\n",
       "      <td>-0.005044</td>\n",
       "      <td>-0.025759</td>\n",
       "      <td>0.029070</td>\n",
       "      <td>0.003656</td>\n",
       "      <td>0.027418</td>\n",
       "    </tr>\n",
       "    <tr>\n",
       "      <th>balance</th>\n",
       "      <td>0.100513</td>\n",
       "      <td>1.000000</td>\n",
       "      <td>0.004077</td>\n",
       "      <td>-0.014940</td>\n",
       "      <td>0.001526</td>\n",
       "      <td>0.015330</td>\n",
       "      <td>-0.027464</td>\n",
       "      <td>-0.050687</td>\n",
       "      <td>0.013493</td>\n",
       "      <td>0.003045</td>\n",
       "      <td>...</td>\n",
       "      <td>0.023360</td>\n",
       "      <td>-0.070328</td>\n",
       "      <td>0.113327</td>\n",
       "      <td>0.037028</td>\n",
       "      <td>0.027538</td>\n",
       "      <td>0.008361</td>\n",
       "      <td>0.012583</td>\n",
       "      <td>0.032587</td>\n",
       "      <td>-0.028369</td>\n",
       "      <td>0.053380</td>\n",
       "    </tr>\n",
       "    <tr>\n",
       "      <th>day</th>\n",
       "      <td>-0.009511</td>\n",
       "      <td>0.004077</td>\n",
       "      <td>1.000000</td>\n",
       "      <td>0.161174</td>\n",
       "      <td>-0.091535</td>\n",
       "      <td>-0.050873</td>\n",
       "      <td>-0.008375</td>\n",
       "      <td>-0.022728</td>\n",
       "      <td>0.001423</td>\n",
       "      <td>0.005285</td>\n",
       "      <td>...</td>\n",
       "      <td>-0.019467</td>\n",
       "      <td>-0.019219</td>\n",
       "      <td>0.093265</td>\n",
       "      <td>0.034459</td>\n",
       "      <td>-0.046971</td>\n",
       "      <td>-0.067140</td>\n",
       "      <td>-0.034823</td>\n",
       "      <td>-0.026801</td>\n",
       "      <td>0.084345</td>\n",
       "      <td>-0.024853</td>\n",
       "    </tr>\n",
       "    <tr>\n",
       "      <th>campaign</th>\n",
       "      <td>0.005216</td>\n",
       "      <td>-0.014940</td>\n",
       "      <td>0.161174</td>\n",
       "      <td>1.000000</td>\n",
       "      <td>-0.088437</td>\n",
       "      <td>-0.030259</td>\n",
       "      <td>-0.019422</td>\n",
       "      <td>0.007915</td>\n",
       "      <td>0.002926</td>\n",
       "      <td>0.005752</td>\n",
       "      <td>...</td>\n",
       "      <td>-0.020566</td>\n",
       "      <td>-0.065612</td>\n",
       "      <td>-0.086822</td>\n",
       "      <td>-0.051721</td>\n",
       "      <td>-0.038371</td>\n",
       "      <td>-0.087937</td>\n",
       "      <td>-0.018906</td>\n",
       "      <td>-0.056181</td>\n",
       "      <td>0.106663</td>\n",
       "      <td>-0.073226</td>\n",
       "    </tr>\n",
       "    <tr>\n",
       "      <th>pdays</th>\n",
       "      <td>-0.024873</td>\n",
       "      <td>0.001526</td>\n",
       "      <td>-0.091535</td>\n",
       "      <td>-0.088437</td>\n",
       "      <td>1.000000</td>\n",
       "      <td>0.429456</td>\n",
       "      <td>0.033750</td>\n",
       "      <td>0.017910</td>\n",
       "      <td>-0.018245</td>\n",
       "      <td>-0.033074</td>\n",
       "      <td>...</td>\n",
       "      <td>0.038242</td>\n",
       "      <td>0.077589</td>\n",
       "      <td>0.007504</td>\n",
       "      <td>0.054819</td>\n",
       "      <td>0.086121</td>\n",
       "      <td>0.703429</td>\n",
       "      <td>0.383291</td>\n",
       "      <td>0.228384</td>\n",
       "      <td>-0.868655</td>\n",
       "      <td>0.105699</td>\n",
       "    </tr>\n",
       "    <tr>\n",
       "      <th>previous</th>\n",
       "      <td>-0.002837</td>\n",
       "      <td>0.015330</td>\n",
       "      <td>-0.050873</td>\n",
       "      <td>-0.030259</td>\n",
       "      <td>0.429456</td>\n",
       "      <td>1.000000</td>\n",
       "      <td>0.016647</td>\n",
       "      <td>-0.014504</td>\n",
       "      <td>-0.015444</td>\n",
       "      <td>-0.019562</td>\n",
       "      <td>...</td>\n",
       "      <td>0.029282</td>\n",
       "      <td>0.003046</td>\n",
       "      <td>0.033695</td>\n",
       "      <td>0.048880</td>\n",
       "      <td>0.061829</td>\n",
       "      <td>0.330699</td>\n",
       "      <td>0.298302</td>\n",
       "      <td>0.179172</td>\n",
       "      <td>-0.502242</td>\n",
       "      <td>0.081084</td>\n",
       "    </tr>\n",
       "    <tr>\n",
       "      <th>job_admin.</th>\n",
       "      <td>-0.056353</td>\n",
       "      <td>-0.027464</td>\n",
       "      <td>-0.008375</td>\n",
       "      <td>-0.019422</td>\n",
       "      <td>0.033750</td>\n",
       "      <td>0.016647</td>\n",
       "      <td>1.000000</td>\n",
       "      <td>-0.186521</td>\n",
       "      <td>-0.065574</td>\n",
       "      <td>-0.061074</td>\n",
       "      <td>...</td>\n",
       "      <td>0.013969</td>\n",
       "      <td>0.023092</td>\n",
       "      <td>-0.008141</td>\n",
       "      <td>0.011068</td>\n",
       "      <td>0.008527</td>\n",
       "      <td>0.023791</td>\n",
       "      <td>0.012149</td>\n",
       "      <td>0.012801</td>\n",
       "      <td>-0.031332</td>\n",
       "      <td>0.003593</td>\n",
       "    </tr>\n",
       "    <tr>\n",
       "      <th>job_blue-collar</th>\n",
       "      <td>-0.042764</td>\n",
       "      <td>-0.050687</td>\n",
       "      <td>-0.022728</td>\n",
       "      <td>0.007915</td>\n",
       "      <td>0.017910</td>\n",
       "      <td>-0.014504</td>\n",
       "      <td>-0.186521</td>\n",
       "      <td>1.000000</td>\n",
       "      <td>-0.095980</td>\n",
       "      <td>-0.089394</td>\n",
       "      <td>...</td>\n",
       "      <td>-0.042592</td>\n",
       "      <td>0.164337</td>\n",
       "      <td>-0.046966</td>\n",
       "      <td>-0.042189</td>\n",
       "      <td>-0.047638</td>\n",
       "      <td>0.002852</td>\n",
       "      <td>-0.001505</td>\n",
       "      <td>-0.055934</td>\n",
       "      <td>0.024578</td>\n",
       "      <td>-0.074479</td>\n",
       "    </tr>\n",
       "    <tr>\n",
       "      <th>job_entrepreneur</th>\n",
       "      <td>0.020744</td>\n",
       "      <td>0.013493</td>\n",
       "      <td>0.001423</td>\n",
       "      <td>0.002926</td>\n",
       "      <td>-0.018245</td>\n",
       "      <td>-0.015444</td>\n",
       "      <td>-0.065574</td>\n",
       "      <td>-0.095980</td>\n",
       "      <td>1.000000</td>\n",
       "      <td>-0.031428</td>\n",
       "      <td>...</td>\n",
       "      <td>-0.017907</td>\n",
       "      <td>-0.006066</td>\n",
       "      <td>0.042660</td>\n",
       "      <td>-0.011188</td>\n",
       "      <td>-0.007234</td>\n",
       "      <td>-0.002025</td>\n",
       "      <td>-0.015408</td>\n",
       "      <td>-0.024503</td>\n",
       "      <td>0.020939</td>\n",
       "      <td>-0.019276</td>\n",
       "    </tr>\n",
       "    <tr>\n",
       "      <th>job_housemaid</th>\n",
       "      <td>0.091302</td>\n",
       "      <td>0.003045</td>\n",
       "      <td>0.005285</td>\n",
       "      <td>0.005752</td>\n",
       "      <td>-0.033074</td>\n",
       "      <td>-0.019562</td>\n",
       "      <td>-0.061074</td>\n",
       "      <td>-0.089394</td>\n",
       "      <td>-0.031428</td>\n",
       "      <td>1.000000</td>\n",
       "      <td>...</td>\n",
       "      <td>0.001579</td>\n",
       "      <td>-0.068859</td>\n",
       "      <td>-0.015618</td>\n",
       "      <td>0.000274</td>\n",
       "      <td>-0.003143</td>\n",
       "      <td>-0.018338</td>\n",
       "      <td>-0.017985</td>\n",
       "      <td>-0.015153</td>\n",
       "      <td>0.031023</td>\n",
       "      <td>-0.015544</td>\n",
       "    </tr>\n",
       "    <tr>\n",
       "      <th>job_management</th>\n",
       "      <td>-0.021211</td>\n",
       "      <td>0.068875</td>\n",
       "      <td>0.016401</td>\n",
       "      <td>0.014411</td>\n",
       "      <td>-0.007190</td>\n",
       "      <td>0.023962</td>\n",
       "      <td>-0.184227</td>\n",
       "      <td>-0.269652</td>\n",
       "      <td>-0.094799</td>\n",
       "      <td>-0.088295</td>\n",
       "      <td>...</td>\n",
       "      <td>0.025089</td>\n",
       "      <td>-0.086858</td>\n",
       "      <td>0.052968</td>\n",
       "      <td>0.005742</td>\n",
       "      <td>0.025187</td>\n",
       "      <td>0.004682</td>\n",
       "      <td>0.004499</td>\n",
       "      <td>0.021960</td>\n",
       "      <td>-0.016317</td>\n",
       "      <td>0.030251</td>\n",
       "    </tr>\n",
       "    <tr>\n",
       "      <th>job_retired</th>\n",
       "      <td>0.446103</td>\n",
       "      <td>0.047014</td>\n",
       "      <td>-0.011844</td>\n",
       "      <td>-0.031412</td>\n",
       "      <td>-0.007931</td>\n",
       "      <td>0.001625</td>\n",
       "      <td>-0.081641</td>\n",
       "      <td>-0.119497</td>\n",
       "      <td>-0.042011</td>\n",
       "      <td>-0.039128</td>\n",
       "      <td>...</td>\n",
       "      <td>0.045914</td>\n",
       "      <td>-0.075041</td>\n",
       "      <td>-0.018249</td>\n",
       "      <td>0.069817</td>\n",
       "      <td>0.069055</td>\n",
       "      <td>-0.008111</td>\n",
       "      <td>-0.008209</td>\n",
       "      <td>0.053813</td>\n",
       "      <td>-0.014391</td>\n",
       "      <td>0.083235</td>\n",
       "    </tr>\n",
       "    <tr>\n",
       "      <th>job_self-employed</th>\n",
       "      <td>-0.004985</td>\n",
       "      <td>0.020090</td>\n",
       "      <td>0.008292</td>\n",
       "      <td>0.005888</td>\n",
       "      <td>-0.006626</td>\n",
       "      <td>-0.000719</td>\n",
       "      <td>-0.068503</td>\n",
       "      <td>-0.100267</td>\n",
       "      <td>-0.035250</td>\n",
       "      <td>-0.032831</td>\n",
       "      <td>...</td>\n",
       "      <td>-0.005899</td>\n",
       "      <td>-0.028323</td>\n",
       "      <td>0.041550</td>\n",
       "      <td>0.000665</td>\n",
       "      <td>-0.010238</td>\n",
       "      <td>0.003035</td>\n",
       "      <td>-0.003325</td>\n",
       "      <td>0.004756</td>\n",
       "      <td>-0.002963</td>\n",
       "      <td>0.000275</td>\n",
       "    </tr>\n",
       "    <tr>\n",
       "      <th>job_services</th>\n",
       "      <td>-0.070187</td>\n",
       "      <td>-0.041421</td>\n",
       "      <td>-0.007722</td>\n",
       "      <td>-0.003318</td>\n",
       "      <td>0.003548</td>\n",
       "      <td>-0.011004</td>\n",
       "      <td>-0.113661</td>\n",
       "      <td>-0.166364</td>\n",
       "      <td>-0.058487</td>\n",
       "      <td>-0.054474</td>\n",
       "      <td>...</td>\n",
       "      <td>-0.020488</td>\n",
       "      <td>0.058595</td>\n",
       "      <td>-0.017209</td>\n",
       "      <td>-0.029168</td>\n",
       "      <td>-0.025348</td>\n",
       "      <td>-0.005394</td>\n",
       "      <td>0.006171</td>\n",
       "      <td>-0.026257</td>\n",
       "      <td>0.013443</td>\n",
       "      <td>-0.026784</td>\n",
       "    </tr>\n",
       "    <tr>\n",
       "      <th>job_student</th>\n",
       "      <td>-0.197904</td>\n",
       "      <td>0.000297</td>\n",
       "      <td>-0.020657</td>\n",
       "      <td>-0.020225</td>\n",
       "      <td>0.022488</td>\n",
       "      <td>0.021712</td>\n",
       "      <td>-0.052219</td>\n",
       "      <td>-0.076432</td>\n",
       "      <td>-0.026871</td>\n",
       "      <td>-0.025027</td>\n",
       "      <td>...</td>\n",
       "      <td>0.047159</td>\n",
       "      <td>-0.008010</td>\n",
       "      <td>-0.015886</td>\n",
       "      <td>0.024422</td>\n",
       "      <td>0.058447</td>\n",
       "      <td>0.001250</td>\n",
       "      <td>0.035640</td>\n",
       "      <td>0.053253</td>\n",
       "      <td>-0.044072</td>\n",
       "      <td>0.073759</td>\n",
       "    </tr>\n",
       "    <tr>\n",
       "      <th>job_technician</th>\n",
       "      <td>-0.068857</td>\n",
       "      <td>-0.014748</td>\n",
       "      <td>0.032257</td>\n",
       "      <td>0.017307</td>\n",
       "      <td>-0.013140</td>\n",
       "      <td>-0.002798</td>\n",
       "      <td>-0.160198</td>\n",
       "      <td>-0.234480</td>\n",
       "      <td>-0.082434</td>\n",
       "      <td>-0.076778</td>\n",
       "      <td>...</td>\n",
       "      <td>-0.011772</td>\n",
       "      <td>-0.033830</td>\n",
       "      <td>-0.006672</td>\n",
       "      <td>0.001771</td>\n",
       "      <td>-0.020799</td>\n",
       "      <td>-0.003527</td>\n",
       "      <td>-0.003169</td>\n",
       "      <td>0.003185</td>\n",
       "      <td>0.002971</td>\n",
       "      <td>-0.004624</td>\n",
       "    </tr>\n",
       "    <tr>\n",
       "      <th>job_unemployed</th>\n",
       "      <td>-0.002482</td>\n",
       "      <td>0.006723</td>\n",
       "      <td>-0.006488</td>\n",
       "      <td>-0.014570</td>\n",
       "      <td>-0.011597</td>\n",
       "      <td>-0.010056</td>\n",
       "      <td>-0.061631</td>\n",
       "      <td>-0.090209</td>\n",
       "      <td>-0.031714</td>\n",
       "      <td>-0.029538</td>\n",
       "      <td>...</td>\n",
       "      <td>0.004818</td>\n",
       "      <td>-0.034567</td>\n",
       "      <td>0.012836</td>\n",
       "      <td>0.004325</td>\n",
       "      <td>0.006441</td>\n",
       "      <td>-0.016212</td>\n",
       "      <td>-0.009878</td>\n",
       "      <td>0.014667</td>\n",
       "      <td>0.011252</td>\n",
       "      <td>0.021609</td>\n",
       "    </tr>\n",
       "    <tr>\n",
       "      <th>job_unknown</th>\n",
       "      <td>0.049428</td>\n",
       "      <td>0.011420</td>\n",
       "      <td>-0.007145</td>\n",
       "      <td>0.014174</td>\n",
       "      <td>-0.010233</td>\n",
       "      <td>-0.006363</td>\n",
       "      <td>-0.028468</td>\n",
       "      <td>-0.041669</td>\n",
       "      <td>-0.014649</td>\n",
       "      <td>-0.013644</td>\n",
       "      <td>...</td>\n",
       "      <td>-0.004725</td>\n",
       "      <td>-0.033447</td>\n",
       "      <td>-0.010719</td>\n",
       "      <td>0.021019</td>\n",
       "      <td>0.011730</td>\n",
       "      <td>-0.007410</td>\n",
       "      <td>-0.012415</td>\n",
       "      <td>0.007161</td>\n",
       "      <td>0.008967</td>\n",
       "      <td>0.003231</td>\n",
       "    </tr>\n",
       "    <tr>\n",
       "      <th>marital_divorced</th>\n",
       "      <td>0.166937</td>\n",
       "      <td>-0.023795</td>\n",
       "      <td>-0.003867</td>\n",
       "      <td>-0.020304</td>\n",
       "      <td>0.008294</td>\n",
       "      <td>0.002143</td>\n",
       "      <td>0.036192</td>\n",
       "      <td>-0.062605</td>\n",
       "      <td>0.002351</td>\n",
       "      <td>0.022353</td>\n",
       "      <td>...</td>\n",
       "      <td>-0.005575</td>\n",
       "      <td>0.006584</td>\n",
       "      <td>0.014823</td>\n",
       "      <td>-0.005378</td>\n",
       "      <td>-0.008732</td>\n",
       "      <td>0.003664</td>\n",
       "      <td>0.007787</td>\n",
       "      <td>-0.005988</td>\n",
       "      <td>-0.004134</td>\n",
       "      <td>0.002255</td>\n",
       "    </tr>\n",
       "    <tr>\n",
       "      <th>marital_married</th>\n",
       "      <td>0.286089</td>\n",
       "      <td>0.028669</td>\n",
       "      <td>0.011895</td>\n",
       "      <td>0.033706</td>\n",
       "      <td>-0.025960</td>\n",
       "      <td>-0.014641</td>\n",
       "      <td>-0.067162</td>\n",
       "      <td>0.122854</td>\n",
       "      <td>0.043274</td>\n",
       "      <td>0.043957</td>\n",
       "      <td>...</td>\n",
       "      <td>-0.017946</td>\n",
       "      <td>-0.038039</td>\n",
       "      <td>0.018353</td>\n",
       "      <td>-0.009462</td>\n",
       "      <td>-0.015065</td>\n",
       "      <td>-0.004299</td>\n",
       "      <td>-0.028785</td>\n",
       "      <td>-0.024139</td>\n",
       "      <td>0.029436</td>\n",
       "      <td>-0.055771</td>\n",
       "    </tr>\n",
       "    <tr>\n",
       "      <th>marital_single</th>\n",
       "      <td>-0.429098</td>\n",
       "      <td>-0.014301</td>\n",
       "      <td>-0.010187</td>\n",
       "      <td>-0.022248</td>\n",
       "      <td>0.022335</td>\n",
       "      <td>0.014392</td>\n",
       "      <td>0.047349</td>\n",
       "      <td>-0.089162</td>\n",
       "      <td>-0.048689</td>\n",
       "      <td>-0.063596</td>\n",
       "      <td>...</td>\n",
       "      <td>0.023448</td>\n",
       "      <td>0.036672</td>\n",
       "      <td>-0.030440</td>\n",
       "      <td>0.014090</td>\n",
       "      <td>0.022555</td>\n",
       "      <td>0.002077</td>\n",
       "      <td>0.025764</td>\n",
       "      <td>0.030472</td>\n",
       "      <td>-0.029059</td>\n",
       "      <td>0.059006</td>\n",
       "    </tr>\n",
       "    <tr>\n",
       "      <th>education_primary</th>\n",
       "      <td>0.200128</td>\n",
       "      <td>-0.012053</td>\n",
       "      <td>-0.020567</td>\n",
       "      <td>0.008858</td>\n",
       "      <td>-0.021809</td>\n",
       "      <td>-0.017983</td>\n",
       "      <td>-0.107486</td>\n",
       "      <td>0.336615</td>\n",
       "      <td>-0.017211</td>\n",
       "      <td>0.176743</td>\n",
       "      <td>...</td>\n",
       "      <td>-0.012816</td>\n",
       "      <td>0.028968</td>\n",
       "      <td>-0.032211</td>\n",
       "      <td>-0.010766</td>\n",
       "      <td>-0.008356</td>\n",
       "      <td>-0.023335</td>\n",
       "      <td>-0.013870</td>\n",
       "      <td>-0.037590</td>\n",
       "      <td>0.043414</td>\n",
       "      <td>-0.038966</td>\n",
       "    </tr>\n",
       "    <tr>\n",
       "      <th>education_secondary</th>\n",
       "      <td>-0.098467</td>\n",
       "      <td>-0.070351</td>\n",
       "      <td>-0.003260</td>\n",
       "      <td>-0.019784</td>\n",
       "      <td>0.025741</td>\n",
       "      <td>-0.004231</td>\n",
       "      <td>0.215704</td>\n",
       "      <td>0.044867</td>\n",
       "      <td>-0.052108</td>\n",
       "      <td>-0.070569</td>\n",
       "      <td>...</td>\n",
       "      <td>-0.026244</td>\n",
       "      <td>0.085670</td>\n",
       "      <td>-0.018431</td>\n",
       "      <td>-0.018400</td>\n",
       "      <td>-0.030145</td>\n",
       "      <td>0.013864</td>\n",
       "      <td>0.013988</td>\n",
       "      <td>-0.025845</td>\n",
       "      <td>-0.006245</td>\n",
       "      <td>-0.036064</td>\n",
       "    </tr>\n",
       "    <tr>\n",
       "      <th>education_tertiary</th>\n",
       "      <td>-0.079924</td>\n",
       "      <td>0.080168</td>\n",
       "      <td>0.018422</td>\n",
       "      <td>0.010076</td>\n",
       "      <td>-0.006492</td>\n",
       "      <td>0.023769</td>\n",
       "      <td>-0.145638</td>\n",
       "      <td>-0.320299</td>\n",
       "      <td>0.065403</td>\n",
       "      <td>-0.059541</td>\n",
       "      <td>...</td>\n",
       "      <td>0.036001</td>\n",
       "      <td>-0.114433</td>\n",
       "      <td>0.053830</td>\n",
       "      <td>0.023443</td>\n",
       "      <td>0.029424</td>\n",
       "      <td>0.009180</td>\n",
       "      <td>-0.001898</td>\n",
       "      <td>0.052585</td>\n",
       "      <td>-0.030961</td>\n",
       "      <td>0.064272</td>\n",
       "    </tr>\n",
       "    <tr>\n",
       "      <th>education_unknown</th>\n",
       "      <td>0.068905</td>\n",
       "      <td>0.014740</td>\n",
       "      <td>0.003141</td>\n",
       "      <td>0.010602</td>\n",
       "      <td>-0.010367</td>\n",
       "      <td>-0.011375</td>\n",
       "      <td>-0.013648</td>\n",
       "      <td>0.013091</td>\n",
       "      <td>0.012088</td>\n",
       "      <td>-0.005769</td>\n",
       "      <td>...</td>\n",
       "      <td>0.006568</td>\n",
       "      <td>-0.005227</td>\n",
       "      <td>-0.018917</td>\n",
       "      <td>0.011959</td>\n",
       "      <td>0.023415</td>\n",
       "      <td>-0.013712</td>\n",
       "      <td>-0.005721</td>\n",
       "      <td>0.012346</td>\n",
       "      <td>0.008199</td>\n",
       "      <td>0.013709</td>\n",
       "    </tr>\n",
       "    <tr>\n",
       "      <th>default_no</th>\n",
       "      <td>0.019932</td>\n",
       "      <td>0.066854</td>\n",
       "      <td>-0.007166</td>\n",
       "      <td>-0.018492</td>\n",
       "      <td>0.028973</td>\n",
       "      <td>0.016688</td>\n",
       "      <td>0.009248</td>\n",
       "      <td>-0.008095</td>\n",
       "      <td>-0.027337</td>\n",
       "      <td>-0.001171</td>\n",
       "      <td>...</td>\n",
       "      <td>0.014433</td>\n",
       "      <td>-0.002471</td>\n",
       "      <td>-0.002410</td>\n",
       "      <td>0.017506</td>\n",
       "      <td>0.015654</td>\n",
       "      <td>0.023655</td>\n",
       "      <td>0.017085</td>\n",
       "      <td>0.022667</td>\n",
       "      <td>-0.038350</td>\n",
       "      <td>0.024092</td>\n",
       "    </tr>\n",
       "    <tr>\n",
       "      <th>default_yes</th>\n",
       "      <td>-0.019932</td>\n",
       "      <td>-0.066854</td>\n",
       "      <td>0.007166</td>\n",
       "      <td>0.018492</td>\n",
       "      <td>-0.028973</td>\n",
       "      <td>-0.016688</td>\n",
       "      <td>-0.009248</td>\n",
       "      <td>0.008095</td>\n",
       "      <td>0.027337</td>\n",
       "      <td>0.001171</td>\n",
       "      <td>...</td>\n",
       "      <td>-0.014433</td>\n",
       "      <td>0.002471</td>\n",
       "      <td>0.002410</td>\n",
       "      <td>-0.017506</td>\n",
       "      <td>-0.015654</td>\n",
       "      <td>-0.023655</td>\n",
       "      <td>-0.017085</td>\n",
       "      <td>-0.022667</td>\n",
       "      <td>0.038350</td>\n",
       "      <td>-0.024092</td>\n",
       "    </tr>\n",
       "    <tr>\n",
       "      <th>housing_no</th>\n",
       "      <td>0.184056</td>\n",
       "      <td>0.072941</td>\n",
       "      <td>0.027564</td>\n",
       "      <td>0.019990</td>\n",
       "      <td>-0.124341</td>\n",
       "      <td>-0.038689</td>\n",
       "      <td>-0.043172</td>\n",
       "      <td>-0.177717</td>\n",
       "      <td>-0.012376</td>\n",
       "      <td>0.081674</td>\n",
       "      <td>...</td>\n",
       "      <td>0.064502</td>\n",
       "      <td>-0.426286</td>\n",
       "      <td>-0.001722</td>\n",
       "      <td>0.083823</td>\n",
       "      <td>0.079905</td>\n",
       "      <td>-0.109950</td>\n",
       "      <td>-0.039581</td>\n",
       "      <td>0.094148</td>\n",
       "      <td>0.064788</td>\n",
       "      <td>0.141403</td>\n",
       "    </tr>\n",
       "    <tr>\n",
       "      <th>housing_yes</th>\n",
       "      <td>-0.184056</td>\n",
       "      <td>-0.072941</td>\n",
       "      <td>-0.027564</td>\n",
       "      <td>-0.019990</td>\n",
       "      <td>0.124341</td>\n",
       "      <td>0.038689</td>\n",
       "      <td>0.043172</td>\n",
       "      <td>0.177717</td>\n",
       "      <td>0.012376</td>\n",
       "      <td>-0.081674</td>\n",
       "      <td>...</td>\n",
       "      <td>-0.064502</td>\n",
       "      <td>0.426286</td>\n",
       "      <td>0.001722</td>\n",
       "      <td>-0.083823</td>\n",
       "      <td>-0.079905</td>\n",
       "      <td>0.109950</td>\n",
       "      <td>0.039581</td>\n",
       "      <td>-0.094148</td>\n",
       "      <td>-0.064788</td>\n",
       "      <td>-0.141403</td>\n",
       "    </tr>\n",
       "    <tr>\n",
       "      <th>loan_no</th>\n",
       "      <td>0.016278</td>\n",
       "      <td>0.088702</td>\n",
       "      <td>-0.014581</td>\n",
       "      <td>-0.007064</td>\n",
       "      <td>0.020170</td>\n",
       "      <td>0.007582</td>\n",
       "      <td>-0.030578</td>\n",
       "      <td>-0.022700</td>\n",
       "      <td>-0.036982</td>\n",
       "      <td>0.014335</td>\n",
       "      <td>...</td>\n",
       "      <td>0.035842</td>\n",
       "      <td>0.026021</td>\n",
       "      <td>-0.020430</td>\n",
       "      <td>0.031286</td>\n",
       "      <td>0.034541</td>\n",
       "      <td>-0.000220</td>\n",
       "      <td>0.008728</td>\n",
       "      <td>0.053294</td>\n",
       "      <td>-0.029156</td>\n",
       "      <td>0.072417</td>\n",
       "    </tr>\n",
       "    <tr>\n",
       "      <th>loan_yes</th>\n",
       "      <td>-0.016278</td>\n",
       "      <td>-0.088702</td>\n",
       "      <td>0.014581</td>\n",
       "      <td>0.007064</td>\n",
       "      <td>-0.020170</td>\n",
       "      <td>-0.007582</td>\n",
       "      <td>0.030578</td>\n",
       "      <td>0.022700</td>\n",
       "      <td>0.036982</td>\n",
       "      <td>-0.014335</td>\n",
       "      <td>...</td>\n",
       "      <td>-0.035842</td>\n",
       "      <td>-0.026021</td>\n",
       "      <td>0.020430</td>\n",
       "      <td>-0.031286</td>\n",
       "      <td>-0.034541</td>\n",
       "      <td>0.000220</td>\n",
       "      <td>-0.008728</td>\n",
       "      <td>-0.053294</td>\n",
       "      <td>0.029156</td>\n",
       "      <td>-0.072417</td>\n",
       "    </tr>\n",
       "    <tr>\n",
       "      <th>contact_cellular</th>\n",
       "      <td>-0.065183</td>\n",
       "      <td>0.013413</td>\n",
       "      <td>0.017061</td>\n",
       "      <td>-0.031432</td>\n",
       "      <td>0.228260</td>\n",
       "      <td>0.124398</td>\n",
       "      <td>0.004408</td>\n",
       "      <td>-0.124626</td>\n",
       "      <td>-0.001958</td>\n",
       "      <td>-0.019499</td>\n",
       "      <td>...</td>\n",
       "      <td>0.048967</td>\n",
       "      <td>-0.363728</td>\n",
       "      <td>0.155787</td>\n",
       "      <td>0.030669</td>\n",
       "      <td>0.043942</td>\n",
       "      <td>0.204979</td>\n",
       "      <td>0.100845</td>\n",
       "      <td>0.104206</td>\n",
       "      <td>-0.265157</td>\n",
       "      <td>0.134701</td>\n",
       "    </tr>\n",
       "    <tr>\n",
       "      <th>contact_telephone</th>\n",
       "      <td>0.165002</td>\n",
       "      <td>0.032387</td>\n",
       "      <td>0.024365</td>\n",
       "      <td>0.048684</td>\n",
       "      <td>0.011069</td>\n",
       "      <td>0.025611</td>\n",
       "      <td>-0.013107</td>\n",
       "      <td>-0.009068</td>\n",
       "      <td>-0.003544</td>\n",
       "      <td>0.040154</td>\n",
       "      <td>...</td>\n",
       "      <td>0.023666</td>\n",
       "      <td>-0.082989</td>\n",
       "      <td>0.044816</td>\n",
       "      <td>0.056689</td>\n",
       "      <td>0.011720</td>\n",
       "      <td>0.000886</td>\n",
       "      <td>0.033132</td>\n",
       "      <td>0.010619</td>\n",
       "      <td>-0.022600</td>\n",
       "      <td>0.013254</td>\n",
       "    </tr>\n",
       "    <tr>\n",
       "      <th>contact_unknown</th>\n",
       "      <td>-0.020334</td>\n",
       "      <td>-0.031634</td>\n",
       "      <td>-0.031150</td>\n",
       "      <td>0.006869</td>\n",
       "      <td>-0.246739</td>\n",
       "      <td>-0.145039</td>\n",
       "      <td>0.002428</td>\n",
       "      <td>0.136348</td>\n",
       "      <td>0.003979</td>\n",
       "      <td>-0.001113</td>\n",
       "      <td>...</td>\n",
       "      <td>-0.064426</td>\n",
       "      <td>0.428457</td>\n",
       "      <td>-0.188517</td>\n",
       "      <td>-0.062956</td>\n",
       "      <td>-0.052677</td>\n",
       "      <td>-0.216684</td>\n",
       "      <td>-0.124257</td>\n",
       "      <td>-0.115647</td>\n",
       "      <td>0.291882</td>\n",
       "      <td>-0.149235</td>\n",
       "    </tr>\n",
       "    <tr>\n",
       "      <th>month_apr</th>\n",
       "      <td>-0.029905</td>\n",
       "      <td>0.015143</td>\n",
       "      <td>0.043174</td>\n",
       "      <td>-0.070403</td>\n",
       "      <td>0.146060</td>\n",
       "      <td>0.049424</td>\n",
       "      <td>0.022574</td>\n",
       "      <td>0.030014</td>\n",
       "      <td>-0.014888</td>\n",
       "      <td>-0.013927</td>\n",
       "      <td>...</td>\n",
       "      <td>-0.027991</td>\n",
       "      <td>-0.172895</td>\n",
       "      <td>-0.081566</td>\n",
       "      <td>-0.033952</td>\n",
       "      <td>-0.030361</td>\n",
       "      <td>0.127574</td>\n",
       "      <td>0.055187</td>\n",
       "      <td>0.012200</td>\n",
       "      <td>-0.136581</td>\n",
       "      <td>0.057457</td>\n",
       "    </tr>\n",
       "    <tr>\n",
       "      <th>month_aug</th>\n",
       "      <td>0.078874</td>\n",
       "      <td>0.013375</td>\n",
       "      <td>0.026388</td>\n",
       "      <td>0.148263</td>\n",
       "      <td>-0.109252</td>\n",
       "      <td>-0.051418</td>\n",
       "      <td>-0.072056</td>\n",
       "      <td>-0.114330</td>\n",
       "      <td>-0.042763</td>\n",
       "      <td>0.036517</td>\n",
       "      <td>...</td>\n",
       "      <td>-0.042767</td>\n",
       "      <td>-0.264162</td>\n",
       "      <td>-0.124623</td>\n",
       "      <td>-0.051874</td>\n",
       "      <td>-0.046387</td>\n",
       "      <td>-0.091466</td>\n",
       "      <td>-0.054476</td>\n",
       "      <td>-0.003571</td>\n",
       "      <td>0.103127</td>\n",
       "      <td>-0.007604</td>\n",
       "    </tr>\n",
       "    <tr>\n",
       "      <th>month_dec</th>\n",
       "      <td>0.020727</td>\n",
       "      <td>0.023802</td>\n",
       "      <td>-0.006466</td>\n",
       "      <td>-0.011724</td>\n",
       "      <td>0.049611</td>\n",
       "      <td>0.036442</td>\n",
       "      <td>0.000398</td>\n",
       "      <td>-0.027917</td>\n",
       "      <td>-0.007379</td>\n",
       "      <td>0.002204</td>\n",
       "      <td>...</td>\n",
       "      <td>-0.007311</td>\n",
       "      <td>-0.045161</td>\n",
       "      <td>-0.021305</td>\n",
       "      <td>-0.008868</td>\n",
       "      <td>-0.007930</td>\n",
       "      <td>0.017652</td>\n",
       "      <td>0.028009</td>\n",
       "      <td>0.087166</td>\n",
       "      <td>-0.069202</td>\n",
       "      <td>0.064397</td>\n",
       "    </tr>\n",
       "    <tr>\n",
       "      <th>month_feb</th>\n",
       "      <td>0.000828</td>\n",
       "      <td>-0.002808</td>\n",
       "      <td>-0.286916</td>\n",
       "      <td>-0.024534</td>\n",
       "      <td>0.073730</td>\n",
       "      <td>0.067319</td>\n",
       "      <td>0.002096</td>\n",
       "      <td>-0.040531</td>\n",
       "      <td>-0.000930</td>\n",
       "      <td>-0.014773</td>\n",
       "      <td>...</td>\n",
       "      <td>-0.026775</td>\n",
       "      <td>-0.165386</td>\n",
       "      <td>-0.078024</td>\n",
       "      <td>-0.032477</td>\n",
       "      <td>-0.029042</td>\n",
       "      <td>0.072409</td>\n",
       "      <td>0.072022</td>\n",
       "      <td>0.034538</td>\n",
       "      <td>-0.111206</td>\n",
       "      <td>0.040614</td>\n",
       "    </tr>\n",
       "    <tr>\n",
       "      <th>month_jan</th>\n",
       "      <td>-0.017339</td>\n",
       "      <td>-0.026467</td>\n",
       "      <td>0.253464</td>\n",
       "      <td>-0.061714</td>\n",
       "      <td>0.051368</td>\n",
       "      <td>0.046231</td>\n",
       "      <td>0.006569</td>\n",
       "      <td>-0.034400</td>\n",
       "      <td>0.001824</td>\n",
       "      <td>-0.005544</td>\n",
       "      <td>...</td>\n",
       "      <td>-0.019138</td>\n",
       "      <td>-0.118209</td>\n",
       "      <td>-0.055767</td>\n",
       "      <td>-0.023213</td>\n",
       "      <td>-0.020758</td>\n",
       "      <td>0.059781</td>\n",
       "      <td>0.053058</td>\n",
       "      <td>0.015758</td>\n",
       "      <td>-0.082586</td>\n",
       "      <td>-0.010440</td>\n",
       "    </tr>\n",
       "    <tr>\n",
       "      <th>month_jul</th>\n",
       "      <td>0.002146</td>\n",
       "      <td>-0.069133</td>\n",
       "      <td>0.145424</td>\n",
       "      <td>0.100857</td>\n",
       "      <td>-0.137504</td>\n",
       "      <td>-0.080124</td>\n",
       "      <td>0.017810</td>\n",
       "      <td>-0.009892</td>\n",
       "      <td>0.026083</td>\n",
       "      <td>0.033883</td>\n",
       "      <td>...</td>\n",
       "      <td>-0.045356</td>\n",
       "      <td>-0.280153</td>\n",
       "      <td>-0.132167</td>\n",
       "      <td>-0.055014</td>\n",
       "      <td>-0.049195</td>\n",
       "      <td>-0.127850</td>\n",
       "      <td>-0.072166</td>\n",
       "      <td>-0.045021</td>\n",
       "      <td>0.160798</td>\n",
       "      <td>-0.031909</td>\n",
       "    </tr>\n",
       "    <tr>\n",
       "      <th>month_jun</th>\n",
       "      <td>0.051791</td>\n",
       "      <td>0.031310</td>\n",
       "      <td>-0.194439</td>\n",
       "      <td>0.046512</td>\n",
       "      <td>-0.114895</td>\n",
       "      <td>-0.059886</td>\n",
       "      <td>-0.002757</td>\n",
       "      <td>0.019444</td>\n",
       "      <td>0.013290</td>\n",
       "      <td>0.059479</td>\n",
       "      <td>...</td>\n",
       "      <td>-0.038846</td>\n",
       "      <td>-0.239944</td>\n",
       "      <td>-0.113198</td>\n",
       "      <td>-0.047118</td>\n",
       "      <td>-0.042135</td>\n",
       "      <td>-0.098964</td>\n",
       "      <td>-0.051756</td>\n",
       "      <td>-0.027842</td>\n",
       "      <td>0.119100</td>\n",
       "      <td>-0.018199</td>\n",
       "    </tr>\n",
       "    <tr>\n",
       "      <th>month_mar</th>\n",
       "      <td>0.020764</td>\n",
       "      <td>0.023360</td>\n",
       "      <td>-0.019467</td>\n",
       "      <td>-0.020566</td>\n",
       "      <td>0.038242</td>\n",
       "      <td>0.029282</td>\n",
       "      <td>0.013969</td>\n",
       "      <td>-0.042592</td>\n",
       "      <td>-0.017907</td>\n",
       "      <td>0.001579</td>\n",
       "      <td>...</td>\n",
       "      <td>1.000000</td>\n",
       "      <td>-0.070274</td>\n",
       "      <td>-0.033153</td>\n",
       "      <td>-0.013800</td>\n",
       "      <td>-0.012340</td>\n",
       "      <td>0.018475</td>\n",
       "      <td>0.024958</td>\n",
       "      <td>0.058004</td>\n",
       "      <td>-0.054696</td>\n",
       "      <td>0.130845</td>\n",
       "    </tr>\n",
       "    <tr>\n",
       "      <th>month_may</th>\n",
       "      <td>-0.127614</td>\n",
       "      <td>-0.070328</td>\n",
       "      <td>-0.019219</td>\n",
       "      <td>-0.065612</td>\n",
       "      <td>0.077589</td>\n",
       "      <td>0.003046</td>\n",
       "      <td>0.023092</td>\n",
       "      <td>0.164337</td>\n",
       "      <td>-0.006066</td>\n",
       "      <td>-0.068859</td>\n",
       "      <td>...</td>\n",
       "      <td>-0.070274</td>\n",
       "      <td>1.000000</td>\n",
       "      <td>-0.204778</td>\n",
       "      <td>-0.085239</td>\n",
       "      <td>-0.076223</td>\n",
       "      <td>0.026346</td>\n",
       "      <td>0.007384</td>\n",
       "      <td>-0.055800</td>\n",
       "      <td>0.001063</td>\n",
       "      <td>-0.101551</td>\n",
       "    </tr>\n",
       "    <tr>\n",
       "      <th>month_nov</th>\n",
       "      <td>0.033675</td>\n",
       "      <td>0.113327</td>\n",
       "      <td>0.093265</td>\n",
       "      <td>-0.086822</td>\n",
       "      <td>0.007504</td>\n",
       "      <td>0.033695</td>\n",
       "      <td>-0.008141</td>\n",
       "      <td>-0.046966</td>\n",
       "      <td>0.042660</td>\n",
       "      <td>-0.015618</td>\n",
       "      <td>...</td>\n",
       "      <td>-0.033153</td>\n",
       "      <td>-0.204778</td>\n",
       "      <td>1.000000</td>\n",
       "      <td>-0.040213</td>\n",
       "      <td>-0.035960</td>\n",
       "      <td>0.092400</td>\n",
       "      <td>0.026075</td>\n",
       "      <td>-0.004428</td>\n",
       "      <td>-0.085632</td>\n",
       "      <td>-0.017737</td>\n",
       "    </tr>\n",
       "    <tr>\n",
       "      <th>month_oct</th>\n",
       "      <td>0.053947</td>\n",
       "      <td>0.037028</td>\n",
       "      <td>0.034459</td>\n",
       "      <td>-0.051721</td>\n",
       "      <td>0.054819</td>\n",
       "      <td>0.048880</td>\n",
       "      <td>0.011068</td>\n",
       "      <td>-0.042189</td>\n",
       "      <td>-0.011188</td>\n",
       "      <td>0.000274</td>\n",
       "      <td>...</td>\n",
       "      <td>-0.013800</td>\n",
       "      <td>-0.085239</td>\n",
       "      <td>-0.040213</td>\n",
       "      <td>1.000000</td>\n",
       "      <td>-0.014968</td>\n",
       "      <td>0.036053</td>\n",
       "      <td>0.024789</td>\n",
       "      <td>0.102268</td>\n",
       "      <td>-0.089416</td>\n",
       "      <td>0.134483</td>\n",
       "    </tr>\n",
       "    <tr>\n",
       "      <th>month_sep</th>\n",
       "      <td>0.035954</td>\n",
       "      <td>0.027538</td>\n",
       "      <td>-0.046971</td>\n",
       "      <td>-0.038371</td>\n",
       "      <td>0.086121</td>\n",
       "      <td>0.061829</td>\n",
       "      <td>0.008527</td>\n",
       "      <td>-0.047638</td>\n",
       "      <td>-0.007234</td>\n",
       "      <td>-0.003143</td>\n",
       "      <td>...</td>\n",
       "      <td>-0.012340</td>\n",
       "      <td>-0.076223</td>\n",
       "      <td>-0.035960</td>\n",
       "      <td>-0.014968</td>\n",
       "      <td>1.000000</td>\n",
       "      <td>0.040381</td>\n",
       "      <td>0.027912</td>\n",
       "      <td>0.125445</td>\n",
       "      <td>-0.105312</td>\n",
       "      <td>0.126683</td>\n",
       "    </tr>\n",
       "    <tr>\n",
       "      <th>poutcome_failure</th>\n",
       "      <td>-0.005044</td>\n",
       "      <td>0.008361</td>\n",
       "      <td>-0.067140</td>\n",
       "      <td>-0.087937</td>\n",
       "      <td>0.703429</td>\n",
       "      <td>0.330699</td>\n",
       "      <td>0.023791</td>\n",
       "      <td>0.002852</td>\n",
       "      <td>-0.002025</td>\n",
       "      <td>-0.018338</td>\n",
       "      <td>...</td>\n",
       "      <td>0.018475</td>\n",
       "      <td>0.026346</td>\n",
       "      <td>0.092400</td>\n",
       "      <td>0.036053</td>\n",
       "      <td>0.040381</td>\n",
       "      <td>1.000000</td>\n",
       "      <td>-0.072112</td>\n",
       "      <td>-0.065381</td>\n",
       "      <td>-0.737550</td>\n",
       "      <td>0.009990</td>\n",
       "    </tr>\n",
       "    <tr>\n",
       "      <th>poutcome_other</th>\n",
       "      <td>-0.025759</td>\n",
       "      <td>0.012583</td>\n",
       "      <td>-0.034823</td>\n",
       "      <td>-0.018906</td>\n",
       "      <td>0.383291</td>\n",
       "      <td>0.298302</td>\n",
       "      <td>0.012149</td>\n",
       "      <td>-0.001505</td>\n",
       "      <td>-0.015408</td>\n",
       "      <td>-0.017985</td>\n",
       "      <td>...</td>\n",
       "      <td>0.024958</td>\n",
       "      <td>0.007384</td>\n",
       "      <td>0.026075</td>\n",
       "      <td>0.024789</td>\n",
       "      <td>0.027912</td>\n",
       "      <td>-0.072112</td>\n",
       "      <td>1.000000</td>\n",
       "      <td>-0.038559</td>\n",
       "      <td>-0.434976</td>\n",
       "      <td>0.033788</td>\n",
       "    </tr>\n",
       "    <tr>\n",
       "      <th>poutcome_success</th>\n",
       "      <td>0.029070</td>\n",
       "      <td>0.032587</td>\n",
       "      <td>-0.026801</td>\n",
       "      <td>-0.056181</td>\n",
       "      <td>0.228384</td>\n",
       "      <td>0.179172</td>\n",
       "      <td>0.012801</td>\n",
       "      <td>-0.055934</td>\n",
       "      <td>-0.024503</td>\n",
       "      <td>-0.015153</td>\n",
       "      <td>...</td>\n",
       "      <td>0.058004</td>\n",
       "      <td>-0.055800</td>\n",
       "      <td>-0.004428</td>\n",
       "      <td>0.102268</td>\n",
       "      <td>0.125445</td>\n",
       "      <td>-0.065381</td>\n",
       "      <td>-0.038559</td>\n",
       "      <td>1.000000</td>\n",
       "      <td>-0.394375</td>\n",
       "      <td>0.304732</td>\n",
       "    </tr>\n",
       "    <tr>\n",
       "      <th>poutcome_unknown</th>\n",
       "      <td>0.003656</td>\n",
       "      <td>-0.028369</td>\n",
       "      <td>0.084345</td>\n",
       "      <td>0.106663</td>\n",
       "      <td>-0.868655</td>\n",
       "      <td>-0.502242</td>\n",
       "      <td>-0.031332</td>\n",
       "      <td>0.024578</td>\n",
       "      <td>0.020939</td>\n",
       "      <td>0.031023</td>\n",
       "      <td>...</td>\n",
       "      <td>-0.054696</td>\n",
       "      <td>0.001063</td>\n",
       "      <td>-0.085632</td>\n",
       "      <td>-0.089416</td>\n",
       "      <td>-0.105312</td>\n",
       "      <td>-0.737550</td>\n",
       "      <td>-0.434976</td>\n",
       "      <td>-0.394375</td>\n",
       "      <td>1.000000</td>\n",
       "      <td>-0.167528</td>\n",
       "    </tr>\n",
       "    <tr>\n",
       "      <th>y_yes</th>\n",
       "      <td>0.027418</td>\n",
       "      <td>0.053380</td>\n",
       "      <td>-0.024853</td>\n",
       "      <td>-0.073226</td>\n",
       "      <td>0.105699</td>\n",
       "      <td>0.081084</td>\n",
       "      <td>0.003593</td>\n",
       "      <td>-0.074479</td>\n",
       "      <td>-0.019276</td>\n",
       "      <td>-0.015544</td>\n",
       "      <td>...</td>\n",
       "      <td>0.130845</td>\n",
       "      <td>-0.101551</td>\n",
       "      <td>-0.017737</td>\n",
       "      <td>0.134483</td>\n",
       "      <td>0.126683</td>\n",
       "      <td>0.009990</td>\n",
       "      <td>0.033788</td>\n",
       "      <td>0.304732</td>\n",
       "      <td>-0.167528</td>\n",
       "      <td>1.000000</td>\n",
       "    </tr>\n",
       "  </tbody>\n",
       "</table>\n",
       "<p>51 rows × 51 columns</p>\n",
       "</div>"
      ],
      "text/plain": [
       "                          age   balance       day  campaign     pdays  \\\n",
       "age                  1.000000  0.100513 -0.009511  0.005216 -0.024873   \n",
       "balance              0.100513  1.000000  0.004077 -0.014940  0.001526   \n",
       "day                 -0.009511  0.004077  1.000000  0.161174 -0.091535   \n",
       "campaign             0.005216 -0.014940  0.161174  1.000000 -0.088437   \n",
       "pdays               -0.024873  0.001526 -0.091535 -0.088437  1.000000   \n",
       "previous            -0.002837  0.015330 -0.050873 -0.030259  0.429456   \n",
       "job_admin.          -0.056353 -0.027464 -0.008375 -0.019422  0.033750   \n",
       "job_blue-collar     -0.042764 -0.050687 -0.022728  0.007915  0.017910   \n",
       "job_entrepreneur     0.020744  0.013493  0.001423  0.002926 -0.018245   \n",
       "job_housemaid        0.091302  0.003045  0.005285  0.005752 -0.033074   \n",
       "job_management      -0.021211  0.068875  0.016401  0.014411 -0.007190   \n",
       "job_retired          0.446103  0.047014 -0.011844 -0.031412 -0.007931   \n",
       "job_self-employed   -0.004985  0.020090  0.008292  0.005888 -0.006626   \n",
       "job_services        -0.070187 -0.041421 -0.007722 -0.003318  0.003548   \n",
       "job_student         -0.197904  0.000297 -0.020657 -0.020225  0.022488   \n",
       "job_technician      -0.068857 -0.014748  0.032257  0.017307 -0.013140   \n",
       "job_unemployed      -0.002482  0.006723 -0.006488 -0.014570 -0.011597   \n",
       "job_unknown          0.049428  0.011420 -0.007145  0.014174 -0.010233   \n",
       "marital_divorced     0.166937 -0.023795 -0.003867 -0.020304  0.008294   \n",
       "marital_married      0.286089  0.028669  0.011895  0.033706 -0.025960   \n",
       "marital_single      -0.429098 -0.014301 -0.010187 -0.022248  0.022335   \n",
       "education_primary    0.200128 -0.012053 -0.020567  0.008858 -0.021809   \n",
       "education_secondary -0.098467 -0.070351 -0.003260 -0.019784  0.025741   \n",
       "education_tertiary  -0.079924  0.080168  0.018422  0.010076 -0.006492   \n",
       "education_unknown    0.068905  0.014740  0.003141  0.010602 -0.010367   \n",
       "default_no           0.019932  0.066854 -0.007166 -0.018492  0.028973   \n",
       "default_yes         -0.019932 -0.066854  0.007166  0.018492 -0.028973   \n",
       "housing_no           0.184056  0.072941  0.027564  0.019990 -0.124341   \n",
       "housing_yes         -0.184056 -0.072941 -0.027564 -0.019990  0.124341   \n",
       "loan_no              0.016278  0.088702 -0.014581 -0.007064  0.020170   \n",
       "loan_yes            -0.016278 -0.088702  0.014581  0.007064 -0.020170   \n",
       "contact_cellular    -0.065183  0.013413  0.017061 -0.031432  0.228260   \n",
       "contact_telephone    0.165002  0.032387  0.024365  0.048684  0.011069   \n",
       "contact_unknown     -0.020334 -0.031634 -0.031150  0.006869 -0.246739   \n",
       "month_apr           -0.029905  0.015143  0.043174 -0.070403  0.146060   \n",
       "month_aug            0.078874  0.013375  0.026388  0.148263 -0.109252   \n",
       "month_dec            0.020727  0.023802 -0.006466 -0.011724  0.049611   \n",
       "month_feb            0.000828 -0.002808 -0.286916 -0.024534  0.073730   \n",
       "month_jan           -0.017339 -0.026467  0.253464 -0.061714  0.051368   \n",
       "month_jul            0.002146 -0.069133  0.145424  0.100857 -0.137504   \n",
       "month_jun            0.051791  0.031310 -0.194439  0.046512 -0.114895   \n",
       "month_mar            0.020764  0.023360 -0.019467 -0.020566  0.038242   \n",
       "month_may           -0.127614 -0.070328 -0.019219 -0.065612  0.077589   \n",
       "month_nov            0.033675  0.113327  0.093265 -0.086822  0.007504   \n",
       "month_oct            0.053947  0.037028  0.034459 -0.051721  0.054819   \n",
       "month_sep            0.035954  0.027538 -0.046971 -0.038371  0.086121   \n",
       "poutcome_failure    -0.005044  0.008361 -0.067140 -0.087937  0.703429   \n",
       "poutcome_other      -0.025759  0.012583 -0.034823 -0.018906  0.383291   \n",
       "poutcome_success     0.029070  0.032587 -0.026801 -0.056181  0.228384   \n",
       "poutcome_unknown     0.003656 -0.028369  0.084345  0.106663 -0.868655   \n",
       "y_yes                0.027418  0.053380 -0.024853 -0.073226  0.105699   \n",
       "\n",
       "                     previous  job_admin.  job_blue-collar  job_entrepreneur  \\\n",
       "age                 -0.002837   -0.056353        -0.042764          0.020744   \n",
       "balance              0.015330   -0.027464        -0.050687          0.013493   \n",
       "day                 -0.050873   -0.008375        -0.022728          0.001423   \n",
       "campaign            -0.030259   -0.019422         0.007915          0.002926   \n",
       "pdays                0.429456    0.033750         0.017910         -0.018245   \n",
       "previous             1.000000    0.016647        -0.014504         -0.015444   \n",
       "job_admin.           0.016647    1.000000        -0.186521         -0.065574   \n",
       "job_blue-collar     -0.014504   -0.186521         1.000000         -0.095980   \n",
       "job_entrepreneur    -0.015444   -0.065574        -0.095980          1.000000   \n",
       "job_housemaid       -0.019562   -0.061074        -0.089394         -0.031428   \n",
       "job_management       0.023962   -0.184227        -0.269652         -0.094799   \n",
       "job_retired          0.001625   -0.081641        -0.119497         -0.042011   \n",
       "job_self-employed   -0.000719   -0.068503        -0.100267         -0.035250   \n",
       "job_services        -0.011004   -0.113661        -0.166364         -0.058487   \n",
       "job_student          0.021712   -0.052219        -0.076432         -0.026871   \n",
       "job_technician      -0.002798   -0.160198        -0.234480         -0.082434   \n",
       "job_unemployed      -0.010056   -0.061631        -0.090209         -0.031714   \n",
       "job_unknown         -0.006363   -0.028468        -0.041669         -0.014649   \n",
       "marital_divorced     0.002143    0.036192        -0.062605          0.002351   \n",
       "marital_married     -0.014641   -0.067162         0.122854          0.043274   \n",
       "marital_single       0.014392    0.047349        -0.089162         -0.048689   \n",
       "education_primary   -0.017983   -0.107486         0.336615         -0.017211   \n",
       "education_secondary -0.004231    0.215704         0.044867         -0.052108   \n",
       "education_tertiary   0.023769   -0.145638        -0.320299          0.065403   \n",
       "education_unknown   -0.011375   -0.013648         0.013091          0.012088   \n",
       "default_no           0.016688    0.009248        -0.008095         -0.027337   \n",
       "default_yes         -0.016688   -0.009248         0.008095          0.027337   \n",
       "housing_no          -0.038689   -0.043172        -0.177717         -0.012376   \n",
       "housing_yes          0.038689    0.043172         0.177717          0.012376   \n",
       "loan_no              0.007582   -0.030578        -0.022700         -0.036982   \n",
       "loan_yes            -0.007582    0.030578         0.022700          0.036982   \n",
       "contact_cellular     0.124398    0.004408        -0.124626         -0.001958   \n",
       "contact_telephone    0.025611   -0.013107        -0.009068         -0.003544   \n",
       "contact_unknown     -0.145039    0.002428         0.136348          0.003979   \n",
       "month_apr            0.049424    0.022574         0.030014         -0.014888   \n",
       "month_aug           -0.051418   -0.072056        -0.114330         -0.042763   \n",
       "month_dec            0.036442    0.000398        -0.027917         -0.007379   \n",
       "month_feb            0.067319    0.002096        -0.040531         -0.000930   \n",
       "month_jan            0.046231    0.006569        -0.034400          0.001824   \n",
       "month_jul           -0.080124    0.017810        -0.009892          0.026083   \n",
       "month_jun           -0.059886   -0.002757         0.019444          0.013290   \n",
       "month_mar            0.029282    0.013969        -0.042592         -0.017907   \n",
       "month_may            0.003046    0.023092         0.164337         -0.006066   \n",
       "month_nov            0.033695   -0.008141        -0.046966          0.042660   \n",
       "month_oct            0.048880    0.011068        -0.042189         -0.011188   \n",
       "month_sep            0.061829    0.008527        -0.047638         -0.007234   \n",
       "poutcome_failure     0.330699    0.023791         0.002852         -0.002025   \n",
       "poutcome_other       0.298302    0.012149        -0.001505         -0.015408   \n",
       "poutcome_success     0.179172    0.012801        -0.055934         -0.024503   \n",
       "poutcome_unknown    -0.502242   -0.031332         0.024578          0.020939   \n",
       "y_yes                0.081084    0.003593        -0.074479         -0.019276   \n",
       "\n",
       "                     job_housemaid    ...     month_mar  month_may  month_nov  \\\n",
       "age                       0.091302    ...      0.020764  -0.127614   0.033675   \n",
       "balance                   0.003045    ...      0.023360  -0.070328   0.113327   \n",
       "day                       0.005285    ...     -0.019467  -0.019219   0.093265   \n",
       "campaign                  0.005752    ...     -0.020566  -0.065612  -0.086822   \n",
       "pdays                    -0.033074    ...      0.038242   0.077589   0.007504   \n",
       "previous                 -0.019562    ...      0.029282   0.003046   0.033695   \n",
       "job_admin.               -0.061074    ...      0.013969   0.023092  -0.008141   \n",
       "job_blue-collar          -0.089394    ...     -0.042592   0.164337  -0.046966   \n",
       "job_entrepreneur         -0.031428    ...     -0.017907  -0.006066   0.042660   \n",
       "job_housemaid             1.000000    ...      0.001579  -0.068859  -0.015618   \n",
       "job_management           -0.088295    ...      0.025089  -0.086858   0.052968   \n",
       "job_retired              -0.039128    ...      0.045914  -0.075041  -0.018249   \n",
       "job_self-employed        -0.032831    ...     -0.005899  -0.028323   0.041550   \n",
       "job_services             -0.054474    ...     -0.020488   0.058595  -0.017209   \n",
       "job_student              -0.025027    ...      0.047159  -0.008010  -0.015886   \n",
       "job_technician           -0.076778    ...     -0.011772  -0.033830  -0.006672   \n",
       "job_unemployed           -0.029538    ...      0.004818  -0.034567   0.012836   \n",
       "job_unknown              -0.013644    ...     -0.004725  -0.033447  -0.010719   \n",
       "marital_divorced          0.022353    ...     -0.005575   0.006584   0.014823   \n",
       "marital_married           0.043957    ...     -0.017946  -0.038039   0.018353   \n",
       "marital_single           -0.063596    ...      0.023448   0.036672  -0.030440   \n",
       "education_primary         0.176743    ...     -0.012816   0.028968  -0.032211   \n",
       "education_secondary      -0.070569    ...     -0.026244   0.085670  -0.018431   \n",
       "education_tertiary       -0.059541    ...      0.036001  -0.114433   0.053830   \n",
       "education_unknown        -0.005769    ...      0.006568  -0.005227  -0.018917   \n",
       "default_no               -0.001171    ...      0.014433  -0.002471  -0.002410   \n",
       "default_yes               0.001171    ...     -0.014433   0.002471   0.002410   \n",
       "housing_no                0.081674    ...      0.064502  -0.426286  -0.001722   \n",
       "housing_yes              -0.081674    ...     -0.064502   0.426286   0.001722   \n",
       "loan_no                   0.014335    ...      0.035842   0.026021  -0.020430   \n",
       "loan_yes                 -0.014335    ...     -0.035842  -0.026021   0.020430   \n",
       "contact_cellular         -0.019499    ...      0.048967  -0.363728   0.155787   \n",
       "contact_telephone         0.040154    ...      0.023666  -0.082989   0.044816   \n",
       "contact_unknown          -0.001113    ...     -0.064426   0.428457  -0.188517   \n",
       "month_apr                -0.013927    ...     -0.027991  -0.172895  -0.081566   \n",
       "month_aug                 0.036517    ...     -0.042767  -0.264162  -0.124623   \n",
       "month_dec                 0.002204    ...     -0.007311  -0.045161  -0.021305   \n",
       "month_feb                -0.014773    ...     -0.026775  -0.165386  -0.078024   \n",
       "month_jan                -0.005544    ...     -0.019138  -0.118209  -0.055767   \n",
       "month_jul                 0.033883    ...     -0.045356  -0.280153  -0.132167   \n",
       "month_jun                 0.059479    ...     -0.038846  -0.239944  -0.113198   \n",
       "month_mar                 0.001579    ...      1.000000  -0.070274  -0.033153   \n",
       "month_may                -0.068859    ...     -0.070274   1.000000  -0.204778   \n",
       "month_nov                -0.015618    ...     -0.033153  -0.204778   1.000000   \n",
       "month_oct                 0.000274    ...     -0.013800  -0.085239  -0.040213   \n",
       "month_sep                -0.003143    ...     -0.012340  -0.076223  -0.035960   \n",
       "poutcome_failure         -0.018338    ...      0.018475   0.026346   0.092400   \n",
       "poutcome_other           -0.017985    ...      0.024958   0.007384   0.026075   \n",
       "poutcome_success         -0.015153    ...      0.058004  -0.055800  -0.004428   \n",
       "poutcome_unknown          0.031023    ...     -0.054696   0.001063  -0.085632   \n",
       "y_yes                    -0.015544    ...      0.130845  -0.101551  -0.017737   \n",
       "\n",
       "                     month_oct  month_sep  poutcome_failure  poutcome_other  \\\n",
       "age                   0.053947   0.035954         -0.005044       -0.025759   \n",
       "balance               0.037028   0.027538          0.008361        0.012583   \n",
       "day                   0.034459  -0.046971         -0.067140       -0.034823   \n",
       "campaign             -0.051721  -0.038371         -0.087937       -0.018906   \n",
       "pdays                 0.054819   0.086121          0.703429        0.383291   \n",
       "previous              0.048880   0.061829          0.330699        0.298302   \n",
       "job_admin.            0.011068   0.008527          0.023791        0.012149   \n",
       "job_blue-collar      -0.042189  -0.047638          0.002852       -0.001505   \n",
       "job_entrepreneur     -0.011188  -0.007234         -0.002025       -0.015408   \n",
       "job_housemaid         0.000274  -0.003143         -0.018338       -0.017985   \n",
       "job_management        0.005742   0.025187          0.004682        0.004499   \n",
       "job_retired           0.069817   0.069055         -0.008111       -0.008209   \n",
       "job_self-employed     0.000665  -0.010238          0.003035       -0.003325   \n",
       "job_services         -0.029168  -0.025348         -0.005394        0.006171   \n",
       "job_student           0.024422   0.058447          0.001250        0.035640   \n",
       "job_technician        0.001771  -0.020799         -0.003527       -0.003169   \n",
       "job_unemployed        0.004325   0.006441         -0.016212       -0.009878   \n",
       "job_unknown           0.021019   0.011730         -0.007410       -0.012415   \n",
       "marital_divorced     -0.005378  -0.008732          0.003664        0.007787   \n",
       "marital_married      -0.009462  -0.015065         -0.004299       -0.028785   \n",
       "marital_single        0.014090   0.022555          0.002077        0.025764   \n",
       "education_primary    -0.010766  -0.008356         -0.023335       -0.013870   \n",
       "education_secondary  -0.018400  -0.030145          0.013864        0.013988   \n",
       "education_tertiary    0.023443   0.029424          0.009180       -0.001898   \n",
       "education_unknown     0.011959   0.023415         -0.013712       -0.005721   \n",
       "default_no            0.017506   0.015654          0.023655        0.017085   \n",
       "default_yes          -0.017506  -0.015654         -0.023655       -0.017085   \n",
       "housing_no            0.083823   0.079905         -0.109950       -0.039581   \n",
       "housing_yes          -0.083823  -0.079905          0.109950        0.039581   \n",
       "loan_no               0.031286   0.034541         -0.000220        0.008728   \n",
       "loan_yes             -0.031286  -0.034541          0.000220       -0.008728   \n",
       "contact_cellular      0.030669   0.043942          0.204979        0.100845   \n",
       "contact_telephone     0.056689   0.011720          0.000886        0.033132   \n",
       "contact_unknown      -0.062956  -0.052677         -0.216684       -0.124257   \n",
       "month_apr            -0.033952  -0.030361          0.127574        0.055187   \n",
       "month_aug            -0.051874  -0.046387         -0.091466       -0.054476   \n",
       "month_dec            -0.008868  -0.007930          0.017652        0.028009   \n",
       "month_feb            -0.032477  -0.029042          0.072409        0.072022   \n",
       "month_jan            -0.023213  -0.020758          0.059781        0.053058   \n",
       "month_jul            -0.055014  -0.049195         -0.127850       -0.072166   \n",
       "month_jun            -0.047118  -0.042135         -0.098964       -0.051756   \n",
       "month_mar            -0.013800  -0.012340          0.018475        0.024958   \n",
       "month_may            -0.085239  -0.076223          0.026346        0.007384   \n",
       "month_nov            -0.040213  -0.035960          0.092400        0.026075   \n",
       "month_oct             1.000000  -0.014968          0.036053        0.024789   \n",
       "month_sep            -0.014968   1.000000          0.040381        0.027912   \n",
       "poutcome_failure      0.036053   0.040381          1.000000       -0.072112   \n",
       "poutcome_other        0.024789   0.027912         -0.072112        1.000000   \n",
       "poutcome_success      0.102268   0.125445         -0.065381       -0.038559   \n",
       "poutcome_unknown     -0.089416  -0.105312         -0.737550       -0.434976   \n",
       "y_yes                 0.134483   0.126683          0.009990        0.033788   \n",
       "\n",
       "                     poutcome_success  poutcome_unknown     y_yes  \n",
       "age                          0.029070          0.003656  0.027418  \n",
       "balance                      0.032587         -0.028369  0.053380  \n",
       "day                         -0.026801          0.084345 -0.024853  \n",
       "campaign                    -0.056181          0.106663 -0.073226  \n",
       "pdays                        0.228384         -0.868655  0.105699  \n",
       "previous                     0.179172         -0.502242  0.081084  \n",
       "job_admin.                   0.012801         -0.031332  0.003593  \n",
       "job_blue-collar             -0.055934          0.024578 -0.074479  \n",
       "job_entrepreneur            -0.024503          0.020939 -0.019276  \n",
       "job_housemaid               -0.015153          0.031023 -0.015544  \n",
       "job_management               0.021960         -0.016317  0.030251  \n",
       "job_retired                  0.053813         -0.014391  0.083235  \n",
       "job_self-employed            0.004756         -0.002963  0.000275  \n",
       "job_services                -0.026257          0.013443 -0.026784  \n",
       "job_student                  0.053253         -0.044072  0.073759  \n",
       "job_technician               0.003185          0.002971 -0.004624  \n",
       "job_unemployed               0.014667          0.011252  0.021609  \n",
       "job_unknown                  0.007161          0.008967  0.003231  \n",
       "marital_divorced            -0.005988         -0.004134  0.002255  \n",
       "marital_married             -0.024139          0.029436 -0.055771  \n",
       "marital_single               0.030472         -0.029059  0.059006  \n",
       "education_primary           -0.037590          0.043414 -0.038966  \n",
       "education_secondary         -0.025845         -0.006245 -0.036064  \n",
       "education_tertiary           0.052585         -0.030961  0.064272  \n",
       "education_unknown            0.012346          0.008199  0.013709  \n",
       "default_no                   0.022667         -0.038350  0.024092  \n",
       "default_yes                 -0.022667          0.038350 -0.024092  \n",
       "housing_no                   0.094148          0.064788  0.141403  \n",
       "housing_yes                 -0.094148         -0.064788 -0.141403  \n",
       "loan_no                      0.053294         -0.029156  0.072417  \n",
       "loan_yes                    -0.053294          0.029156 -0.072417  \n",
       "contact_cellular             0.104206         -0.265157  0.134701  \n",
       "contact_telephone            0.010619         -0.022600  0.013254  \n",
       "contact_unknown             -0.115647          0.291882 -0.149235  \n",
       "month_apr                    0.012200         -0.136581  0.057457  \n",
       "month_aug                   -0.003571          0.103127 -0.007604  \n",
       "month_dec                    0.087166         -0.069202  0.064397  \n",
       "month_feb                    0.034538         -0.111206  0.040614  \n",
       "month_jan                    0.015758         -0.082586 -0.010440  \n",
       "month_jul                   -0.045021          0.160798 -0.031909  \n",
       "month_jun                   -0.027842          0.119100 -0.018199  \n",
       "month_mar                    0.058004         -0.054696  0.130845  \n",
       "month_may                   -0.055800          0.001063 -0.101551  \n",
       "month_nov                   -0.004428         -0.085632 -0.017737  \n",
       "month_oct                    0.102268         -0.089416  0.134483  \n",
       "month_sep                    0.125445         -0.105312  0.126683  \n",
       "poutcome_failure            -0.065381         -0.737550  0.009990  \n",
       "poutcome_other              -0.038559         -0.434976  0.033788  \n",
       "poutcome_success             1.000000         -0.394375  0.304732  \n",
       "poutcome_unknown            -0.394375          1.000000 -0.167528  \n",
       "y_yes                        0.304732         -0.167528  1.000000  \n",
       "\n",
       "[51 rows x 51 columns]"
      ]
     },
     "execution_count": 26,
     "metadata": {},
     "output_type": "execute_result"
    }
   ],
   "source": [
    "train_corrMat"
   ]
  },
  {
   "cell_type": "markdown",
   "metadata": {},
   "source": [
    "###### Sorting Correlation matrix in ascending order by correlation value with respect to the target variable. \n",
    "convert to dataframe & Sorting "
   ]
  },
  {
   "cell_type": "code",
   "execution_count": 27,
   "metadata": {},
   "outputs": [],
   "source": [
    "train_corrMat\n",
    "train_corrMat = pd.DataFrame(train_corrMat,columns=train_corrMat.columns, index=train_corrMat.columns).abs().sort_values(by='y_yes',axis=1,ascending=True)"
   ]
  },
  {
   "cell_type": "code",
   "execution_count": 28,
   "metadata": {},
   "outputs": [
    {
     "data": {
      "text/plain": [
       "y_yes                  1.000000\n",
       "poutcome_success       0.304732\n",
       "poutcome_unknown       0.167528\n",
       "contact_unknown        0.149235\n",
       "housing_no             0.141403\n",
       "housing_yes            0.141403\n",
       "contact_cellular       0.134701\n",
       "month_oct              0.134483\n",
       "month_mar              0.130845\n",
       "month_sep              0.126683\n",
       "pdays                  0.105699\n",
       "month_may              0.101551\n",
       "job_retired            0.083235\n",
       "previous               0.081084\n",
       "job_blue-collar        0.074479\n",
       "job_student            0.073759\n",
       "campaign               0.073226\n",
       "loan_yes               0.072417\n",
       "loan_no                0.072417\n",
       "month_dec              0.064397\n",
       "education_tertiary     0.064272\n",
       "marital_single         0.059006\n",
       "month_apr              0.057457\n",
       "marital_married        0.055771\n",
       "balance                0.053380\n",
       "month_feb              0.040614\n",
       "education_primary      0.038966\n",
       "education_secondary    0.036064\n",
       "poutcome_other         0.033788\n",
       "month_jul              0.031909\n",
       "job_management         0.030251\n",
       "age                    0.027418\n",
       "job_services           0.026784\n",
       "day                    0.024853\n",
       "default_no             0.024092\n",
       "default_yes            0.024092\n",
       "job_unemployed         0.021609\n",
       "job_entrepreneur       0.019276\n",
       "month_jun              0.018199\n",
       "month_nov              0.017737\n",
       "job_housemaid          0.015544\n",
       "education_unknown      0.013709\n",
       "contact_telephone      0.013254\n",
       "month_jan              0.010440\n",
       "poutcome_failure       0.009990\n",
       "month_aug              0.007604\n",
       "job_technician         0.004624\n",
       "job_admin.             0.003593\n",
       "job_unknown            0.003231\n",
       "marital_divorced       0.002255\n",
       "job_self-employed      0.000275\n",
       "Name: y_yes, dtype: float64"
      ]
     },
     "execution_count": 28,
     "metadata": {},
     "output_type": "execute_result"
    }
   ],
   "source": [
    "train_corrMat[\"y_yes\"].sort_values(ascending=False)"
   ]
  },
  {
   "cell_type": "markdown",
   "metadata": {},
   "source": [
    "**Observation** : No individual variable has a strong correlation with the target variable.\n",
    "              Note, maximum correlation is 0.30, which is considered low."
   ]
  },
  {
   "cell_type": "markdown",
   "metadata": {},
   "source": [
    "#### Multicollinearity check \n",
    "Let's examine the correlation among independent features"
   ]
  },
  {
   "cell_type": "markdown",
   "metadata": {},
   "source": [
    "The function below called \"drophighCorrVar\" \n",
    "performs the following steps:\n",
    "    \n",
    "**Step #1** : We essentially are checking every element (i.e. correlation value) in every column (i.e. for each feature) \n",
    "in the correlation matrix.\n",
    "\n",
    "**Step #2** : We check for a correlation value that exceeds our threshold (i.e high correlation values). \n",
    "We flag that feature to be dropped since it has a high correaltion with another feature only if the feature to which it is highly correlated has Not already been dropped. __We only drop variables that are above the threshold and not equal to 1 since that would be indicating its correlation with itself.__\n",
    "\n",
    "\n",
    "**Note**:\n",
    "\n",
    "(i) We are working with a correlation matrix already sorted by the magnitude of the correlation with the dependent valriable \"Median Price\". This ensures that we first consider dropping the variables that have the least correlation to our dependent var.\n",
    "\n",
    "(ii) we keep track of the features by the index."
   ]
  },
  {
   "cell_type": "code",
   "execution_count": 29,
   "metadata": {},
   "outputs": [],
   "source": [
    "def dropHighCorrVar(CMat): \n",
    "\n",
    "# input : correlation matrix sorted in asc order by absolute value of \n",
    "# correlation with MedianPrice (target var.) standard to regard\n",
    "# highly correlated variables as having values >0.6\n",
    "# Outputs droplist, list of indices that are highly correlated with at least one other variable.\n",
    "\n",
    "     \n",
    "    threshold = 0.6\n",
    "    features =CMat.columns\n",
    "    nfeat = len(features)\n",
    "    droplist= []\n",
    "    findx = -1\n",
    "    for f in features[0:(nfeat-1)]:\n",
    "        #print(\"\\nStart...Main feature being assessed: \",f)\n",
    "        #print(\"\\nStart... Values being assessed \\n\",CMat[f].abs)  \n",
    "\n",
    "        findx +=1\n",
    "        rowindx = -1\n",
    "        for x in CMat[f].abs():\n",
    "            if rowindx <(nfeat-1):\n",
    "                rowindx +=1\n",
    "                #print(\"Other feature: \",CMat.index[rowindx])\n",
    "                #print(\"correlated value of main feature: \"+ str(f) + \"  with other feature: \" +str(CMat.index[rowindx])+ \" \"+ str(x))\n",
    "                #print(\"\\nCurent droplist\",droplist)\n",
    "                #print(CMat.columns[droplist].values)\n",
    "                if (x > threshold and x<1):\n",
    "                    if (rowindx not in droplist):\n",
    "                        #print(\"\\nfeature to be dropped:\",f)\n",
    "                    # only drop the feature if the corresponding feature (to which it is highly correlated)\n",
    "                    # is not already in drop list (i.e not already going to be dropped).\n",
    "                        droplist.append(findx)\n",
    "                        break\n",
    "            else:\n",
    "                break \n",
    "    return(droplist)"
   ]
  },
  {
   "cell_type": "markdown",
   "metadata": {},
   "source": [
    "Getting the Index of the redundant features"
   ]
  },
  {
   "cell_type": "code",
   "execution_count": 30,
   "metadata": {},
   "outputs": [],
   "source": [
    "redundantfeaturesIndxlist= dropHighCorrVar(CMat=train_corrMat)"
   ]
  },
  {
   "cell_type": "code",
   "execution_count": 31,
   "metadata": {},
   "outputs": [
    {
     "name": "stdout",
     "output_type": "stream",
     "text": [
      "redundant features to be dropped : \n",
      " ['job_admin.' 'marital_single' 'education_tertiary' 'loan_no' 'loan_yes'\n",
      " 'month_jun' 'month_oct' 'poutcome_other' 'poutcome_success']\n"
     ]
    }
   ],
   "source": [
    "print(\"redundant features to be dropped : \\n\",train_corrMat.index[redundantfeaturesIndxlist].values)"
   ]
  },
  {
   "cell_type": "markdown",
   "metadata": {},
   "source": [
    "### <font color=blue>Feature Selection \n",
    "##### Performed after correlation analysis in data analysis phase revealed redundant features.\n",
    "           - For Logistic Regression we drop redundant features using VIF\n",
    "             & we subset features based on Feature Importance ranking using Random Forest\n",
    "             Both subset of features are used to train the Logistic Regression model.\n",
    "             \n",
    "           - Note,however, all other models are trained with all features. "
   ]
  },
  {
   "cell_type": "code",
   "execution_count": 32,
   "metadata": {},
   "outputs": [
    {
     "name": "stdout",
     "output_type": "stream",
     "text": [
      "redundant featureslist: Index(['poutcome_failure', 'job_management', 'education_secondary',\n",
      "       'marital_single', 'education_tertiary', 'pdays', 'contact_cellular',\n",
      "       'contact_unknown', 'poutcome_unknown'],\n",
      "      dtype='object')\n"
     ]
    }
   ],
   "source": [
    "redundantfeatureslist = train_corrMat.columns[redundantfeaturesIndxlist] \n",
    "print(\"redundant featureslist:\",redundantfeatureslist)\n",
    "\n",
    "train_corrMat = train_corrMat.drop(redundantfeatureslist,axis=1)\n",
    "train_corrMat = train_corrMat.drop(redundantfeatureslist,axis=0)"
   ]
  },
  {
   "cell_type": "code",
   "execution_count": 33,
   "metadata": {},
   "outputs": [
    {
     "name": "stdout",
     "output_type": "stream",
     "text": [
      "Retained features : ['job_self-employed' 'marital_divorced' 'job_unknown' 'job_admin.'\n",
      " 'job_technician' 'month_aug' 'month_jan' 'contact_telephone'\n",
      " 'education_unknown' 'job_housemaid' 'month_nov' 'month_jun'\n",
      " 'job_entrepreneur' 'job_unemployed' 'default_yes' 'default_no' 'day'\n",
      " 'job_services' 'age' 'month_jul' 'poutcome_other' 'education_primary'\n",
      " 'month_feb' 'balance' 'marital_married' 'month_apr' 'month_dec' 'loan_no'\n",
      " 'loan_yes' 'campaign' 'job_student' 'job_blue-collar' 'previous'\n",
      " 'job_retired' 'month_may' 'month_sep' 'month_mar' 'month_oct'\n",
      " 'housing_yes' 'housing_no' 'poutcome_success' 'y_yes']\n"
     ]
    }
   ],
   "source": [
    "print(\"Retained features :\",train_corrMat.columns.values)"
   ]
  },
  {
   "cell_type": "markdown",
   "metadata": {},
   "source": [
    "#### VIF (Variance Inflation Factor) "
   ]
  },
  {
   "cell_type": "markdown",
   "metadata": {},
   "source": [
    "###### Let us see the redundant features listing after using VIF (Variance Inflation Factor) \n",
    "VIF tells us how much the variance in the model has been inflated consequent on \n",
    "multicolinearity on the model.\n",
    "VIF = 1 means no correlaation at all.\n",
    "if VIF is between 1 & 5 : this means there is moderate correlation\n",
    "while VIF > 5 means multicollinearity exists.\n",
    "\n",
    "Note : The VIF for a particular feature is calculated by regressing the feature \n",
    "against all the other features. The formula is : VIFj = 1/(1-Rsq_j). So, feature_j \n",
    "is the dependent feature and all the other features are predictor variables in the model. \n",
    "Based on the formula, if Rsq_j approaches 1 then the value of VIF approaches infinity.\n",
    "If Rsq =0 ( other features do not influence any variance in featurej, the dependent var) \n",
    "then the VIF = 1.   "
   ]
  },
  {
   "cell_type": "code",
   "execution_count": 34,
   "metadata": {},
   "outputs": [],
   "source": [
    "# Calculate VIF for each feature -Ref: https://etav.github.io/python/vif_factor_python.html\n",
    "\n",
    "import statsmodels.api as sm\n",
    "from statsmodels.stats.outliers_influence import variance_inflation_factor"
   ]
  },
  {
   "cell_type": "code",
   "execution_count": 35,
   "metadata": {},
   "outputs": [
    {
     "name": "stdout",
     "output_type": "stream",
     "text": [
      "y_yes\n",
      "Index(['age', 'balance', 'day', 'campaign', 'pdays', 'previous', 'job_admin.',\n",
      "       'job_blue-collar', 'job_entrepreneur', 'job_housemaid',\n",
      "       'job_management', 'job_retired', 'job_self-employed', 'job_services',\n",
      "       'job_student', 'job_technician', 'job_unemployed', 'job_unknown',\n",
      "       'marital_divorced', 'marital_married', 'marital_single',\n",
      "       'education_primary', 'education_secondary', 'education_tertiary',\n",
      "       'education_unknown', 'default_no', 'default_yes', 'housing_no',\n",
      "       'housing_yes', 'loan_no', 'loan_yes', 'contact_cellular',\n",
      "       'contact_telephone', 'contact_unknown', 'month_apr', 'month_aug',\n",
      "       'month_dec', 'month_feb', 'month_jan', 'month_jul', 'month_jun',\n",
      "       'month_mar', 'month_may', 'month_nov', 'month_oct', 'month_sep',\n",
      "       'poutcome_failure', 'poutcome_other', 'poutcome_success',\n",
      "       'poutcome_unknown'],\n",
      "      dtype='object')\n"
     ]
    },
    {
     "name": "stderr",
     "output_type": "stream",
     "text": [
      "C:\\Users\\Kisha\\Anaconda3\\lib\\site-packages\\statsmodels\\stats\\outliers_influence.py:181: RuntimeWarning: divide by zero encountered in double_scalars\n",
      "  vif = 1. / (1. - r_squared_i)\n"
     ]
    }
   ],
   "source": [
    "def calcVIF(Df,newf):\n",
    "\n",
    "# This function takes a Dataframe as input and the feature being assessed for multicollinearity.\n",
    "        \n",
    "    vif = pd.DataFrame()\n",
    "    vif[\"VIF factor\"] = [variance_inflation_factor(Df[newf.values].values,i) for i in range(len(newf))]\n",
    "    vif[\"features\"] = newf\n",
    "    vif = vif.sort_values(by='VIF factor')\n",
    "    return(vif)\n",
    "\n",
    "VIF_fdropnames =[] \n",
    "nfeatures = len(newdf.columns.values)\n",
    "print(newdf.columns.values[nfeatures-1])\n",
    "\n",
    "Xfeatures = newdf.columns[0:(nfeatures-1)]\n",
    "print(Xfeatures)\n",
    "VIF_Df = calcVIF(newdf,Xfeatures)\n",
    "Cntfac = len(VIF_Df[\"VIF factor\"]) -1\n",
    "#print(Cntfac)\n",
    "#print(VIF_Df)"
   ]
  },
  {
   "cell_type": "code",
   "execution_count": 36,
   "metadata": {},
   "outputs": [
    {
     "name": "stdout",
     "output_type": "stream",
     "text": [
      "y_yes\n"
     ]
    }
   ],
   "source": [
    "len(newdf.columns.values)\n",
    "nfeatures = len(newdf.columns.values)\n",
    "print(newdf.columns.values[nfeatures-1])"
   ]
  },
  {
   "cell_type": "markdown",
   "metadata": {},
   "source": [
    "Note that we iteratively removed features, recalculating VIF on each step\n",
    "Instead of simply dropping features based on the VIF values simultaneously, we drop features iteratively. That is we recalculate the VIf after a feature is dropped. Notice how the VIF values change in many cases after a feature is removed.\n",
    "\n",
    "If we dropped all the features in one step based on the initial VIF values we would have dropped features with high corelation to the dependent variable eg. 'LSTAT'. This feature was initially reflecting a VIF of 11.09 which is >10 so we would have dropped it. However, after removing other features and recalculating the VIF the LSTAT's VIF fell below the threshold of 10 and hus was not removed."
   ]
  },
  {
   "cell_type": "code",
   "execution_count": 37,
   "metadata": {},
   "outputs": [
    {
     "name": "stdout",
     "output_type": "stream",
     "text": [
      "Dropping redundant feature:  poutcome_unknown with VIF value of: inf in previous VIF table\n",
      "Row #Cnt: 48\n"
     ]
    },
    {
     "name": "stderr",
     "output_type": "stream",
     "text": [
      "C:\\Users\\Kisha\\Anaconda3\\lib\\site-packages\\statsmodels\\stats\\outliers_influence.py:181: RuntimeWarning: divide by zero encountered in double_scalars\n",
      "  vif = 1. / (1. - r_squared_i)\n"
     ]
    },
    {
     "name": "stdout",
     "output_type": "stream",
     "text": [
      "\n",
      "Recalculated VIF table-after dropping redundant feature: poutcome_unknown\n",
      "Dropping redundant feature:  education_unknown with VIF value of: inf in previous VIF table\n",
      "Row #Cnt: 47\n",
      "\n",
      "Recalculated VIF table-after dropping redundant feature: education_unknown\n",
      "Dropping redundant feature:  housing_no with VIF value of: inf in previous VIF table\n",
      "Row #Cnt: 46\n",
      "\n",
      "Recalculated VIF table-after dropping redundant feature: housing_no\n",
      "Dropping redundant feature:  job_blue-collar with VIF value of: inf in previous VIF table\n",
      "Row #Cnt: 45\n",
      "\n",
      "Recalculated VIF table-after dropping redundant feature: job_blue-collar\n",
      "Dropping redundant feature:  contact_unknown with VIF value of: inf in previous VIF table\n",
      "Row #Cnt: 44\n",
      "\n",
      "Recalculated VIF table-after dropping redundant feature: contact_unknown\n",
      "Dropping redundant feature:  month_apr with VIF value of: inf in previous VIF table\n",
      "Row #Cnt: 43\n",
      "\n",
      "Recalculated VIF table-after dropping redundant feature: month_apr\n",
      "Dropping redundant feature:  marital_divorced with VIF value of: inf in previous VIF table\n",
      "Row #Cnt: 42\n",
      "\n",
      "Recalculated VIF table-after dropping redundant feature: marital_divorced\n",
      "Dropping redundant feature:  default_no with VIF value of: inf in previous VIF table\n",
      "Row #Cnt: 41\n",
      "\n",
      "Recalculated VIF table-after dropping redundant feature: default_no\n",
      "Dropping redundant feature:  loan_no with VIF value of: 91.69596216228737 in previous VIF table\n",
      "Row #Cnt: 40\n",
      "\n",
      "Recalculated VIF table-after dropping redundant feature: loan_no\n",
      "Dropping redundant feature:  age with VIF value of: 18.47087658711268 in previous VIF table\n",
      "Row #Cnt: 39\n",
      "\n",
      "Recalculated VIF table-after dropping redundant feature: age\n",
      "Dropping redundant feature:  education_secondary with VIF value of: 9.909595225662297 in previous VIF table\n",
      "Row #Cnt: 38\n",
      "\n",
      "Recalculated VIF table-after dropping redundant feature: education_secondary\n",
      "Dropping redundant feature:  contact_cellular with VIF value of: 6.0146187210804 in previous VIF table\n",
      "Row #Cnt: 37\n",
      "\n",
      "Recalculated VIF table-after dropping redundant feature: contact_cellular\n",
      "Dropping redundant feature:  pdays with VIF value of: 5.380265489984509 in previous VIF table\n",
      "Row #Cnt: 36\n",
      "\n",
      "Recalculated VIF table-after dropping redundant feature: pdays\n",
      "Dropping redundant feature:  day with VIF value of: 5.211130125817493 in previous VIF table\n",
      "Row #Cnt: 35\n",
      "\n",
      "Recalculated VIF table-after dropping redundant feature: day\n"
     ]
    }
   ],
   "source": [
    "newDf = newdf[Xfeatures]\n",
    "vifvalueMax = VIF_Df[\"VIF factor\"].iloc[Cntfac]\n",
    "\n",
    "while vifvalueMax> 5:\n",
    "    f=VIF_Df[\"features\"].iloc[Cntfac]\n",
    "    print(\"Dropping redundant feature: \",f,\"with VIF value of:\",vifvalueMax,\"in previous VIF table\")\n",
    "    VIF_fdropnames.append(f)\n",
    "    newDf = newDf.drop(f,1)\n",
    "    Cntfac = Cntfac-1\n",
    "    print(\"Row #Cnt:\",Cntfac)\n",
    "    newf = newDf.columns\n",
    "    VIF_Df = calcVIF(newDf,newf)\n",
    "    print(\"\\nRecalculated VIF table-after dropping redundant feature:\",f)\n",
    "    #print(VIF_Df)\n",
    "    vifvalueMax=VIF_Df[\"VIF factor\"].iloc[Cntfac]"
   ]
  },
  {
   "cell_type": "code",
   "execution_count": 38,
   "metadata": {},
   "outputs": [
    {
     "name": "stdout",
     "output_type": "stream",
     "text": [
      "After dropping redundant features:\n",
      "    VIF factor            features\n",
      "18    1.032738         default_yes\n",
      "13    1.040240         job_unknown\n",
      "23    1.053411           month_dec\n",
      "28    1.102433           month_mar\n",
      "21    1.131474   contact_telephone\n",
      "32    1.140376           month_sep\n",
      "5     1.141446       job_housemaid\n",
      "12    1.144993      job_unemployed\n",
      "31    1.165325           month_oct\n",
      "10    1.175350         job_student\n",
      "35    1.181025    poutcome_success\n",
      "4     1.204416    job_entrepreneur\n",
      "8     1.234788   job_self-employed\n",
      "0     1.247585             balance\n",
      "20    1.254443            loan_yes\n",
      "34    1.254819      poutcome_other\n",
      "25    1.258512           month_jan\n",
      "7     1.265016         job_retired\n",
      "9     1.411498        job_services\n",
      "33    1.452230    poutcome_failure\n",
      "16    1.460108   education_primary\n",
      "24    1.499784           month_feb\n",
      "2     1.501760            previous\n",
      "3     1.534938          job_admin.\n",
      "30    1.764540           month_nov\n",
      "1     1.900982            campaign\n",
      "11    1.918667      job_technician\n",
      "27    1.974026           month_jun\n",
      "22    2.365058           month_aug\n",
      "26    2.383537           month_jul\n",
      "17    2.612493  education_tertiary\n",
      "15    2.873802      marital_single\n",
      "19    2.901088         housing_yes\n",
      "6     3.094530      job_management\n",
      "29    3.667794           month_may\n",
      "14    4.799025     marital_married\n",
      "\n",
      "Redundant features to be dropped from our dataset using VIF factor:\n",
      " ['age', 'contact_cellular', 'contact_unknown', 'day', 'default_no', 'education_secondary', 'education_unknown', 'housing_no', 'job_blue-collar', 'loan_no', 'marital_divorced', 'month_apr', 'pdays', 'poutcome_unknown']\n",
      "\n",
      "Redundant features to be dropped from our dataset using Pearson's correlation matrix :\n",
      " ['contact_cellular', 'contact_unknown', 'education_secondary', 'education_tertiary', 'job_management', 'marital_single', 'pdays', 'poutcome_failure', 'poutcome_unknown']\n"
     ]
    }
   ],
   "source": [
    "print(\"After dropping redundant features:\")\n",
    "print(VIF_Df.sort_values(by='VIF factor'))\n",
    "print(\"\\nRedundant features to be dropped from our dataset using VIF factor:\\n\",sorted(VIF_fdropnames))\n",
    "print(\"\\nRedundant features to be dropped from our dataset using Pearson's correlation matrix :\\n\",sorted(redundantfeatureslist.values))"
   ]
  },
  {
   "cell_type": "markdown",
   "metadata": {},
   "source": [
    "#### Looking at correlation of redundant features to the dependent variable using an extract/subset of our correlation matrix\n",
    "Note all have very low correlations (i.e. magnitude <0.20)"
   ]
  },
  {
   "cell_type": "code",
   "execution_count": 39,
   "metadata": {},
   "outputs": [
    {
     "data": {
      "text/plain": [
       "poutcome_unknown      -0.167051\n",
       "contact_unknown       -0.150935\n",
       "job_blue-collar       -0.072083\n",
       "education_secondary   -0.036388\n",
       "day                   -0.028348\n",
       "marital_divorced       0.002772\n",
       "education_unknown      0.012053\n",
       "default_no             0.022419\n",
       "age                    0.025155\n",
       "month_apr              0.065392\n",
       "loan_no                0.068185\n",
       "pdays                  0.103621\n",
       "contact_cellular       0.135873\n",
       "housing_no             0.139173\n",
       "Name: y_yes, dtype: float64"
      ]
     },
     "execution_count": 39,
     "metadata": {},
     "output_type": "execute_result"
    }
   ],
   "source": [
    "newdf.corr()['y_yes'][VIF_fdropnames].sort_values()"
   ]
  },
  {
   "cell_type": "markdown",
   "metadata": {},
   "source": [
    "#### Correlation of features retained with the dependent variable"
   ]
  },
  {
   "cell_type": "code",
   "execution_count": 40,
   "metadata": {},
   "outputs": [
    {
     "data": {
      "text/plain": [
       "features\n",
       "housing_yes          -0.139173\n",
       "month_may            -0.102500\n",
       "campaign             -0.073172\n",
       "loan_yes             -0.068185\n",
       "marital_married      -0.060260\n",
       "education_primary    -0.040393\n",
       "month_jul            -0.034382\n",
       "job_services         -0.027864\n",
       "default_yes          -0.022419\n",
       "job_entrepreneur     -0.019662\n",
       "month_jun            -0.016805\n",
       "job_housemaid        -0.015195\n",
       "month_nov            -0.014937\n",
       "job_technician       -0.008970\n",
       "month_jan            -0.008783\n",
       "month_aug            -0.008536\n",
       "job_unknown           0.000267\n",
       "job_self-employed     0.000855\n",
       "job_admin.            0.005637\n",
       "poutcome_failure      0.009885\n",
       "contact_telephone     0.014042\n",
       "job_unemployed        0.020390\n",
       "poutcome_other        0.031955\n",
       "job_management        0.032919\n",
       "month_feb             0.038417\n",
       "balance               0.052838\n",
       "marital_single        0.063526\n",
       "education_tertiary    0.066448\n",
       "month_dec             0.075164\n",
       "job_student           0.076897\n",
       "job_retired           0.079245\n",
       "previous              0.093236\n",
       "month_sep             0.123185\n",
       "month_oct             0.128531\n",
       "month_mar             0.129456\n",
       "poutcome_success      0.306788\n",
       "Name: y_yes, dtype: float64"
      ]
     },
     "execution_count": 40,
     "metadata": {},
     "output_type": "execute_result"
    }
   ],
   "source": [
    "newdf.corr()['y_yes'][VIF_Df[\"features\"]].sort_values()"
   ]
  },
  {
   "cell_type": "code",
   "execution_count": 41,
   "metadata": {},
   "outputs": [
    {
     "data": {
      "text/html": [
       "<div>\n",
       "<style scoped>\n",
       "    .dataframe tbody tr th:only-of-type {\n",
       "        vertical-align: middle;\n",
       "    }\n",
       "\n",
       "    .dataframe tbody tr th {\n",
       "        vertical-align: top;\n",
       "    }\n",
       "\n",
       "    .dataframe thead th {\n",
       "        text-align: right;\n",
       "    }\n",
       "</style>\n",
       "<table border=\"1\" class=\"dataframe\">\n",
       "  <thead>\n",
       "    <tr style=\"text-align: right;\">\n",
       "      <th></th>\n",
       "      <th>balance</th>\n",
       "      <th>campaign</th>\n",
       "      <th>previous</th>\n",
       "      <th>job_admin.</th>\n",
       "      <th>job_entrepreneur</th>\n",
       "      <th>job_housemaid</th>\n",
       "      <th>job_management</th>\n",
       "      <th>job_retired</th>\n",
       "      <th>job_self-employed</th>\n",
       "      <th>job_services</th>\n",
       "      <th>...</th>\n",
       "      <th>month_jun</th>\n",
       "      <th>month_mar</th>\n",
       "      <th>month_may</th>\n",
       "      <th>month_nov</th>\n",
       "      <th>month_oct</th>\n",
       "      <th>month_sep</th>\n",
       "      <th>poutcome_failure</th>\n",
       "      <th>poutcome_other</th>\n",
       "      <th>poutcome_success</th>\n",
       "      <th>y_yes</th>\n",
       "    </tr>\n",
       "  </thead>\n",
       "  <tbody>\n",
       "    <tr>\n",
       "      <th>0</th>\n",
       "      <td>2143</td>\n",
       "      <td>1</td>\n",
       "      <td>0</td>\n",
       "      <td>0</td>\n",
       "      <td>0</td>\n",
       "      <td>0</td>\n",
       "      <td>1</td>\n",
       "      <td>0</td>\n",
       "      <td>0</td>\n",
       "      <td>0</td>\n",
       "      <td>...</td>\n",
       "      <td>0</td>\n",
       "      <td>0</td>\n",
       "      <td>1</td>\n",
       "      <td>0</td>\n",
       "      <td>0</td>\n",
       "      <td>0</td>\n",
       "      <td>0</td>\n",
       "      <td>0</td>\n",
       "      <td>0</td>\n",
       "      <td>0</td>\n",
       "    </tr>\n",
       "    <tr>\n",
       "      <th>1</th>\n",
       "      <td>29</td>\n",
       "      <td>1</td>\n",
       "      <td>0</td>\n",
       "      <td>0</td>\n",
       "      <td>0</td>\n",
       "      <td>0</td>\n",
       "      <td>0</td>\n",
       "      <td>0</td>\n",
       "      <td>0</td>\n",
       "      <td>0</td>\n",
       "      <td>...</td>\n",
       "      <td>0</td>\n",
       "      <td>0</td>\n",
       "      <td>1</td>\n",
       "      <td>0</td>\n",
       "      <td>0</td>\n",
       "      <td>0</td>\n",
       "      <td>0</td>\n",
       "      <td>0</td>\n",
       "      <td>0</td>\n",
       "      <td>0</td>\n",
       "    </tr>\n",
       "    <tr>\n",
       "      <th>2</th>\n",
       "      <td>2</td>\n",
       "      <td>1</td>\n",
       "      <td>0</td>\n",
       "      <td>0</td>\n",
       "      <td>1</td>\n",
       "      <td>0</td>\n",
       "      <td>0</td>\n",
       "      <td>0</td>\n",
       "      <td>0</td>\n",
       "      <td>0</td>\n",
       "      <td>...</td>\n",
       "      <td>0</td>\n",
       "      <td>0</td>\n",
       "      <td>1</td>\n",
       "      <td>0</td>\n",
       "      <td>0</td>\n",
       "      <td>0</td>\n",
       "      <td>0</td>\n",
       "      <td>0</td>\n",
       "      <td>0</td>\n",
       "      <td>0</td>\n",
       "    </tr>\n",
       "    <tr>\n",
       "      <th>3</th>\n",
       "      <td>1506</td>\n",
       "      <td>1</td>\n",
       "      <td>0</td>\n",
       "      <td>0</td>\n",
       "      <td>0</td>\n",
       "      <td>0</td>\n",
       "      <td>0</td>\n",
       "      <td>0</td>\n",
       "      <td>0</td>\n",
       "      <td>0</td>\n",
       "      <td>...</td>\n",
       "      <td>0</td>\n",
       "      <td>0</td>\n",
       "      <td>1</td>\n",
       "      <td>0</td>\n",
       "      <td>0</td>\n",
       "      <td>0</td>\n",
       "      <td>0</td>\n",
       "      <td>0</td>\n",
       "      <td>0</td>\n",
       "      <td>0</td>\n",
       "    </tr>\n",
       "    <tr>\n",
       "      <th>4</th>\n",
       "      <td>1</td>\n",
       "      <td>1</td>\n",
       "      <td>0</td>\n",
       "      <td>0</td>\n",
       "      <td>0</td>\n",
       "      <td>0</td>\n",
       "      <td>0</td>\n",
       "      <td>0</td>\n",
       "      <td>0</td>\n",
       "      <td>0</td>\n",
       "      <td>...</td>\n",
       "      <td>0</td>\n",
       "      <td>0</td>\n",
       "      <td>1</td>\n",
       "      <td>0</td>\n",
       "      <td>0</td>\n",
       "      <td>0</td>\n",
       "      <td>0</td>\n",
       "      <td>0</td>\n",
       "      <td>0</td>\n",
       "      <td>0</td>\n",
       "    </tr>\n",
       "    <tr>\n",
       "      <th>5</th>\n",
       "      <td>231</td>\n",
       "      <td>1</td>\n",
       "      <td>0</td>\n",
       "      <td>0</td>\n",
       "      <td>0</td>\n",
       "      <td>0</td>\n",
       "      <td>1</td>\n",
       "      <td>0</td>\n",
       "      <td>0</td>\n",
       "      <td>0</td>\n",
       "      <td>...</td>\n",
       "      <td>0</td>\n",
       "      <td>0</td>\n",
       "      <td>1</td>\n",
       "      <td>0</td>\n",
       "      <td>0</td>\n",
       "      <td>0</td>\n",
       "      <td>0</td>\n",
       "      <td>0</td>\n",
       "      <td>0</td>\n",
       "      <td>0</td>\n",
       "    </tr>\n",
       "    <tr>\n",
       "      <th>6</th>\n",
       "      <td>447</td>\n",
       "      <td>1</td>\n",
       "      <td>0</td>\n",
       "      <td>0</td>\n",
       "      <td>0</td>\n",
       "      <td>0</td>\n",
       "      <td>1</td>\n",
       "      <td>0</td>\n",
       "      <td>0</td>\n",
       "      <td>0</td>\n",
       "      <td>...</td>\n",
       "      <td>0</td>\n",
       "      <td>0</td>\n",
       "      <td>1</td>\n",
       "      <td>0</td>\n",
       "      <td>0</td>\n",
       "      <td>0</td>\n",
       "      <td>0</td>\n",
       "      <td>0</td>\n",
       "      <td>0</td>\n",
       "      <td>0</td>\n",
       "    </tr>\n",
       "    <tr>\n",
       "      <th>7</th>\n",
       "      <td>2</td>\n",
       "      <td>1</td>\n",
       "      <td>0</td>\n",
       "      <td>0</td>\n",
       "      <td>1</td>\n",
       "      <td>0</td>\n",
       "      <td>0</td>\n",
       "      <td>0</td>\n",
       "      <td>0</td>\n",
       "      <td>0</td>\n",
       "      <td>...</td>\n",
       "      <td>0</td>\n",
       "      <td>0</td>\n",
       "      <td>1</td>\n",
       "      <td>0</td>\n",
       "      <td>0</td>\n",
       "      <td>0</td>\n",
       "      <td>0</td>\n",
       "      <td>0</td>\n",
       "      <td>0</td>\n",
       "      <td>0</td>\n",
       "    </tr>\n",
       "    <tr>\n",
       "      <th>8</th>\n",
       "      <td>121</td>\n",
       "      <td>1</td>\n",
       "      <td>0</td>\n",
       "      <td>0</td>\n",
       "      <td>0</td>\n",
       "      <td>0</td>\n",
       "      <td>0</td>\n",
       "      <td>1</td>\n",
       "      <td>0</td>\n",
       "      <td>0</td>\n",
       "      <td>...</td>\n",
       "      <td>0</td>\n",
       "      <td>0</td>\n",
       "      <td>1</td>\n",
       "      <td>0</td>\n",
       "      <td>0</td>\n",
       "      <td>0</td>\n",
       "      <td>0</td>\n",
       "      <td>0</td>\n",
       "      <td>0</td>\n",
       "      <td>0</td>\n",
       "    </tr>\n",
       "    <tr>\n",
       "      <th>9</th>\n",
       "      <td>593</td>\n",
       "      <td>1</td>\n",
       "      <td>0</td>\n",
       "      <td>0</td>\n",
       "      <td>0</td>\n",
       "      <td>0</td>\n",
       "      <td>0</td>\n",
       "      <td>0</td>\n",
       "      <td>0</td>\n",
       "      <td>0</td>\n",
       "      <td>...</td>\n",
       "      <td>0</td>\n",
       "      <td>0</td>\n",
       "      <td>1</td>\n",
       "      <td>0</td>\n",
       "      <td>0</td>\n",
       "      <td>0</td>\n",
       "      <td>0</td>\n",
       "      <td>0</td>\n",
       "      <td>0</td>\n",
       "      <td>0</td>\n",
       "    </tr>\n",
       "  </tbody>\n",
       "</table>\n",
       "<p>10 rows × 37 columns</p>\n",
       "</div>"
      ],
      "text/plain": [
       "   balance  campaign  previous  job_admin.  job_entrepreneur  job_housemaid  \\\n",
       "0     2143         1         0           0                 0              0   \n",
       "1       29         1         0           0                 0              0   \n",
       "2        2         1         0           0                 1              0   \n",
       "3     1506         1         0           0                 0              0   \n",
       "4        1         1         0           0                 0              0   \n",
       "5      231         1         0           0                 0              0   \n",
       "6      447         1         0           0                 0              0   \n",
       "7        2         1         0           0                 1              0   \n",
       "8      121         1         0           0                 0              0   \n",
       "9      593         1         0           0                 0              0   \n",
       "\n",
       "   job_management  job_retired  job_self-employed  job_services  ...    \\\n",
       "0               1            0                  0             0  ...     \n",
       "1               0            0                  0             0  ...     \n",
       "2               0            0                  0             0  ...     \n",
       "3               0            0                  0             0  ...     \n",
       "4               0            0                  0             0  ...     \n",
       "5               1            0                  0             0  ...     \n",
       "6               1            0                  0             0  ...     \n",
       "7               0            0                  0             0  ...     \n",
       "8               0            1                  0             0  ...     \n",
       "9               0            0                  0             0  ...     \n",
       "\n",
       "   month_jun  month_mar  month_may  month_nov  month_oct  month_sep  \\\n",
       "0          0          0          1          0          0          0   \n",
       "1          0          0          1          0          0          0   \n",
       "2          0          0          1          0          0          0   \n",
       "3          0          0          1          0          0          0   \n",
       "4          0          0          1          0          0          0   \n",
       "5          0          0          1          0          0          0   \n",
       "6          0          0          1          0          0          0   \n",
       "7          0          0          1          0          0          0   \n",
       "8          0          0          1          0          0          0   \n",
       "9          0          0          1          0          0          0   \n",
       "\n",
       "   poutcome_failure  poutcome_other  poutcome_success  y_yes  \n",
       "0                 0               0                 0      0  \n",
       "1                 0               0                 0      0  \n",
       "2                 0               0                 0      0  \n",
       "3                 0               0                 0      0  \n",
       "4                 0               0                 0      0  \n",
       "5                 0               0                 0      0  \n",
       "6                 0               0                 0      0  \n",
       "7                 0               0                 0      0  \n",
       "8                 0               0                 0      0  \n",
       "9                 0               0                 0      0  \n",
       "\n",
       "[10 rows x 37 columns]"
      ]
     },
     "execution_count": 41,
     "metadata": {},
     "output_type": "execute_result"
    }
   ],
   "source": [
    "XYtrain = newdf.drop(VIF_fdropnames,axis=1)\n",
    "XYtrain.head(10)"
   ]
  },
  {
   "cell_type": "code",
   "execution_count": 42,
   "metadata": {},
   "outputs": [
    {
     "name": "stdout",
     "output_type": "stream",
     "text": [
      "The predictor variables (features) we retained after dropping redundant ones : \n",
      "\n",
      "Index(['balance', 'campaign', 'previous', 'job_admin.', 'job_entrepreneur',\n",
      "       'job_housemaid', 'job_management', 'job_retired', 'job_self-employed',\n",
      "       'job_services', 'job_student', 'job_technician', 'job_unemployed',\n",
      "       'job_unknown', 'marital_married', 'marital_single', 'education_primary',\n",
      "       'education_tertiary', 'default_yes', 'housing_yes', 'loan_yes',\n",
      "       'contact_telephone', 'month_aug', 'month_dec', 'month_feb', 'month_jan',\n",
      "       'month_jul', 'month_jun', 'month_mar', 'month_may', 'month_nov',\n",
      "       'month_oct', 'month_sep', 'poutcome_failure', 'poutcome_other',\n",
      "       'poutcome_success'],\n",
      "      dtype='object')\n"
     ]
    }
   ],
   "source": [
    "print(\"The predictor variables (features) we retained after dropping redundant ones : \\n\")\n",
    "newfeatures = XYtrain.drop(\"y_yes\",axis=1).columns\n",
    "print(str(newfeatures))"
   ]
  },
  {
   "cell_type": "markdown",
   "metadata": {},
   "source": [
    "# Feature selection using embedded feature selection technique : Tree-based RandomForest.\n",
    "\n",
    "           - These top features based on the feature importance ranking in Random Forest are used \n",
    "             to train the Logistic Regression model exclusively. All other models are trained with all features. \n",
    "          "
   ]
  },
  {
   "cell_type": "code",
   "execution_count": 43,
   "metadata": {},
   "outputs": [],
   "source": [
    "# importing the RandomForestClassifier class from the ensemble module in the sklearn package\n",
    "from sklearn.ensemble import RandomForestClassifier\n",
    "\n",
    "# Parameters : \"n_jobs = -1\" means all processors being used. | \"random_state =0\" means seed for random generator | criterion = \"gini\" \n",
    "#              \"n_estimators=1000\" number of trees \n",
    "# ref: https://scikit-learn.org/stable/modules/generated/sklearn.ensemble.RandomForestClassifier.html\n",
    "\n",
    "#creating the Random forest classifier object\n",
    "rfc = RandomForestClassifier(n_estimators=1000,random_state=0,n_jobs=-1)\n",
    "\n"
   ]
  },
  {
   "cell_type": "code",
   "execution_count": 44,
   "metadata": {},
   "outputs": [
    {
     "name": "stdout",
     "output_type": "stream",
     "text": [
      "       age  balance  day  campaign  pdays  previous  job_admin.  \\\n",
      "33456   30      312   20         3     -1         0           1   \n",
      "35341   46    -1034    7         1     -1         0           0   \n",
      "2230    35      855   12         3     -1         0           1   \n",
      "3295    40        0   15         1     -1         0           0   \n",
      "26763   45     3559   20         1     -1         0           0   \n",
      "\n",
      "       job_blue-collar  job_entrepreneur  job_housemaid        ...         \\\n",
      "33456                0                 0              0        ...          \n",
      "35341                0                 0              0        ...          \n",
      "2230                 0                 0              0        ...          \n",
      "3295                 0                 1              0        ...          \n",
      "26763                0                 0              0        ...          \n",
      "\n",
      "       month_jun  month_mar  month_may  month_nov  month_oct  month_sep  \\\n",
      "33456          0          0          0          0          0          0   \n",
      "35341          0          0          1          0          0          0   \n",
      "2230           0          0          1          0          0          0   \n",
      "3295           0          0          1          0          0          0   \n",
      "26763          0          0          0          1          0          0   \n",
      "\n",
      "       poutcome_failure  poutcome_other  poutcome_success  poutcome_unknown  \n",
      "33456                 0               0                 0                 1  \n",
      "35341                 0               0                 0                 1  \n",
      "2230                  0               0                 0                 1  \n",
      "3295                  0               0                 0                 1  \n",
      "26763                 0               0                 0                 1  \n",
      "\n",
      "[5 rows x 50 columns]\n",
      "33456    0\n",
      "35341    0\n",
      "2230     0\n",
      "3295     0\n",
      "26763    0\n",
      "Name: y_yes, dtype: uint8\n"
     ]
    }
   ],
   "source": [
    "xtrain = train.drop(['y_yes'],axis=1)\n",
    "ytrain = train['y_yes']\n",
    "print(xtrain.head(5))\n",
    "print(ytrain.head(5))"
   ]
  },
  {
   "cell_type": "code",
   "execution_count": 45,
   "metadata": {},
   "outputs": [
    {
     "data": {
      "text/plain": [
       "RandomForestClassifier(bootstrap=True, class_weight=None, criterion='gini',\n",
       "            max_depth=None, max_features='auto', max_leaf_nodes=None,\n",
       "            min_impurity_decrease=0.0, min_impurity_split=None,\n",
       "            min_samples_leaf=1, min_samples_split=2,\n",
       "            min_weight_fraction_leaf=0.0, n_estimators=1000, n_jobs=-1,\n",
       "            oob_score=False, random_state=0, verbose=0, warm_start=False)"
      ]
     },
     "execution_count": 45,
     "metadata": {},
     "output_type": "execute_result"
    }
   ],
   "source": [
    "rfc.fit(xtrain,ytrain)\n"
   ]
  },
  {
   "cell_type": "markdown",
   "metadata": {},
   "source": [
    "#### Feature importance using Random Forest Classifier"
   ]
  },
  {
   "cell_type": "code",
   "execution_count": 46,
   "metadata": {},
   "outputs": [
    {
     "name": "stdout",
     "output_type": "stream",
     "text": [
      "Top 10 features:\n",
      "            Column_name  importance_rank\n",
      "1               balance         0.169555\n",
      "0                   age         0.146429\n",
      "2                   day         0.123303\n",
      "3              campaign         0.062448\n",
      "4                 pdays         0.047532\n",
      "48     poutcome_success         0.047376\n",
      "5              previous         0.025884\n",
      "22  education_secondary         0.015673\n",
      "23   education_tertiary         0.014099\n",
      "27           housing_no         0.013867\n",
      "Top 3 features:\n",
      "  Column_name  importance_rank\n",
      "1     balance         0.169555\n",
      "0         age         0.146429\n",
      "2         day         0.123303\n"
     ]
    }
   ],
   "source": [
    "#Creating Data frame of features sorted by rank - descending order\n",
    "rank = pd.DataFrame({'Column_name':xtrain.columns.values.tolist(),'importance_rank':rfc.feature_importances_.tolist()}).sort_values(by=['importance_rank'],ascending=False)\n",
    "print(\"Top 10 features:\")\n",
    "print(rank.head(10))\n",
    "print(\"Top 3 features:\")\n",
    "print(rank.head(3))\n"
   ]
  },
  {
   "cell_type": "code",
   "execution_count": 47,
   "metadata": {},
   "outputs": [
    {
     "data": {
      "image/png": "[encoded data removed]",
      "text/plain": [
       "<Figure size 432x288 with 1 Axes>"
      ]
     },
     "metadata": {},
     "output_type": "display_data"
    }
   ],
   "source": [
    "plt.bar(rank['Column_name'],rank['importance_rank'])\n",
    "plt.title('Feature Ranking by importance')\n",
    "plt.ylabel('Importance score')\n",
    "plt.xticks(rotation=90,fontsize=7)\n",
    "plt.show()\n"
   ]
  },
  {
   "cell_type": "code",
   "execution_count": 48,
   "metadata": {},
   "outputs": [
    {
     "data": {
      "text/plain": [
       "1    balance\n",
       "0        age\n",
       "2        day\n",
       "Name: Column_name, dtype: object"
      ]
     },
     "execution_count": 48,
     "metadata": {},
     "output_type": "execute_result"
    }
   ],
   "source": [
    "# Train Logistic Regression model using the top 3 features\n",
    "top3features = rank.head(3).iloc[0:3,0]\n",
    "\n",
    "top3features"
   ]
  },
  {
   "cell_type": "markdown",
   "metadata": {},
   "source": [
    "##### Treatment of imbalanced classes\n",
    "We will use the SMOTE technique to handle the imbalanced class problem.\n",
    "The SMOTE technique is an oversampling technique which uses a synthetic \n",
    "version of actual instances. "
   ]
  },
  {
   "cell_type": "code",
   "execution_count": 49,
   "metadata": {},
   "outputs": [],
   "source": [
    "from imblearn.over_sampling import SMOTE\n",
    "\n",
    "SM = SMOTE(random_state=2)\n",
    "xtrainSMOTE,ytrainSMOTE=SM.fit_sample(xtrain,ytrain.ravel())\n",
    "\n"
   ]
  },
  {
   "cell_type": "code",
   "execution_count": 50,
   "metadata": {},
   "outputs": [
    {
     "name": "stdout",
     "output_type": "stream",
     "text": [
      "Tot_Smote_yes1_0 55890 \n",
      "\n",
      "Smote_Cnt_yes1 27945\n",
      "%Smote_Cnt_yes1 50.0 % \n",
      "\n",
      "Smote_Cnt_yes0 27945\n",
      "%Smote_Cnt_yes0 50.0 %\n"
     ]
    }
   ],
   "source": [
    "#Smote_Cnt_yes1= sum(1 for i in train['y_yes'] if i==1)\n",
    "\n",
    "Smote_Cnt_yes1= sum(1 for i in ytrainSMOTE if i==1)\n",
    "Smote_Cnt_yes0= sum(1 for i in ytrainSMOTE if i==0)\n",
    "\n",
    "Tot_Smote_yes1_0 = len(ytrainSMOTE)\n",
    "\n",
    "print(\"Tot_Smote_yes1_0\",Tot_Smote_yes1_0,\"\\n\")\n",
    "\n",
    "print(\"Smote_Cnt_yes1\",Smote_Cnt_yes1)\n",
    "print(\"%Smote_Cnt_yes1\",Smote_Cnt_yes1*100/Tot_Smote_yes1_0,\"%\",\"\\n\")\n",
    "\n",
    "print(\"Smote_Cnt_yes0\",Smote_Cnt_yes0)\n",
    "print(\"%Smote_Cnt_yes0\",Smote_Cnt_yes0*100/Tot_Smote_yes1_0,\"%\")\n",
    "\n"
   ]
  },
  {
   "cell_type": "code",
   "execution_count": 51,
   "metadata": {},
   "outputs": [
    {
     "data": {
      "text/plain": [
       "array([[ 3.000e+01,  3.120e+02,  2.000e+01,  3.000e+00, -1.000e+00],\n",
       "       [ 4.600e+01, -1.034e+03,  7.000e+00,  1.000e+00, -1.000e+00],\n",
       "       [ 3.500e+01,  8.550e+02,  1.200e+01,  3.000e+00, -1.000e+00],\n",
       "       [ 4.000e+01,  0.000e+00,  1.500e+01,  1.000e+00, -1.000e+00],\n",
       "       [ 4.500e+01,  3.559e+03,  2.000e+01,  1.000e+00, -1.000e+00]])"
      ]
     },
     "execution_count": 51,
     "metadata": {},
     "output_type": "execute_result"
    }
   ],
   "source": [
    "xtrainSMOTE[0:5,0:5]"
   ]
  },
  {
   "cell_type": "code",
   "execution_count": 52,
   "metadata": {},
   "outputs": [
    {
     "name": "stdout",
     "output_type": "stream",
     "text": [
      "31647\n",
      "55890\n",
      "55890\n"
     ]
    },
    {
     "data": {
      "text/plain": [
       "numpy.ndarray"
      ]
     },
     "execution_count": 52,
     "metadata": {},
     "output_type": "execute_result"
    }
   ],
   "source": [
    "print(len(ytrain))\n",
    "print(len(ytrainSMOTE))\n",
    "print(len(xtrainSMOTE[:,0]))\n",
    "type(xtrainSMOTE)"
   ]
  },
  {
   "cell_type": "markdown",
   "metadata": {},
   "source": [
    "Note, balanced after SMOTE applied"
   ]
  },
  {
   "cell_type": "code",
   "execution_count": 53,
   "metadata": {},
   "outputs": [
    {
     "name": "stdout",
     "output_type": "stream",
     "text": [
      "Instances in each classs, before SMOTE applied:\n",
      "For y_yes=1, #instances: 3702\n",
      "For y_yes=0, #instances: 27945\n",
      "\n",
      "After SMOTE: Balanced Classes\n",
      "For y_yes=1, #instances: 27945\n",
      "For y_yes=0, #instances: 27945\n"
     ]
    }
   ],
   "source": [
    "print(\"Instances in each classs, before SMOTE applied:\")\n",
    "print(\"For y_yes=1, #instances:\",sum(ytrain==1))\n",
    "print(\"For y_yes=0, #instances:\",sum(ytrain==0))\n",
    "\n",
    "print(\"\\nAfter SMOTE: Balanced Classes\")\n",
    "print(\"For y_yes=1, #instances:\",sum(ytrainSMOTE==1))\n",
    "print(\"For y_yes=0, #instances:\",sum(ytrainSMOTE==0))\n"
   ]
  },
  {
   "cell_type": "code",
   "execution_count": 54,
   "metadata": {},
   "outputs": [
    {
     "data": {
      "text/plain": [
       "(55890,)"
      ]
     },
     "execution_count": 54,
     "metadata": {},
     "output_type": "execute_result"
    }
   ],
   "source": [
    "ytrainSMOTE.shape"
   ]
  },
  {
   "cell_type": "code",
   "execution_count": 55,
   "metadata": {},
   "outputs": [],
   "source": [
    "Dicty = {}\n",
    "Dicty = {'y_yes':ytrainSMOTE}\n",
    "ytrainSMOTE = pd.DataFrame(Dicty)"
   ]
  },
  {
   "cell_type": "code",
   "execution_count": 56,
   "metadata": {},
   "outputs": [
    {
     "data": {
      "text/html": [
       "<div>\n",
       "<style scoped>\n",
       "    .dataframe tbody tr th:only-of-type {\n",
       "        vertical-align: middle;\n",
       "    }\n",
       "\n",
       "    .dataframe tbody tr th {\n",
       "        vertical-align: top;\n",
       "    }\n",
       "\n",
       "    .dataframe thead th {\n",
       "        text-align: right;\n",
       "    }\n",
       "</style>\n",
       "<table border=\"1\" class=\"dataframe\">\n",
       "  <thead>\n",
       "    <tr style=\"text-align: right;\">\n",
       "      <th></th>\n",
       "      <th>y_yes</th>\n",
       "    </tr>\n",
       "  </thead>\n",
       "  <tbody>\n",
       "    <tr>\n",
       "      <th>0</th>\n",
       "      <td>0</td>\n",
       "    </tr>\n",
       "    <tr>\n",
       "      <th>1</th>\n",
       "      <td>0</td>\n",
       "    </tr>\n",
       "    <tr>\n",
       "      <th>2</th>\n",
       "      <td>0</td>\n",
       "    </tr>\n",
       "    <tr>\n",
       "      <th>3</th>\n",
       "      <td>0</td>\n",
       "    </tr>\n",
       "    <tr>\n",
       "      <th>4</th>\n",
       "      <td>0</td>\n",
       "    </tr>\n",
       "  </tbody>\n",
       "</table>\n",
       "</div>"
      ],
      "text/plain": [
       "   y_yes\n",
       "0      0\n",
       "1      0\n",
       "2      0\n",
       "3      0\n",
       "4      0"
      ]
     },
     "execution_count": 56,
     "metadata": {},
     "output_type": "execute_result"
    }
   ],
   "source": [
    "ytrainSMOTE.head(5)"
   ]
  },
  {
   "cell_type": "code",
   "execution_count": 57,
   "metadata": {},
   "outputs": [
    {
     "data": {
      "text/plain": [
       "Text(0,0.5,'Frequency')"
      ]
     },
     "execution_count": 57,
     "metadata": {},
     "output_type": "execute_result"
    },
    {
     "data": {
      "image/png": "[encoded data removed]",
      "text/plain": [
       "<Figure size 432x288 with 1 Axes>"
      ]
     },
     "metadata": {},
     "output_type": "display_data"
    }
   ],
   "source": [
    "pd.value_counts(ytrainSMOTE['y_yes']).plot.bar()\n",
    "plt.title(\"'Yes-subscribe' class histogram for train data\")\n",
    "plt.xlabel(\"Class labels : 'Yes=1' and 'No=0'\")\n",
    "plt.ylabel('Frequency')\n"
   ]
  },
  {
   "cell_type": "code",
   "execution_count": 58,
   "metadata": {},
   "outputs": [
    {
     "name": "stdout",
     "output_type": "stream",
     "text": [
      "(31647, 50)\n",
      "(55890, 50)\n"
     ]
    }
   ],
   "source": [
    "print(xtrain.shape)\n",
    "xtrainSMOTE.reshape(-1,3)\n",
    "print(xtrainSMOTE.shape)"
   ]
  },
  {
   "cell_type": "code",
   "execution_count": 59,
   "metadata": {},
   "outputs": [
    {
     "data": {
      "text/plain": [
       "Int64Index([1, 0, 2], dtype='int64')"
      ]
     },
     "execution_count": 59,
     "metadata": {},
     "output_type": "execute_result"
    }
   ],
   "source": [
    "top3features.index"
   ]
  },
  {
   "cell_type": "code",
   "execution_count": 60,
   "metadata": {},
   "outputs": [],
   "source": [
    "OrigxtrainSMOTE =xtrainSMOTE\n",
    "SubxtrainSMOTE = xtrainSMOTE[0::,top3features.index]\n"
   ]
  },
  {
   "cell_type": "code",
   "execution_count": 61,
   "metadata": {},
   "outputs": [
    {
     "data": {
      "text/plain": [
       "array([[ 3.12000000e+02,  3.00000000e+01,  2.00000000e+01],\n",
       "       [-1.03400000e+03,  4.60000000e+01,  7.00000000e+00],\n",
       "       [ 8.55000000e+02,  3.50000000e+01,  1.20000000e+01],\n",
       "       ...,\n",
       "       [ 1.15413015e+04,  3.60000000e+01,  2.37963487e+01],\n",
       "       [ 6.86685299e+02,  2.48426497e+01,  2.55786751e+01],\n",
       "       [ 2.88217095e+03,  3.22927377e+01,  2.87821307e+00]])"
      ]
     },
     "execution_count": 61,
     "metadata": {},
     "output_type": "execute_result"
    }
   ],
   "source": [
    "SubxtrainSMOTE\n",
    "#top3features.index"
   ]
  },
  {
   "cell_type": "markdown",
   "metadata": {},
   "source": [
    "# Training the Logistic Regression Model classifier\n",
    "   - Using top3 features revealed based on Feature importance ranking using Random Forest Classifier"
   ]
  },
  {
   "cell_type": "code",
   "execution_count": 62,
   "metadata": {},
   "outputs": [
    {
     "data": {
      "text/plain": [
       "Index(['age', 'balance', 'day', 'campaign', 'pdays', 'previous', 'job_admin.',\n",
       "       'job_blue-collar', 'job_entrepreneur', 'job_housemaid',\n",
       "       'job_management', 'job_retired', 'job_self-employed', 'job_services',\n",
       "       'job_student', 'job_technician', 'job_unemployed', 'job_unknown',\n",
       "       'marital_divorced', 'marital_married', 'marital_single',\n",
       "       'education_primary', 'education_secondary', 'education_tertiary',\n",
       "       'education_unknown', 'default_no', 'default_yes', 'housing_no',\n",
       "       'housing_yes', 'loan_no', 'loan_yes', 'contact_cellular',\n",
       "       'contact_telephone', 'contact_unknown', 'month_apr', 'month_aug',\n",
       "       'month_dec', 'month_feb', 'month_jan', 'month_jul', 'month_jun',\n",
       "       'month_mar', 'month_may', 'month_nov', 'month_oct', 'month_sep',\n",
       "       'poutcome_failure', 'poutcome_other', 'poutcome_success',\n",
       "       'poutcome_unknown', 'y_yes'],\n",
       "      dtype='object')"
      ]
     },
     "execution_count": 62,
     "metadata": {},
     "output_type": "execute_result"
    }
   ],
   "source": [
    "test.columns"
   ]
  },
  {
   "cell_type": "code",
   "execution_count": 63,
   "metadata": {},
   "outputs": [],
   "source": [
    "# Pre-processing step to normalize features\n",
    "from sklearn.preprocessing import normalize as norml\n",
    "\n",
    "Origxtest = test.drop('y_yes',axis=1)\n",
    "\n",
    "xtest = test[top3features]\n",
    "ytest = test[\"y_yes\"]\n",
    "\n",
    "SubxtrainSMOTEnorm = norml(SubxtrainSMOTE)\n",
    "xtestnorm = norml(xtest)"
   ]
  },
  {
   "cell_type": "code",
   "execution_count": 64,
   "metadata": {},
   "outputs": [
    {
     "data": {
      "text/plain": [
       "array([[ 3.12000000e+02,  3.00000000e+01,  2.00000000e+01],\n",
       "       [-1.03400000e+03,  4.60000000e+01,  7.00000000e+00],\n",
       "       [ 8.55000000e+02,  3.50000000e+01,  1.20000000e+01],\n",
       "       ...,\n",
       "       [ 1.15413015e+04,  3.60000000e+01,  2.37963487e+01],\n",
       "       [ 6.86685299e+02,  2.48426497e+01,  2.55786751e+01],\n",
       "       [ 2.88217095e+03,  3.22927377e+01,  2.87821307e+00]])"
      ]
     },
     "execution_count": 64,
     "metadata": {},
     "output_type": "execute_result"
    }
   ],
   "source": [
    "SubxtrainSMOTE"
   ]
  },
  {
   "cell_type": "code",
   "execution_count": 65,
   "metadata": {},
   "outputs": [],
   "source": [
    "from sklearn.linear_model import LogisticRegression\n",
    "from sklearn.metrics import roc_auc_score\n",
    "from sklearn.model_selection import cross_val_score\n",
    "\n",
    "# create an instance of the class (class object) usiing default parameters\n",
    "LogRegr = LogisticRegression()\n",
    "\n",
    "LogRegr = LogisticRegression(penalty='l1', solver='liblinear')\n",
    "\n",
    "\n"
   ]
  },
  {
   "cell_type": "code",
   "execution_count": 66,
   "metadata": {},
   "outputs": [],
   "source": [
    "SubxtrainSMOTE_arr = np.array(SubxtrainSMOTEnorm)\n",
    "ytrainSMOTE_arr = np.array(ytrainSMOTE)"
   ]
  },
  {
   "cell_type": "code",
   "execution_count": 67,
   "metadata": {},
   "outputs": [],
   "source": [
    "\n",
    "resultROC = cross_val_score(LogRegr,SubxtrainSMOTEnorm,ytrainSMOTE_arr.ravel(),cv=5,scoring='roc_auc')\n"
   ]
  },
  {
   "cell_type": "code",
   "execution_count": 68,
   "metadata": {
    "scrolled": true
   },
   "outputs": [
    {
     "name": "stdout",
     "output_type": "stream",
     "text": [
      "0.5921147574051873\n"
     ]
    }
   ],
   "source": [
    "print(resultROC.mean())\n"
   ]
  },
  {
   "cell_type": "code",
   "execution_count": 69,
   "metadata": {},
   "outputs": [
    {
     "data": {
      "text/plain": [
       "LogisticRegression(C=1.0, class_weight=None, dual=False, fit_intercept=True,\n",
       "          intercept_scaling=1, max_iter=100, multi_class='ovr', n_jobs=1,\n",
       "          penalty='l1', random_state=None, solver='liblinear', tol=0.0001,\n",
       "          verbose=0, warm_start=False)"
      ]
     },
     "execution_count": 69,
     "metadata": {},
     "output_type": "execute_result"
    }
   ],
   "source": [
    "LogRegr.fit(SubxtrainSMOTEnorm,ytrainSMOTE_arr.ravel())"
   ]
  },
  {
   "cell_type": "code",
   "execution_count": 70,
   "metadata": {},
   "outputs": [
    {
     "data": {
      "text/plain": [
       "array([[ 0.431666  , -0.02691717, -1.040218  ]])"
      ]
     },
     "execution_count": 70,
     "metadata": {},
     "output_type": "execute_result"
    }
   ],
   "source": [
    "LogRegr.coef_"
   ]
  },
  {
   "cell_type": "code",
   "execution_count": 71,
   "metadata": {},
   "outputs": [
    {
     "data": {
      "text/plain": [
       "array([-0.24923626])"
      ]
     },
     "execution_count": 71,
     "metadata": {},
     "output_type": "execute_result"
    }
   ],
   "source": [
    "LogRegr.intercept_"
   ]
  },
  {
   "cell_type": "code",
   "execution_count": 72,
   "metadata": {},
   "outputs": [
    {
     "data": {
      "text/plain": [
       "0.591563019416705"
      ]
     },
     "execution_count": 72,
     "metadata": {},
     "output_type": "execute_result"
    }
   ],
   "source": [
    "testPredY = [x[1] for x in LogRegr.predict_proba(norml(xtest))]\n",
    "testPredY\n",
    "\n",
    "AUCResultLogisXtop3= roc_auc_score(ytest,testPredY)\n",
    "AUCResultLogisXtop3"
   ]
  },
  {
   "cell_type": "markdown",
   "metadata": {},
   "source": [
    "# Training 2nd version of the Logistic Regression Model classifier\n",
    "   - subset and drop features based on the redundant features identified & Retrain Logistic Regression Classifier based on new feature set where redundant features were dropped. Recall result after VIF."
   ]
  },
  {
   "cell_type": "markdown",
   "metadata": {},
   "source": [
    "##### Subset and drop based on the redundant features identified\n"
   ]
  },
  {
   "cell_type": "code",
   "execution_count": 73,
   "metadata": {},
   "outputs": [
    {
     "data": {
      "text/plain": [
       "0.6904988683103561"
      ]
     },
     "execution_count": 73,
     "metadata": {},
     "output_type": "execute_result"
    }
   ],
   "source": [
    "OrigxtrainSMOTE[0::,pd.Series(newfeatures).index]\n",
    "#SubxtrainSMOTE = xtrainSMOTE[0::,top3features.index]\n",
    "resultROC = cross_val_score(LogRegr,norml(OrigxtrainSMOTE[0::,pd.Series(newfeatures).index]),ytrainSMOTE_arr.ravel(),cv=5,scoring='roc_auc')\n",
    "resultROC.mean()"
   ]
  },
  {
   "cell_type": "markdown",
   "metadata": {},
   "source": [
    "##### Retrain Logistic Regression Classifier based on new feature set where redundant features were dropped.\n",
    "Recall result after VIF. "
   ]
  },
  {
   "cell_type": "code",
   "execution_count": 74,
   "metadata": {},
   "outputs": [
    {
     "data": {
      "text/plain": [
       "LogisticRegression(C=1.0, class_weight=None, dual=False, fit_intercept=True,\n",
       "          intercept_scaling=1, max_iter=100, multi_class='ovr', n_jobs=1,\n",
       "          penalty='l1', random_state=None, solver='liblinear', tol=0.0001,\n",
       "          verbose=0, warm_start=False)"
      ]
     },
     "execution_count": 74,
     "metadata": {},
     "output_type": "execute_result"
    }
   ],
   "source": [
    "LogRegr.fit(norml(OrigxtrainSMOTE[0::,pd.Series(newfeatures).index]),ytrainSMOTE_arr.ravel())"
   ]
  },
  {
   "cell_type": "code",
   "execution_count": 75,
   "metadata": {},
   "outputs": [
    {
     "data": {
      "text/plain": [
       "array([[ -0.34132813,   0.46574051,  -0.8625365 ,  -7.15460309,\n",
       "          0.73118185,  14.81846595,   0.        ,  -0.88413536,\n",
       "          0.        ,   0.        ,   0.        ,  24.53876586,\n",
       "          0.        ,   0.        ,   0.        ,  -5.25341386,\n",
       "          0.        ,   0.        ,   0.        , -23.09605624,\n",
       "          3.17554771,  -2.90257476,   0.        ,  19.61124948,\n",
       "          0.        ,   0.        ,   0.        ,  25.19759256,\n",
       "        -10.6947931 ,   4.02460662,  -9.71915653,  35.43129379,\n",
       "          0.        , -39.17154201,  31.29264663, -35.11688412]])"
      ]
     },
     "execution_count": 75,
     "metadata": {},
     "output_type": "execute_result"
    }
   ],
   "source": [
    "LogRegr.coef_"
   ]
  },
  {
   "cell_type": "code",
   "execution_count": 76,
   "metadata": {},
   "outputs": [
    {
     "data": {
      "text/plain": [
       "array([-0.32575849])"
      ]
     },
     "execution_count": 76,
     "metadata": {},
     "output_type": "execute_result"
    }
   ],
   "source": [
    "LogRegr.intercept_"
   ]
  },
  {
   "cell_type": "code",
   "execution_count": 77,
   "metadata": {},
   "outputs": [
    {
     "data": {
      "text/plain": [
       "0.4639713252122228"
      ]
     },
     "execution_count": 77,
     "metadata": {},
     "output_type": "execute_result"
    }
   ],
   "source": [
    "testPredY = [x[1] for x in LogRegr.predict_proba(norml(Origxtest[newfeatures.values]))]\n",
    "testPredY\n",
    "\n",
    "AUCResultLogisXafterVIF= roc_auc_score(ytest,testPredY)\n",
    "AUCResultLogisXafterVIF"
   ]
  },
  {
   "cell_type": "markdown",
   "metadata": {},
   "source": [
    "# Naive Bayes Classifier"
   ]
  },
  {
   "cell_type": "code",
   "execution_count": 78,
   "metadata": {},
   "outputs": [
    {
     "data": {
      "text/plain": [
       "(55890, 3)"
      ]
     },
     "execution_count": 78,
     "metadata": {},
     "output_type": "execute_result"
    }
   ],
   "source": [
    "#Note, we are NOT using a subset of the features\n",
    "SubxtrainSMOTE.shape"
   ]
  },
  {
   "cell_type": "code",
   "execution_count": 79,
   "metadata": {},
   "outputs": [
    {
     "data": {
      "text/plain": [
       "(55890, 50)"
      ]
     },
     "execution_count": 79,
     "metadata": {},
     "output_type": "execute_result"
    }
   ],
   "source": [
    "OrigxtrainSMOTE.shape"
   ]
  },
  {
   "cell_type": "code",
   "execution_count": 80,
   "metadata": {},
   "outputs": [],
   "source": [
    "from sklearn.naive_bayes import GaussianNB\n",
    "gnb = GaussianNB()\n"
   ]
  },
  {
   "cell_type": "code",
   "execution_count": 81,
   "metadata": {},
   "outputs": [
    {
     "name": "stdout",
     "output_type": "stream",
     "text": [
      "0.7988818360170645\n"
     ]
    }
   ],
   "source": [
    "resultROCgnb = cross_val_score(gnb,OrigxtrainSMOTE,ytrainSMOTE_arr.ravel(),cv=5,scoring='roc_auc')\n",
    "print(resultROCgnb.mean())"
   ]
  },
  {
   "cell_type": "code",
   "execution_count": 82,
   "metadata": {},
   "outputs": [
    {
     "data": {
      "text/plain": [
       "GaussianNB(priors=None)"
      ]
     },
     "execution_count": 82,
     "metadata": {},
     "output_type": "execute_result"
    }
   ],
   "source": [
    "gnb.fit(OrigxtrainSMOTE,ytrainSMOTE_arr.ravel())"
   ]
  },
  {
   "cell_type": "code",
   "execution_count": 83,
   "metadata": {},
   "outputs": [
    {
     "data": {
      "text/plain": [
       "array([0.5, 0.5])"
      ]
     },
     "execution_count": 83,
     "metadata": {},
     "output_type": "execute_result"
    }
   ],
   "source": [
    "gnb.class_prior_"
   ]
  },
  {
   "cell_type": "code",
   "execution_count": 84,
   "metadata": {},
   "outputs": [
    {
     "data": {
      "text/plain": [
       "0.7470029065896571"
      ]
     },
     "execution_count": 84,
     "metadata": {},
     "output_type": "execute_result"
    }
   ],
   "source": [
    "#gnb.fit(xtrainSMOTE,ytrain)\n",
    "YPredOrigx_gnb = [x[1] for x in gnb.predict_proba(Origxtest)]\n",
    "AUCResultNB = roc_auc_score(ytest,YPredOrigx_gnb)\n",
    "AUCResultNB"
   ]
  },
  {
   "cell_type": "markdown",
   "metadata": {},
   "source": [
    "# Decision Tree"
   ]
  },
  {
   "cell_type": "code",
   "execution_count": 85,
   "metadata": {},
   "outputs": [],
   "source": [
    "from sklearn import tree\n",
    "from sklearn.model_selection import GridSearchCV\n",
    "\n",
    "Dtree = tree.DecisionTreeClassifier()"
   ]
  },
  {
   "cell_type": "code",
   "execution_count": 86,
   "metadata": {},
   "outputs": [],
   "source": [
    "#Dtree.params = {'max_depth' : [x for x in np.arange(3,5)],'min_samples_split' : [int(x) for x in nrows_train*np.arange(0.1,0.6,0.1)],'min_samples_leaf' : [int(x) for x in nrows_train*np.arange(0.1,0.6,0.1)],'max_leaf_nodes' :[x for x in np.arange(10,16,1)]}\n",
    "\n",
    "#Dtree_CV = GridSearchCV(estimator=Dtree,param_grid=Dtree.params,cv=5,scoring='roc_auc')"
   ]
  },
  {
   "cell_type": "code",
   "execution_count": 87,
   "metadata": {},
   "outputs": [
    {
     "data": {
      "text/plain": [
       "55890"
      ]
     },
     "execution_count": 87,
     "metadata": {},
     "output_type": "execute_result"
    }
   ],
   "source": [
    "nrows_train = len(OrigxtrainSMOTE)\n",
    "nrows_train"
   ]
  },
  {
   "cell_type": "code",
   "execution_count": 88,
   "metadata": {},
   "outputs": [],
   "source": [
    "Dtree.params = {'max_depth' : [x for x in np.arange(3,6)],'min_samples_split' : [int(x) for x in nrows_train*np.arange(0.1,0.6,0.1)],'min_samples_leaf' : [int(x) for x in nrows_train*np.arange(0.1,0.8,0.1)]}\n",
    "Dtree_CV = GridSearchCV(estimator=Dtree,param_grid=Dtree.params,cv=5,scoring='roc_auc')"
   ]
  },
  {
   "cell_type": "code",
   "execution_count": 89,
   "metadata": {},
   "outputs": [
    {
     "data": {
      "text/plain": [
       "DecisionTreeClassifier(class_weight=None, criterion='gini', max_depth=3,\n",
       "            max_features=None, max_leaf_nodes=None,\n",
       "            min_impurity_decrease=0.0, min_impurity_split=None,\n",
       "            min_samples_leaf=5589, min_samples_split=5589,\n",
       "            min_weight_fraction_leaf=0.0, presort=False, random_state=None,\n",
       "            splitter='best')"
      ]
     },
     "execution_count": 89,
     "metadata": {},
     "output_type": "execute_result"
    }
   ],
   "source": [
    "Dtree_CV.fit(OrigxtrainSMOTE,ytrainSMOTE_arr.ravel())\n",
    "\n",
    "Dtree_CV.best_estimator_"
   ]
  },
  {
   "cell_type": "code",
   "execution_count": 90,
   "metadata": {},
   "outputs": [
    {
     "data": {
      "text/plain": [
       "0.8177681116522337"
      ]
     },
     "execution_count": 90,
     "metadata": {},
     "output_type": "execute_result"
    }
   ],
   "source": [
    "Dtree_CV.best_score_"
   ]
  },
  {
   "cell_type": "code",
   "execution_count": 91,
   "metadata": {},
   "outputs": [
    {
     "name": "stdout",
     "output_type": "stream",
     "text": [
      "0.6651027312956849\n"
     ]
    }
   ],
   "source": [
    "PredTresult = [x[1] for x in Dtree_CV.best_estimator_.predict_proba(Origxtest)]\n",
    "#print(PredTresult)\n",
    "AUCResultDtree = roc_auc_score(ytest,PredTresult)\n",
    "print(AUCResultDtree)\n"
   ]
  },
  {
   "cell_type": "markdown",
   "metadata": {},
   "source": [
    "# Gradient Boosted Tree"
   ]
  },
  {
   "cell_type": "code",
   "execution_count": 92,
   "metadata": {},
   "outputs": [],
   "source": [
    "from sklearn.ensemble import GradientBoostingClassifier\n",
    "from sklearn.model_selection import GridSearchCV"
   ]
  },
  {
   "cell_type": "code",
   "execution_count": 93,
   "metadata": {},
   "outputs": [],
   "source": [
    "GBC = GradientBoostingClassifier(random_state=4)"
   ]
  },
  {
   "cell_type": "code",
   "execution_count": 169,
   "metadata": {},
   "outputs": [],
   "source": [
    "#GBC.params = {'max_depth' : [x for x in np.arange(6,10)],'min_samples_split' : [int(x) for x in nrows_train*np.arange(0.1,0.6,0.2)],'min_samples_leaf' : [int(x) for x in nrows_train*np.arange(0.1,0.9,0.1)],'max_leaf_nodes' :[x for x in np.arange(5,10,1)]}\n",
    "\n",
    "#GBC_CV = GridSearchCV(estimator= GBC,param_grid= GBC.params)"
   ]
  },
  {
   "cell_type": "code",
   "execution_count": 94,
   "metadata": {},
   "outputs": [],
   "source": [
    "GBCparams = {'n_estimators' : [200],'max_depth' : [x for x in np.arange(3,6)],'min_samples_split' : [int(x) for x in nrows_train*np.arange(0.02,0.06,0.02)],'min_samples_leaf' : [int(x) for x in nrows_train*np.arange(0.02,0.06,0.02)]}\n",
    "\n",
    "GBC_CV = GridSearchCV(estimator= GBC,param_grid= GBCparams,n_jobs=3)"
   ]
  },
  {
   "cell_type": "code",
   "execution_count": 171,
   "metadata": {},
   "outputs": [],
   "source": [
    "#Previously used : result on train_cross val = 0.5, result on test =0.64\n",
    "#GBCparams = {'max_depth' : [x for x in np.arange(3,7)],'min_samples_split' : [int(x) for x in nrows_train*np.arange(0.02,0.06,0.02)],'min_samples_leaf' : [int(x) for x in nrows_train*np.arange(0.4,0.8,0.1)]}\n",
    "\n",
    "#GBC_CV = GridSearchCV(estimator= GBC,param_grid= GBCparams,n_jobs=3)"
   ]
  },
  {
   "cell_type": "code",
   "execution_count": 95,
   "metadata": {},
   "outputs": [
    {
     "data": {
      "text/plain": [
       "GridSearchCV(cv=None, error_score='raise',\n",
       "       estimator=GradientBoostingClassifier(criterion='friedman_mse', init=None,\n",
       "              learning_rate=0.1, loss='deviance', max_depth=3,\n",
       "              max_features=None, max_leaf_nodes=None,\n",
       "              min_impurity_decrease=0.0, min_impurity_split=None,\n",
       "              min_samples_leaf=1, min_samples_split=2,\n",
       "              min_weight_fraction_leaf=0.0, n_estimators=100,\n",
       "              presort='auto', random_state=4, subsample=1.0, verbose=0,\n",
       "              warm_start=False),\n",
       "       fit_params=None, iid=True, n_jobs=3,\n",
       "       param_grid={'n_estimators': [200], 'max_depth': [3, 4, 5], 'min_samples_split': [1117, 2235], 'min_samples_leaf': [1117, 2235]},\n",
       "       pre_dispatch='2*n_jobs', refit=True, return_train_score='warn',\n",
       "       scoring=None, verbose=0)"
      ]
     },
     "execution_count": 95,
     "metadata": {},
     "output_type": "execute_result"
    }
   ],
   "source": [
    "GBC_CV.fit(OrigxtrainSMOTE,ytrainSMOTE_arr.ravel())"
   ]
  },
  {
   "cell_type": "code",
   "execution_count": 96,
   "metadata": {},
   "outputs": [
    {
     "data": {
      "text/plain": [
       "GradientBoostingClassifier(criterion='friedman_mse', init=None,\n",
       "              learning_rate=0.1, loss='deviance', max_depth=3,\n",
       "              max_features=None, max_leaf_nodes=None,\n",
       "              min_impurity_decrease=0.0, min_impurity_split=None,\n",
       "              min_samples_leaf=2235, min_samples_split=1117,\n",
       "              min_weight_fraction_leaf=0.0, n_estimators=200,\n",
       "              presort='auto', random_state=4, subsample=1.0, verbose=0,\n",
       "              warm_start=False)"
      ]
     },
     "execution_count": 96,
     "metadata": {},
     "output_type": "execute_result"
    }
   ],
   "source": [
    "GBC_CV.best_estimator_"
   ]
  },
  {
   "cell_type": "code",
   "execution_count": 97,
   "metadata": {},
   "outputs": [
    {
     "data": {
      "text/plain": [
       "0.9232420826623725"
      ]
     },
     "execution_count": 97,
     "metadata": {},
     "output_type": "execute_result"
    }
   ],
   "source": [
    "GBC_CV.best_score_"
   ]
  },
  {
   "cell_type": "code",
   "execution_count": 98,
   "metadata": {},
   "outputs": [
    {
     "data": {
      "text/plain": [
       "0.7843365926258894"
      ]
     },
     "execution_count": 98,
     "metadata": {},
     "output_type": "execute_result"
    }
   ],
   "source": [
    "PredTresult = [x[1] for x in GBC_CV.best_estimator_.predict_proba(Origxtest)]\n",
    "\n",
    "AUCResultGBC = roc_auc_score(ytest,PredTresult)\n",
    "AUCResultGBC"
   ]
  },
  {
   "cell_type": "markdown",
   "metadata": {},
   "source": [
    "# Extreme Gradient boosted Machine"
   ]
  },
  {
   "cell_type": "code",
   "execution_count": 99,
   "metadata": {},
   "outputs": [],
   "source": [
    "from xgboost import XGBClassifier"
   ]
  },
  {
   "cell_type": "code",
   "execution_count": 100,
   "metadata": {},
   "outputs": [],
   "source": [
    "xgb = XGBClassifier(learning_rate=0.01,n_estimators=200, objective='binary:logistic',\n",
    "                    silent=True, nthread=1)"
   ]
  },
  {
   "cell_type": "code",
   "execution_count": 114,
   "metadata": {},
   "outputs": [],
   "source": [
    "#Gridparams = {\n",
    "#        'min_child_weight': [1, 5, 10],\n",
    "#        'gamma': [0.5,1.5],\n",
    "#        'subsample': [0.6, 0.8],\n",
    "#        'colsample_bytree': [0.5, 0.7],\n",
    "#        'max_depth': [3,6]\n",
    "#        }\n"
   ]
  },
  {
   "cell_type": "code",
   "execution_count": 101,
   "metadata": {},
   "outputs": [],
   "source": [
    "Gridparams = {\n",
    "        'min_child_weight': [1,5,10],\n",
    "        'gamma': [0.5,0.7],\n",
    "        'subsample': [0.6,0.8],\n",
    "        'colsample_bytree': [0.5, 0.7],\n",
    "        'max_depth': [3,6]\n",
    "        }\n"
   ]
  },
  {
   "cell_type": "code",
   "execution_count": 102,
   "metadata": {},
   "outputs": [],
   "source": [
    "grd_sch = GridSearchCV(estimator= xgb, n_jobs=3,param_grid= Gridparams,scoring = 'roc_auc',cv=5,return_train_score='True')"
   ]
  },
  {
   "cell_type": "code",
   "execution_count": 103,
   "metadata": {},
   "outputs": [
    {
     "data": {
      "text/plain": [
       "(55890, 50)"
      ]
     },
     "execution_count": 103,
     "metadata": {},
     "output_type": "execute_result"
    }
   ],
   "source": [
    "OrigxtrainSMOTE.shape"
   ]
  },
  {
   "cell_type": "code",
   "execution_count": 104,
   "metadata": {},
   "outputs": [
    {
     "data": {
      "text/plain": [
       "GridSearchCV(cv=5, error_score='raise',\n",
       "       estimator=XGBClassifier(base_score=0.5, booster='gbtree', colsample_bylevel=1,\n",
       "       colsample_bytree=1, gamma=0, learning_rate=0.01, max_delta_step=0,\n",
       "       max_depth=3, min_child_weight=1, missing=None, n_estimators=200,\n",
       "       n_jobs=1, nthread=1, objective='binary:logistic', random_state=0,\n",
       "       reg_alpha=0, reg_lambda=1, scale_pos_weight=1, seed=None,\n",
       "       silent=True, subsample=1),\n",
       "       fit_params=None, iid=True, n_jobs=3,\n",
       "       param_grid={'min_child_weight': [1, 5, 10], 'gamma': [0.5, 0.7], 'subsample': [0.6, 0.8], 'colsample_bytree': [0.5, 0.7], 'max_depth': [3, 6]},\n",
       "       pre_dispatch='2*n_jobs', refit=True, return_train_score='True',\n",
       "       scoring='roc_auc', verbose=0)"
      ]
     },
     "execution_count": 104,
     "metadata": {},
     "output_type": "execute_result"
    }
   ],
   "source": [
    "# code ref. : https://www.kaggle.com/tilii7/hyperparameter-grid-search-with-xgboost\n",
    "grd_sch.fit(OrigxtrainSMOTE,ytrainSMOTE_arr.ravel())\n"
   ]
  },
  {
   "cell_type": "code",
   "execution_count": 105,
   "metadata": {},
   "outputs": [
    {
     "data": {
      "text/plain": [
       "XGBClassifier(base_score=0.5, booster='gbtree', colsample_bylevel=1,\n",
       "       colsample_bytree=0.5, gamma=0.5, learning_rate=0.01,\n",
       "       max_delta_step=0, max_depth=6, min_child_weight=5, missing=None,\n",
       "       n_estimators=200, n_jobs=1, nthread=1, objective='binary:logistic',\n",
       "       random_state=0, reg_alpha=0, reg_lambda=1, scale_pos_weight=1,\n",
       "       seed=None, silent=True, subsample=0.6)"
      ]
     },
     "execution_count": 105,
     "metadata": {},
     "output_type": "execute_result"
    }
   ],
   "source": [
    "grd_sch.best_estimator_"
   ]
  },
  {
   "cell_type": "code",
   "execution_count": 106,
   "metadata": {},
   "outputs": [],
   "source": [
    "# Continue below after training finished "
   ]
  },
  {
   "cell_type": "code",
   "execution_count": 107,
   "metadata": {},
   "outputs": [
    {
     "data": {
      "text/plain": [
       "0.9635958198312824"
      ]
     },
     "execution_count": 107,
     "metadata": {},
     "output_type": "execute_result"
    }
   ],
   "source": [
    "grd_sch.best_score_"
   ]
  },
  {
   "cell_type": "code",
   "execution_count": 108,
   "metadata": {},
   "outputs": [],
   "source": [
    "#result = grd_sch.predict(xtest)\n",
    "#result\n",
    "#xtest.to_numpy()\n",
    "type(Origxtest)\n",
    "Origxtest_arr = np.array(Origxtest)"
   ]
  },
  {
   "cell_type": "code",
   "execution_count": 109,
   "metadata": {},
   "outputs": [
    {
     "data": {
      "text/plain": [
       "(13564, 50)"
      ]
     },
     "execution_count": 109,
     "metadata": {},
     "output_type": "execute_result"
    }
   ],
   "source": [
    "Origxtest_arr.shape"
   ]
  },
  {
   "cell_type": "code",
   "execution_count": 110,
   "metadata": {},
   "outputs": [
    {
     "data": {
      "text/plain": [
       "0.7726722752951349"
      ]
     },
     "execution_count": 110,
     "metadata": {},
     "output_type": "execute_result"
    }
   ],
   "source": [
    "Predresult = [x[1] for x in grd_sch.best_estimator_.predict_proba(Origxtest_arr)]\n",
    "#Predresult\n",
    "AUCResultXGB = roc_auc_score(np.array(ytest),Predresult)\n",
    "AUCResultXGB"
   ]
  },
  {
   "cell_type": "markdown",
   "metadata": {},
   "source": [
    "# Exreme Gradient boosted Machine"
   ]
  },
  {
   "cell_type": "markdown",
   "metadata": {},
   "source": [
    "#### No SMOTE, using inbuilt technique for handling imbalanced class"
   ]
  },
  {
   "cell_type": "code",
   "execution_count": 111,
   "metadata": {},
   "outputs": [],
   "source": [
    "n_yes0 = len(ytrain[ytrain==0])\n",
    "n_yes1 = len(ytrain[ytrain==1])"
   ]
  },
  {
   "cell_type": "code",
   "execution_count": 112,
   "metadata": {},
   "outputs": [
    {
     "data": {
      "text/plain": [
       "7.548622366288493"
      ]
     },
     "execution_count": 112,
     "metadata": {},
     "output_type": "execute_result"
    }
   ],
   "source": [
    "Ratio_0to1 = n_yes0/n_yes1\n",
    "Ratio_0to1"
   ]
  },
  {
   "cell_type": "code",
   "execution_count": 113,
   "metadata": {},
   "outputs": [],
   "source": [
    "from xgboost import XGBClassifier\n",
    "xgb = XGBClassifier(learning_rate=0.01, n_estimators=200, objective='binary:logistic',\n",
    "                    silent=True, nthread=1,scale_pos_weight=Ratio_0to1)"
   ]
  },
  {
   "cell_type": "code",
   "execution_count": 114,
   "metadata": {},
   "outputs": [],
   "source": [
    "#Gridparams = {\n",
    "#        'min_child_weight': [1, 5, 10],\n",
    "#        'gamma': [0.5, 1, 1.5, 2, 5],\n",
    "#        'subsample': [0.6, 0.8, 1.0],\n",
    "#        'colsample_bytree': [0.6, 0.8, 1.0],\n",
    "#        'max_depth': [6,8,10]\n",
    "#        }\n"
   ]
  },
  {
   "cell_type": "code",
   "execution_count": 115,
   "metadata": {},
   "outputs": [],
   "source": [
    "Gridparams = {\n",
    "        'min_child_weight': [1,5,10],\n",
    "        'gamma': [0.5,0.7],\n",
    "        'subsample': [0.6,0.8],\n",
    "        'colsample_bytree': [0.5, 0.7],\n",
    "        'max_depth': [3,6]\n",
    "        }\n"
   ]
  },
  {
   "cell_type": "code",
   "execution_count": 116,
   "metadata": {},
   "outputs": [],
   "source": [
    "from sklearn.model_selection import GridSearchCV\n",
    "grd_sch = GridSearchCV(estimator= xgb, param_grid= Gridparams,scoring = 'roc_auc',cv=5,n_jobs=3,return_train_score='True')"
   ]
  },
  {
   "cell_type": "code",
   "execution_count": 117,
   "metadata": {},
   "outputs": [
    {
     "data": {
      "text/plain": [
       "(31647, 50)"
      ]
     },
     "execution_count": 117,
     "metadata": {},
     "output_type": "execute_result"
    }
   ],
   "source": [
    "xtrain.shape"
   ]
  },
  {
   "cell_type": "markdown",
   "metadata": {},
   "source": [
    "##### Note NO SMOTE on xtrain & ytrain & NO subset of features, just original train dataset with all features"
   ]
  },
  {
   "cell_type": "code",
   "execution_count": 118,
   "metadata": {},
   "outputs": [
    {
     "data": {
      "text/plain": [
       "GridSearchCV(cv=5, error_score='raise',\n",
       "       estimator=XGBClassifier(base_score=0.5, booster='gbtree', colsample_bylevel=1,\n",
       "       colsample_bytree=1, gamma=0, learning_rate=0.01, max_delta_step=0,\n",
       "       max_depth=3, min_child_weight=1, missing=None, n_estimators=200,\n",
       "       n_jobs=1, nthread=1, objective='binary:logistic', random_state=0,\n",
       "       reg_alpha=0, reg_lambda=1, scale_pos_weight=7.548622366288493,\n",
       "       seed=None, silent=True, subsample=1),\n",
       "       fit_params=None, iid=True, n_jobs=3,\n",
       "       param_grid={'min_child_weight': [1, 5, 10], 'gamma': [0.5, 0.7], 'subsample': [0.6, 0.8], 'colsample_bytree': [0.5, 0.7], 'max_depth': [3, 6]},\n",
       "       pre_dispatch='2*n_jobs', refit=True, return_train_score='True',\n",
       "       scoring='roc_auc', verbose=0)"
      ]
     },
     "execution_count": 118,
     "metadata": {},
     "output_type": "execute_result"
    }
   ],
   "source": [
    "# code ref. : https://www.kaggle.com/tilii7/hyperparameter-grid-search-with-xgboost\n",
    "grd_sch.fit(xtrain,ytrain)\n"
   ]
  },
  {
   "cell_type": "code",
   "execution_count": 119,
   "metadata": {},
   "outputs": [
    {
     "data": {
      "text/plain": [
       "XGBClassifier(base_score=0.5, booster='gbtree', colsample_bylevel=1,\n",
       "       colsample_bytree=0.7, gamma=0.7, learning_rate=0.01,\n",
       "       max_delta_step=0, max_depth=6, min_child_weight=10, missing=None,\n",
       "       n_estimators=200, n_jobs=1, nthread=1, objective='binary:logistic',\n",
       "       random_state=0, reg_alpha=0, reg_lambda=1,\n",
       "       scale_pos_weight=7.548622366288493, seed=None, silent=True,\n",
       "       subsample=0.6)"
      ]
     },
     "execution_count": 119,
     "metadata": {},
     "output_type": "execute_result"
    }
   ],
   "source": [
    "grd_sch.best_estimator_"
   ]
  },
  {
   "cell_type": "code",
   "execution_count": 120,
   "metadata": {},
   "outputs": [
    {
     "data": {
      "text/plain": [
       "0.7873097351203717"
      ]
     },
     "execution_count": 120,
     "metadata": {},
     "output_type": "execute_result"
    }
   ],
   "source": [
    "grd_sch.best_score_"
   ]
  },
  {
   "cell_type": "code",
   "execution_count": 121,
   "metadata": {},
   "outputs": [
    {
     "data": {
      "text/plain": [
       "(13564, 50)"
      ]
     },
     "execution_count": 121,
     "metadata": {},
     "output_type": "execute_result"
    }
   ],
   "source": [
    "type(Origxtest)\n",
    "Origxtest_arr = np.array(Origxtest)\n",
    "Origxtest_arr.shape"
   ]
  },
  {
   "cell_type": "code",
   "execution_count": 122,
   "metadata": {},
   "outputs": [
    {
     "data": {
      "text/plain": [
       "0.7875757615454826"
      ]
     },
     "execution_count": 122,
     "metadata": {},
     "output_type": "execute_result"
    }
   ],
   "source": [
    "Predresult = [x[1] for x in grd_sch.best_estimator_.predict_proba(Origxtest)]\n",
    "Predresult\n",
    "AUCResultXGBnoSmote  = roc_auc_score(np.array(ytest),Predresult)\n",
    "AUCResultXGBnoSmote"
   ]
  },
  {
   "cell_type": "markdown",
   "metadata": {},
   "source": [
    "#### Results across all models"
   ]
  },
  {
   "cell_type": "code",
   "execution_count": 143,
   "metadata": {},
   "outputs": [],
   "source": [
    "Results = {'XGB_noSMOTE_prebuiltbalancer' : {'AUC' : AUCResultXGBnoSmote},\n",
    "          'XGB' : {'AUC': AUCResultXGB}, \n",
    "          'GradientBoostedTree' : {'AUC': AUCResultGBC},\n",
    "          'DecisionTree' : {'AUC' : AUCResultDtree},\n",
    "          'NaiveBayesClassifier' : {'AUC' : AUCResultNB},\n",
    "          'Logistic_Reg_top3features' : {'AUC' : AUCResultLogisXtop3},     \n",
    "          'Logistic_Reg_afterVIF' : {'AUC' : AUCResultLogisXafterVIF}}  "
   ]
  },
  {
   "cell_type": "code",
   "execution_count": 144,
   "metadata": {},
   "outputs": [
    {
     "data": {
      "text/plain": [
       "['XGB_noSMOTE_prebuiltbalancer',\n",
       " 'XGB',\n",
       " 'GradientBoostedTree',\n",
       " 'DecisionTree',\n",
       " 'NaiveBayesClassifier',\n",
       " 'Logistic_Reg_top3features',\n",
       " 'Logistic_Reg_afterVIF']"
      ]
     },
     "execution_count": 144,
     "metadata": {},
     "output_type": "execute_result"
    }
   ],
   "source": [
    "ModelNames = [m[0] for m in Results.items()] \n",
    "ModelNames\n",
    "\n"
   ]
  },
  {
   "cell_type": "code",
   "execution_count": 145,
   "metadata": {},
   "outputs": [],
   "source": [
    "AUC = [m[1]['AUC'] for m in Results.items()] "
   ]
  },
  {
   "cell_type": "code",
   "execution_count": 146,
   "metadata": {},
   "outputs": [
    {
     "data": {
      "text/html": [
       "<div>\n",
       "<style scoped>\n",
       "    .dataframe tbody tr th:only-of-type {\n",
       "        vertical-align: middle;\n",
       "    }\n",
       "\n",
       "    .dataframe tbody tr th {\n",
       "        vertical-align: top;\n",
       "    }\n",
       "\n",
       "    .dataframe thead th {\n",
       "        text-align: right;\n",
       "    }\n",
       "</style>\n",
       "<table border=\"1\" class=\"dataframe\">\n",
       "  <thead>\n",
       "    <tr style=\"text-align: right;\">\n",
       "      <th></th>\n",
       "      <th>ModelNames</th>\n",
       "      <th>AUC</th>\n",
       "    </tr>\n",
       "  </thead>\n",
       "  <tbody>\n",
       "    <tr>\n",
       "      <th>0</th>\n",
       "      <td>XGB_noSMOTE_prebuiltbalancer</td>\n",
       "      <td>0.787576</td>\n",
       "    </tr>\n",
       "    <tr>\n",
       "      <th>1</th>\n",
       "      <td>XGB</td>\n",
       "      <td>0.772672</td>\n",
       "    </tr>\n",
       "    <tr>\n",
       "      <th>2</th>\n",
       "      <td>GradientBoostedTree</td>\n",
       "      <td>0.784337</td>\n",
       "    </tr>\n",
       "    <tr>\n",
       "      <th>3</th>\n",
       "      <td>DecisionTree</td>\n",
       "      <td>0.665103</td>\n",
       "    </tr>\n",
       "    <tr>\n",
       "      <th>4</th>\n",
       "      <td>NaiveBayesClassifier</td>\n",
       "      <td>0.747003</td>\n",
       "    </tr>\n",
       "    <tr>\n",
       "      <th>5</th>\n",
       "      <td>Logistic_Reg_top3features</td>\n",
       "      <td>0.591563</td>\n",
       "    </tr>\n",
       "    <tr>\n",
       "      <th>6</th>\n",
       "      <td>Logistic_Reg_afterVIF</td>\n",
       "      <td>0.463971</td>\n",
       "    </tr>\n",
       "  </tbody>\n",
       "</table>\n",
       "</div>"
      ],
      "text/plain": [
       "                     ModelNames       AUC\n",
       "0  XGB_noSMOTE_prebuiltbalancer  0.787576\n",
       "1                           XGB  0.772672\n",
       "2           GradientBoostedTree  0.784337\n",
       "3                  DecisionTree  0.665103\n",
       "4          NaiveBayesClassifier  0.747003\n",
       "5     Logistic_Reg_top3features  0.591563\n",
       "6         Logistic_Reg_afterVIF  0.463971"
      ]
     },
     "execution_count": 146,
     "metadata": {},
     "output_type": "execute_result"
    }
   ],
   "source": [
    "dfplot = pd.DataFrame()\n",
    "dfplot['ModelNames']= ModelNames\n",
    "dfplot['AUC'] =AUC\n",
    "dfplot"
   ]
  },
  {
   "cell_type": "code",
   "execution_count": 147,
   "metadata": {},
   "outputs": [
    {
     "data": {
      "image/png": "[encoded data removed]",
      "text/plain": [
       "<Figure size 432x288 with 1 Axes>"
      ]
     },
     "metadata": {},
     "output_type": "display_data"
    }
   ],
   "source": [
    "plt.barh(ModelNames,AUC)\n",
    "plt.xlabel(\"AUC\",fontweight='bold')\n",
    "plt.title(\"AUC across all Models\",fontweight='bold')\n",
    "\n",
    "for i,v in enumerate(AUC) :\n",
    "    v= round(v,4)\n",
    "    plt.text(v,i,str(v),color='black')"
   ]
  },
  {
   "cell_type": "markdown",
   "metadata": {},
   "source": [
    "## <font color = \"blue\" > Conclusion \n",
    " **Extreme Gradient Boosted Machine emerged as the best performing model** as it had an AUC of 0.7876. \n",
    "   However, Gradient Boosted Tree followed closely in 2nd place with an AUC of 0.7843.\n",
    "   Note also, that a simple classifier such as Naive Bayes performed well with an AUC = 0.747, \n",
    "   the best of the non-ensemble models with a result sgnificantly higher than Logistic regression and Decision Tree."
   ]
  },
  {
   "cell_type": "markdown",
   "metadata": {},
   "source": [
    "## Future work\n",
    "Note that more time could have been sent tuning the models particularly the XGB.\n",
    "However time would not permit."
   ]
  },
  {
   "cell_type": "markdown",
   "metadata": {},
   "source": [
    "## References\n",
    "References :\n",
    "Feature Impt. Decision Trees & Random Forest\n",
    "\n",
    "https://medium.com/@srnghn/the-mathematics-of-decision-trees-random-forest-and-feature-importance-in-scikit-learn-and-spark-f2861df67e3\n",
    "\n",
    "Perform feature selection on training dataset only\n",
    "\n",
    "https://machinelearningmastery.com/an-introduction-to-feature-selection/\n",
    "\n",
    "\n",
    "\n",
    "Decision Tree Hyper-parameters:\n",
    "\n",
    "https://stackoverflow.com/questions/46480457/difference-between-min-samples-split-and-min-samples-leaf-in-sklearn-decisiontre\n",
    "\n",
    "\n",
    "Gradient Boosting :\n",
    "\n",
    "https://stats.stackexchange.com/questions/173390/gradient-boosting-tree-vs-random-forest\n",
    "\n",
    "http://blog.kaggle.com/2017/01/23/a-kaggle-master-explains-gradient-boosting/\n",
    "\n",
    "SMOTE :\n",
    "https://en.wikipedia.org/wiki/Oversampling_and_undersampling_in_data_analysis\n",
    "\n",
    "AUC :\n",
    "https://towardsdatascience.com/understanding-auc-roc-curve-68b2303cc9c5"
   ]
  }
 ],
 "metadata": {
  "kernelspec": {
   "display_name": "Python 3",
   "language": "python",
   "name": "python3"
  },
  "language_info": {
   "codemirror_mode": {
    "name": "ipython",
    "version": 3
   },
   "file_extension": ".py",
   "mimetype": "text/x-python",
   "name": "python",
   "nbconvert_exporter": "python",
   "pygments_lexer": "ipython3",
   "version": "3.6.5"
  }
 },
 "nbformat": 4,
 "nbformat_minor": 2
}
